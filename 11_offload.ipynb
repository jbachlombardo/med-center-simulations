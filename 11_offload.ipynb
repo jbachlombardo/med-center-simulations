{
 "cells": [
  {
   "cell_type": "code",
   "execution_count": 818,
   "metadata": {},
   "outputs": [
    {
     "name": "stdout",
     "output_type": "stream",
     "text": [
      "Once deleted, variables cannot be recovered. Proceed (y/[n])? y\n"
     ]
    },
    {
     "name": "stderr",
     "output_type": "stream",
     "text": [
      "ERROR:root:Invalid alias: The name clear can't be aliased because it is another magic command.\n",
      "ERROR:root:Invalid alias: The name more can't be aliased because it is another magic command.\n",
      "ERROR:root:Invalid alias: The name less can't be aliased because it is another magic command.\n",
      "ERROR:root:Invalid alias: The name man can't be aliased because it is another magic command.\n"
     ]
    }
   ],
   "source": [
    "%reset"
   ]
  },
  {
   "cell_type": "code",
   "execution_count": 819,
   "metadata": {},
   "outputs": [],
   "source": [
    "import numpy as np\n",
    "import pandas as pd\n",
    "from scipy import stats\n",
    "import matplotlib.pyplot as plt\n",
    "import math"
   ]
  },
  {
   "cell_type": "markdown",
   "metadata": {},
   "source": [
    "## NOTES ON TO TEST\n",
    "1. Figure out `n_flow_staff` necessary to not have wait time at `refine_complaint` under normal ops (no `offset`, currently at `flow_staff = 20` there appears to be a little bit of a wait\n",
    "    - Could be done using gradient descent that increases `n_flow_staff` to get to wait time of `0`\n",
    "2. Figure out balance between increasing `offload` and `flow_staff` to find point at which (a) no wait at `exam` \n",
    "\n",
    "## Changes from v10\n",
    "\n",
    "The goal is to test whether making the process such that flow staff follows patient through `refine_complaint`, `exam`, and `follow_up` steps can increase patient flow and reduce wait times.\n",
    "\n",
    "This requires reformatting the process flow so that a second `FlowStaff` server dictionary carries through those 3 steps to ensure that that particular server is always occupied, while also maintaining the original process setup that creates wait times between steps.\n",
    "\n",
    "A parameter `offload` is then introduced to determine how much of `Provider` time can be saved and therefore reduce wait times. This creates three components of the overall `serve_time_exam` that the patient spends at the `exam` step:\n",
    "- `serve_time_exam_flowstaff = serve_time_exam`\n",
    "- `serve_time_exam_provider = serve_time_exam * (1 - offload)`\n",
    "- `provider_time_saved = serve_time_exam * offload`\n",
    "\n",
    "where these pieces fit together like:\n",
    "\n",
    "<img src=\"11_offload_servetime_diagram.png\" width = 650>\n",
    "\n",
    "The `Provider` is then freed up a little bit sooner to attend to the next patient. As the `Provider` is bottleneck resource, this should in theory reduce wait times overall."
   ]
  },
  {
   "cell_type": "markdown",
   "metadata": {},
   "source": [
    "## Functions\n",
    "\n",
    "Updated for v11 with moving random draws before simulation"
   ]
  },
  {
   "cell_type": "markdown",
   "metadata": {},
   "source": [
    "*Same as originals*"
   ]
  },
  {
   "cell_type": "code",
   "execution_count": 820,
   "metadata": {},
   "outputs": [],
   "source": [
    "def generate_service_distribution_type_condition(data, condition_type, minimum = 2, skew = 0.05, n_samples = 10000) :\n",
    "    # Average service time for condition\n",
    "    avg = data.loc[data['Type'] == condition_type, 'Time_Mean'].item()\n",
    "    # Worst case upper limit for condition\n",
    "    worstcase = data.loc[data['Type'] == condition_type, 'Time_WorstCase'].item()\n",
    "    # % of time worst case for condition\n",
    "    perc_worst_case = data.loc[data['Type'] == condition_type, 'Perc_WorstCase'].item()\n",
    "    # St Dev based on % of time worst case occurs\n",
    "    std = worstcase / stats.skewnorm.ppf(1 - perc_worst_case, avg)\n",
    "    # Create distribution of 1000 samples based on condition type parameters\n",
    "    dist = stats.skewnorm.rvs(skew, loc = avg, scale = std, size = n_samples)\n",
    "    # Remove negative / too low results\n",
    "    dist[dist < avg / minimum] = avg / minimum\n",
    "    return dist"
   ]
  },
  {
   "cell_type": "code",
   "execution_count": 821,
   "metadata": {},
   "outputs": [],
   "source": [
    "def generate_service_distribution_process(data, process, minimum = 2, skew = 0.05, n_samples = 10000) :\n",
    "    # Average service time for condition\n",
    "    avg = data.loc[data['Process'] == process, 'Time_Mean'].item()\n",
    "    # Worst case upper limit for condition\n",
    "    worstcase = data.loc[data['Process'] == process, 'Time_WorstCase'].item()\n",
    "    # % of time worst case for condition\n",
    "    perc_worst_case = data.loc[data['Process'] == process, 'Perc_WorstCase'].item()\n",
    "    # St Dev based on % of time worst case occurs\n",
    "    std = worstcase / stats.skewnorm.ppf(1 - perc_worst_case, avg)\n",
    "    # Create distribution of 1000 samples based on condition type parameters\n",
    "    dist = stats.skewnorm.rvs(skew, loc = avg, scale = std, size = n_samples)\n",
    "    # Remove negative / too low results\n",
    "    dist[dist < avg / minimum] = avg / minimum\n",
    "    return dist"
   ]
  },
  {
   "cell_type": "code",
   "execution_count": 822,
   "metadata": {},
   "outputs": [],
   "source": [
    "def generate_service_time_type_condition(dist_dict) :\n",
    "    \"\"\"Get randomized service time based on type of condition\n",
    "    To be used only if step in model is Exam by provider\"\"\"\n",
    "    # Randomly choose type of condition, based on preexisting known probabilities\n",
    "    cond_type = ['Chronic', 'Preventative', 'Acute']\n",
    "    p_cond_type = [0.6, 0.2, 0.2]\n",
    "    type = np.random.choice(cond_type, p = p_cond_type)\n",
    "    # Return randomly chosen new service type from previously generated distributions\n",
    "    serve_time = np.random.choice(dist_dict[type])\n",
    "    return round(serve_time)"
   ]
  },
  {
   "cell_type": "code",
   "execution_count": 823,
   "metadata": {},
   "outputs": [],
   "source": [
    "def generate_service_time_process(process, process_dict) :\n",
    "    \"\"\"Get randomized service time based on process\n",
    "    To be used only all steps in model except Exam by provider\"\"\"\n",
    "    serve_time = np.random.choice(process_dict[process])\n",
    "    return round(serve_time)"
   ]
  },
  {
   "cell_type": "code",
   "execution_count": 824,
   "metadata": {},
   "outputs": [],
   "source": [
    "def mark_service_time(dictionary_service, count_of_completed_service, service_time_tracker_dict, list_service_times_completed) :\n",
    "    \"\"\"Reduce the service time left for each patient to complete step by 1\n",
    "    If service time  reduced to zero, remove patient from  dictionary, move to service completed, free up server\n",
    "    Return modified service time dictionary\n",
    "    In parallel, track completed service times to generate avg service time estimate post-simulation\"\"\"\n",
    "    # Reduce service time left to complete step\n",
    "    for k, v in dictionary_service.items() :\n",
    "        if np.isnan(v) :\n",
    "            continue\n",
    "        else :\n",
    "            dictionary_service[k] -= 1\n",
    "            # Count patient as completed step and free up server if service time is 0\n",
    "            if dictionary_service[k] == 0 :\n",
    "                count_of_completed_service += 1\n",
    "                dictionary_service[k] = np.nan\n",
    "    # For patients who are marked as completed, track the actual service time\n",
    "    # completion for noting after simulation\n",
    "    keys_for_removal = list()\n",
    "    for k in service_time_tracker_dict.keys() :\n",
    "        service_time_tracker_dict[k][0] += 1\n",
    "        if service_time_tracker_dict[k][0] == service_time_tracker_dict[k][1] :\n",
    "            list_service_times_completed.append(service_time_tracker_dict[k][1])\n",
    "            keys_for_removal.append(k)\n",
    "    for k in keys_for_removal :\n",
    "        del service_time_tracker_dict[k]\n",
    "    return dictionary_service, count_of_completed_service, list_service_times_completed"
   ]
  },
  {
   "cell_type": "code",
   "execution_count": 825,
   "metadata": {},
   "outputs": [],
   "source": [
    "def check_servers_free(dictionary_service) :\n",
    "    \"\"\"Verify if servers are free (denoted by np.nan as value for server key)\n",
    "    And, if free servers exist, how many\"\"\"\n",
    "    count_servers_free = 0\n",
    "    for k, v in dictionary_service.items() :\n",
    "        if np.isnan(v) :\n",
    "            count_servers_free += 1\n",
    "    return count_servers_free"
   ]
  },
  {
   "cell_type": "code",
   "execution_count": 826,
   "metadata": {},
   "outputs": [],
   "source": [
    "def how_many_to_move_from_where(dictionary_waiting, count_servers_free, count_n_arrivals) :\n",
    "    \"\"\"Determine how many people to move from wait list to service / from new arrivals to service\"\"\"\n",
    "    count_from_wait_list = min(len(dictionary_waiting.keys()), count_servers_free)\n",
    "    count_servers_free = count_servers_free - count_from_wait_list\n",
    "    count_from_new_arrivals = min(count_n_arrivals, count_servers_free)\n",
    "    return count_from_wait_list, count_from_new_arrivals"
   ]
  },
  {
   "cell_type": "code",
   "execution_count": 827,
   "metadata": {},
   "outputs": [],
   "source": [
    "def move_from_wait_list_to_service(dictionary_waiting, dictionary_service, count_from_wait_list, list_waiting_time, service_time_tracker_dict, process, empty_servers = True) :\n",
    "    \"\"\"Move patients from wait list to free servers\n",
    "    To be preceded by: if count_from_wait_list > 0\"\"\"\n",
    "    if empty_servers == True : # empty_servers = True for steps not using flow staff otherwise empty_servers pre-defined\n",
    "        empty_servers = [k for k, v in dictionary_service.items() if np.isnan(v)]\n",
    "    n_free_servers = len(empty_servers)\n",
    "    patients_on_wait_list = list(dictionary_waiting.keys()) # Remove sort to fix bug with sorting 9 / 10\n",
    "    patients_move_to_serve = patients_on_wait_list[:n_free_servers]\n",
    "    if (len(patients_move_to_serve) > 0) and (len(empty_servers) > 0) :\n",
    "        for i, m in enumerate(patients_move_to_serve) :\n",
    "            server_for_m = empty_servers[i]\n",
    "            list_waiting_time.append(dictionary_waiting[m])\n",
    "            del dictionary_waiting[m]\n",
    "            if process == 'Exam' :\n",
    "                serve_time = generate_service_time_type_condition(distribs_dict_type)\n",
    "            else :\n",
    "                serve_time = generate_service_time_process(process, distribs_dict_process)\n",
    "                if process == 'Refine_complaint' :\n",
    "                    serve_time += pass_through_steps['Time_Mean'].sum()\n",
    "            dictionary_service[server_for_m] = serve_time\n",
    "            unique_key = 'Service_' + str(serve_time) + '_' + str(p)\n",
    "            service_time_tracker_dict[unique_key] = [0, serve_time]\n",
    "    return dictionary_waiting, dictionary_service, list_waiting_time, service_time_tracker_dict"
   ]
  },
  {
   "cell_type": "code",
   "execution_count": 828,
   "metadata": {},
   "outputs": [],
   "source": [
    "def move_from_arrival_to_service(dictionary_service, count_from_new_arrivals, service_time_tracker_dict, process) :\n",
    "    \"\"\"Move patients from arrivals to free servers\n",
    "    To be preceded by: if count_from_new_arrivals > 0 \"\"\"\n",
    "    empty_servers = [k for k, v in dictionary_service.items() if np.isnan(v)]\n",
    "    arrivals_to_place = min(len(empty_servers), count_from_new_arrivals)\n",
    "    if (arrivals_to_place > 0) and (len(empty_servers) > 0) :\n",
    "        for i in range(arrivals_to_place) :\n",
    "            server_for_m = empty_servers[i]\n",
    "            if process == 'Exam' :\n",
    "                serve_time = generate_service_time_type_condition(distribs_dict_type)\n",
    "            else :\n",
    "                serve_time = generate_service_time_process(process, distribs_dict_process)\n",
    "                if process == 'Refine_complaint' :\n",
    "                    serve_time += pass_through_steps['Time_Mean'].sum()\n",
    "            dictionary_service[server_for_m] = serve_time\n",
    "            unique_key = 'Service_' + str(serve_time) + '_' + str(p)\n",
    "            service_time_tracker_dict[unique_key] = [0, serve_time]\n",
    "    return dictionary_service, arrivals_to_place, service_time_tracker_dict"
   ]
  },
  {
   "cell_type": "code",
   "execution_count": 829,
   "metadata": {},
   "outputs": [],
   "source": [
    "def add_to_wait_list(dictionary_waiting, count_n_arrivals, count_arrivals_placed) :\n",
    "    \"\"\"Move patients from arrivals to wait list\n",
    "    To be preceded by: if arrivals_placed < n_arrivals\"\"\"\n",
    "    count_diff = count_n_arrivals - count_arrivals_placed\n",
    "    wait_keys = list(dictionary_waiting.keys()) # Remove sort to fix bug with sorting 9 / 10\n",
    "    for i in range(count_diff) :\n",
    "        if len(wait_keys) < 1 :\n",
    "            new_waitname = 'Waiting' + str(i)\n",
    "            dictionary_waiting[new_waitname] = 1\n",
    "        else :\n",
    "            count_lastwaiter = int(wait_keys[-1][7:])\n",
    "            new_waitname = 'Waiting' + str(count_lastwaiter + i + 1)\n",
    "            dictionary_waiting[new_waitname] = 1\n",
    "    return dictionary_waiting"
   ]
  },
  {
   "cell_type": "code",
   "execution_count": 830,
   "metadata": {},
   "outputs": [],
   "source": [
    "def generate_step_objects(n_servers, n_periods) :\n",
    "    \"\"\"Function to generate step tracking objects\"\"\"\n",
    "    # Treat servers as dictionary to keep track of who is busy\n",
    "    # NaN means empty server\n",
    "    # If busy, dict will take form of {'Server#': n_minutes_left_service}\n",
    "    dictionary_servers = {}\n",
    "    for i in range(n_servers) :\n",
    "        servname = 'Server' + str(i)\n",
    "        dictionary_servers[servname] = np.nan\n",
    "    # Treat waiting as dictionary\n",
    "    # If someone waits, will be added to dictionary with form of {'Waiting#': n_minutes_waiting}\n",
    "    dictionary_waiting = {}\n",
    "    # Temporary tracker dictionary for service times\n",
    "    dictionary_track_serve_time = {}\n",
    "    # Holding lists for completed service times and completed waiting times (for measurement post-simulation)\n",
    "    list_waiting_times = list()\n",
    "    list_service_completed_times = list()\n",
    "    # Set counter for completed service to 0\n",
    "    count_service_completed = 0\n",
    "    # Array for holding onto step-by-step process\n",
    "    # Shape: number_of_periods x 4 -> [n_arrivals, n_being_served, n_waiting, n_completed]\n",
    "    tracker = np.zeros(shape = (n_periods, 4))\n",
    "    return dictionary_servers, dictionary_waiting, dictionary_track_serve_time, list_waiting_times, list_service_completed_times, count_service_completed, tracker"
   ]
  },
  {
   "cell_type": "code",
   "execution_count": 831,
   "metadata": {},
   "outputs": [],
   "source": [
    "def max_try_except(wait_time_list) :\n",
    "    \"\"\"Function to calculate summary stat of maximum wait times\n",
    "    Requires try/except block for np.max returning error when no wait times in list\"\"\"\n",
    "    try :\n",
    "        return np.max(wait_time_list)\n",
    "    except :\n",
    "        return 0"
   ]
  },
  {
   "cell_type": "markdown",
   "metadata": {},
   "source": [
    "*Rewritten for flow staff / exam step*"
   ]
  },
  {
   "cell_type": "code",
   "execution_count": 832,
   "metadata": {},
   "outputs": [],
   "source": [
    "def mark_service_time_flow_staff_steps(dictionary_service, count_of_completed_service, service_time_tracker_dict, list_service_times_completed, flowstaff = True) :\n",
    "    \"\"\"Reduce the service time left for each patient to complete step by 1\n",
    "    If service time  reduced to zero, remove patient from  dictionary, move to service completed, free up server\n",
    "    Return modified service time dictionary\n",
    "    In parallel, track completed service times to generate avg service time estimate post-simulation\"\"\"\n",
    "    # List of servers to move over (if patient completes step)\n",
    "    move_to_next_step = list()\n",
    "    # Reduce service time left to complete step\n",
    "    for k, v in dictionary_service.items() :\n",
    "        if np.isnan(v) :\n",
    "            continue\n",
    "        else :\n",
    "            dictionary_service[k] -= 1\n",
    "            # Count patient as completed step and free up server if service time is 0\n",
    "            if dictionary_service[k] == 0 :\n",
    "                count_of_completed_service += 1\n",
    "                move_to_next_step.append(k)\n",
    "                if flowstaff == True :\n",
    "                    dictionary_service[k] = np.inf # Hold as np.inf until reset -- ensure server not double used\n",
    "                else :\n",
    "                    dictionary_service[k] = np.nan # For if function being used on provider service dict\n",
    "    # For patients who are marked as completed, track the actual service time\n",
    "    # completion for noting after simulation\n",
    "    keys_for_removal = list()\n",
    "    for k in service_time_tracker_dict.keys() :\n",
    "        service_time_tracker_dict[k][0] += 1\n",
    "        if service_time_tracker_dict[k][0] == service_time_tracker_dict[k][1] :\n",
    "            list_service_times_completed.append(service_time_tracker_dict[k][1])\n",
    "            keys_for_removal.append(k)\n",
    "    for k in keys_for_removal :\n",
    "        del service_time_tracker_dict[k]\n",
    "    return dictionary_service, count_of_completed_service, move_to_next_step, list_service_times_completed"
   ]
  },
  {
   "cell_type": "code",
   "execution_count": 833,
   "metadata": {},
   "outputs": [],
   "source": [
    "def move_from_wait_list_to_service_exam(dictionary_waiting, dictionary_service_provider, dictionary_service_flow_staff, count_from_wait_list, list_waiting_time, service_time_tracker_dict_flow_staff, service_time_tracker_dict_provider, offload) :\n",
    "    \"\"\"Move patients from wait list to free servers\n",
    "    To be preceded by: if count_from_wait_list > 0\"\"\"\n",
    "    empty_providers = [k for k, v in dictionary_service_provider.items() if np.isnan(v)]\n",
    "    n_free_servers = len(empty_providers)\n",
    "    patients_on_wait_list = sorted(dictionary_waiting, key = dictionary_waiting.get, reverse = True)\n",
    "    patients_move_to_serve = patients_on_wait_list[:n_free_servers]\n",
    "    if (len(patients_move_to_serve) > 0) and (len(empty_providers) > 0) :\n",
    "        for i, m in enumerate(patients_move_to_serve) :\n",
    "            # Identify servers to be used\n",
    "            server_provider = empty_providers[i]\n",
    "            server_flow_staff = m\n",
    "            # Track waiting time and remove waiting patient from waiting dictionary \n",
    "            list_waiting_time.append(dictionary_waiting[m])\n",
    "            del dictionary_waiting[m]\n",
    "            # Generate service time for flow_staff and provider\n",
    "            total_serve_time = generate_service_time_type_condition(distribs_dict_type)\n",
    "            serve_time_flow_staff = total_serve_time\n",
    "            serve_time_provider = math.ceil(total_serve_time * (1 - offload))\n",
    "            # Place into service for both provider and flow_staff\n",
    "            dictionary_service_flow_staff[server_flow_staff] = serve_time_flow_staff\n",
    "            dictionary_service_provider[server_provider] = serve_time_provider\n",
    "            unique_key = 'Service_' + str(total_serve_time) + '_' + str(p)\n",
    "            service_time_tracker_dict_flow_staff[unique_key] = [0, serve_time_flow_staff]\n",
    "            service_time_tracker_dict_provider[unique_key] = [0, serve_time_provider]\n",
    "    return dictionary_waiting, dictionary_service_provider, dictionary_service_flow_staff, list_waiting_time, service_time_tracker_dict_flow_staff, service_time_tracker_dict_provider"
   ]
  },
  {
   "cell_type": "code",
   "execution_count": 834,
   "metadata": {},
   "outputs": [],
   "source": [
    "def move_from_arrival_to_service_exam(dictionary_service_provider, dictionary_service_flow_staff, count_from_new_arrivals, list_flow_staff, service_time_tracker_dict_flow_staff, service_time_tracker_dict_provider, offload) :\n",
    "    \"\"\"Move patients from arrivals to free servers\n",
    "    To be preceded by: if count_from_new_arrivals > 0 \"\"\"\n",
    "    empty_providers = [k for k, v in dictionary_service_provider.items() if np.isnan(v)]\n",
    "    arrivals_to_place = min(len(empty_providers), count_from_new_arrivals)\n",
    "    if (arrivals_to_place > 0) and (len(empty_providers) > 0) :\n",
    "        for i in range(arrivals_to_place) :\n",
    "            # Identify servers to be used -- provider from service dict, flow_staff from transition list created in previous setp\n",
    "            server_flow_staff = list_flow_staff[0]\n",
    "            list_flow_staff.remove(server_flow_staff) # Remove flow_staff server from list to be transitioned\n",
    "            server_provider = empty_providers[i]\n",
    "            # Generate service time for flow_staff and provider\n",
    "            total_serve_time = generate_service_time_type_condition(distribs_dict_type)\n",
    "            serve_time_flow_staff = total_serve_time\n",
    "            serve_time_provider = math.ceil(total_serve_time * (1 - offload))\n",
    "            # Place into service for both provider and flow_staff\n",
    "            dictionary_service_flow_staff[server_flow_staff] = serve_time_flow_staff\n",
    "            dictionary_service_provider[server_provider] = serve_time_provider\n",
    "            unique_key = 'Service_' + str(total_serve_time) + '_' + str(p)\n",
    "            service_time_tracker_dict_flow_staff[unique_key] = [0, serve_time_flow_staff]\n",
    "            service_time_tracker_dict_provider[unique_key] = [0, serve_time_provider]\n",
    "    return dictionary_service_provider, dictionary_service_flow_staff, arrivals_to_place, list_flow_staff, service_time_tracker_dict_flow_staff, service_time_tracker_dict_provider"
   ]
  },
  {
   "cell_type": "code",
   "execution_count": 835,
   "metadata": {},
   "outputs": [],
   "source": [
    "def move_from_arrival_to_service_follow_up(dictionary_service, count_from_new_arrivals, list_flow_staff, service_time_tracker_dict, process) :\n",
    "    \"\"\"Move patients from arrivals to free servers\n",
    "    To be preceded by: if count_from_new_arrivals > 0 \"\"\"\n",
    "    for i in range(count_from_new_arrivals) :\n",
    "        # Identify servers to be used -- provider from service dict, flow_staff from transition list created in previous setp\n",
    "        server = list_flow_staff[0]\n",
    "        list_flow_staff.remove(server) # Remove flow_staff server from list to be transitioned\n",
    "        # Generate service time for flow_staff and provider\n",
    "        serve_time = generate_service_time_process(process, distribs_dict_process)\n",
    "        # Place into service for both provider and flow_staff\n",
    "        dictionary_service[server] = serve_time\n",
    "        unique_key = 'Service_' + str(serve_time) + '_' + str(p)\n",
    "        service_time_tracker_dict[unique_key] = [0, serve_time]\n",
    "    return dictionary_service, service_time_tracker_dict"
   ]
  },
  {
   "cell_type": "code",
   "execution_count": 836,
   "metadata": {},
   "outputs": [],
   "source": [
    "def add_to_wait_list_exam(dictionary_waiting, server_list) :\n",
    "    \"\"\"Move patients from arrivals to wait list\n",
    "    To be preceded by: if arrivals_placed < n_arrivals\"\"\"\n",
    "    for s in server_list :\n",
    "        dictionary_waiting[s] = 1\n",
    "    return dictionary_waiting"
   ]
  },
  {
   "cell_type": "code",
   "execution_count": 837,
   "metadata": {},
   "outputs": [],
   "source": [
    "def reset_flowstaff_server(server_list, dict1, dict2, dict3) :\n",
    "    for s in server_list :\n",
    "        dict1[s] = np.nan\n",
    "        dict2[s] = np.nan\n",
    "        dict3[s] = np.nan\n",
    "    return dict1, dict2, dict3"
   ]
  },
  {
   "cell_type": "markdown",
   "metadata": {},
   "source": [
    "## Parameters"
   ]
  },
  {
   "cell_type": "code",
   "execution_count": 838,
   "metadata": {},
   "outputs": [],
   "source": [
    "# Estimates for how often the worst case scenario in patient service times occurs\n",
    "low = 0.05\n",
    "medium = 0.1\n",
    "high = 0.2"
   ]
  },
  {
   "cell_type": "code",
   "execution_count": 884,
   "metadata": {},
   "outputs": [],
   "source": [
    "# Providers available\n",
    "providers = {'Doctor': 9, 'Nurse': 5, 'FlowStaff': 20, 'CSR': 10}"
   ]
  },
  {
   "cell_type": "code",
   "execution_count": 885,
   "metadata": {},
   "outputs": [],
   "source": [
    "# Time estimates for each step in the patient journey\n",
    "# Time estimates for Exam by provider (currently NaN's) to come from times by condition type (below)\n",
    "# Consolidated by Step and Server to simplify\n",
    "# -key assumption1 : only preserving variability on steps that have variability built-in, rather than waiting time\n",
    "# -key assumption2 : steps that have no WorstCase are straight pass throughs and added to overall service time,\n",
    "#                    so only steps to be considered for queueing variability are check_in, refine_complaint,\n",
    "#                    exam, and checkout\n",
    "# -key assumption3 : CSR are split between check_in and check_out\n",
    "cols = ['Step', 'Process', 'Staff', 'Time_Mean', 'Time_WorstCase', 'Perc_WorstCase']\n",
    "checkin = ['Arrive', 'Check_in', 'CSR', 2, 3, low]\n",
    "wait = ['Arrive', 'Waiting_room', 'FlowStaff', 3, 0, low]\n",
    "to_room = ['Arrive', 'To_exam_room', 'FlowStaff', 1, 0, low]\n",
    "vitals = ['Exam_prep', 'Vitals_check', 'FlowStaff', 2, 0, low]\n",
    "refine_complaint = ['Exam_prep', 'Refine_complaint', 'FlowStaff', 15, 15, high] # Low for covid test, default high\n",
    "start_note = ['Exam_prep', 'Start_note', 'FlowStaff', 1, 0, low]\n",
    "exam = ['Exam_provider', 'Exam', 'Doctor', np.nan, np.nan, np.nan]\n",
    "follow_up = ['Exam_follow_up', 'Follow_up', 'FlowStaff', 5, 5, low]\n",
    "checkout = ['Conclude', 'Checkout', 'CSR', 5, 5, medium]\n",
    "process_flow = pd.DataFrame([checkin, wait, to_room, vitals, refine_complaint, start_note, exam, follow_up, checkout], columns = cols)\n",
    "process_flow['Servers'] = process_flow['Staff'].map(providers)\n",
    "process_flow.loc[process_flow['Staff'] == 'CSR', 'Servers'] = (process_flow.loc[process_flow['Staff'] == 'CSR', 'Servers'] / 2).astype(int)\n",
    "pass_through_steps = process_flow.loc[process_flow['Time_WorstCase'] == 0]\n",
    "variable_steps = process_flow.loc[process_flow['Time_WorstCase'] != 0]"
   ]
  },
  {
   "cell_type": "code",
   "execution_count": 886,
   "metadata": {},
   "outputs": [],
   "source": [
    "# Data table for drawing service times for patients\n",
    "cols = ['Type', 'Frequency', 'Time_Mean', 'Time_WorstCase', 'Perc_WorstCase']\n",
    "preventative = ['Preventative', 0.2, 30, 30, low]\n",
    "chronic = ['Chronic', 0.6, 30, 30, medium]\n",
    "acute = ['Acute', 0.2, 15, 5, low]\n",
    "base_case_types = pd.DataFrame([preventative, chronic, acute], columns = cols)"
   ]
  },
  {
   "cell_type": "code",
   "execution_count": 887,
   "metadata": {},
   "outputs": [],
   "source": [
    "# Arrivals to be modeled as poisson, scaling down to minute arrivals\n",
    "arrivals_day = 130 #* 0.05 # 5% arrivals = possibly covid\n",
    "arrivals_hour = arrivals_day / 7 # NOTE: Change for lunch break modeling\n",
    "arrivals_minute = arrivals_hour / 60\n",
    "arrivals_quarterhour = int(round(arrivals_hour / 4))"
   ]
  },
  {
   "cell_type": "code",
   "execution_count": 888,
   "metadata": {},
   "outputs": [],
   "source": [
    "# Model full day of continuous operations\n",
    "# Minutes are periods for analysis\n",
    "hours = 10\n",
    "n_periods = int(60 * hours)"
   ]
  },
  {
   "cell_type": "code",
   "execution_count": 889,
   "metadata": {},
   "outputs": [],
   "source": [
    "# Offload percentage\n",
    "offload = 0.0"
   ]
  },
  {
   "cell_type": "code",
   "execution_count": 890,
   "metadata": {},
   "outputs": [],
   "source": [
    "# List of processes to be cycled through\n",
    "processes_with_variability = variable_steps['Process'].to_list()"
   ]
  },
  {
   "cell_type": "markdown",
   "metadata": {},
   "source": [
    "## Simulation"
   ]
  },
  {
   "cell_type": "markdown",
   "metadata": {},
   "source": [
    "### Distributions creation"
   ]
  },
  {
   "cell_type": "code",
   "execution_count": 891,
   "metadata": {},
   "outputs": [],
   "source": [
    "# For processes with variability\n",
    "check_in_distribution = generate_service_distribution_process(process_flow, processes_with_variability[0])\n",
    "refine_complaint_distribution = generate_service_distribution_process(process_flow, processes_with_variability[1])\n",
    "follow_up_distribution = generate_service_distribution_process(process_flow, processes_with_variability[3])\n",
    "checkout_distribution = generate_service_distribution_process(process_flow, processes_with_variability[4])\n",
    "distribs_dict_process = {}\n",
    "for k, v in zip(processes_with_variability, [check_in_distribution, refine_complaint_distribution, np.nan, follow_up_distribution, checkout_distribution]) :\n",
    "    distribs_dict_process[k] = v"
   ]
  },
  {
   "cell_type": "code",
   "execution_count": 892,
   "metadata": {},
   "outputs": [],
   "source": [
    "# For condition types\n",
    "acute_distribution = generate_service_distribution_type_condition(base_case_types, 'Acute', skew = 0.05, n_samples = 10000)\n",
    "chronic_distribution = generate_service_distribution_type_condition(base_case_types, 'Chronic', skew = 0.05, n_samples = 10000)\n",
    "preventative_distribution = generate_service_distribution_type_condition(base_case_types, 'Preventative', skew = 0.05, n_samples = 10000)\n",
    "distribs_dict_type = {}\n",
    "for k, v in zip(['Acute', 'Chronic', 'Preventative'], [acute_distribution, chronic_distribution, preventative_distribution]) :\n",
    "    distribs_dict_type[k] = v"
   ]
  },
  {
   "cell_type": "markdown",
   "metadata": {},
   "source": [
    "### Holders creation"
   ]
  },
  {
   "cell_type": "code",
   "execution_count": 893,
   "metadata": {},
   "outputs": [],
   "source": [
    "# Holders for check_in step\n",
    "servers_check_in = variable_steps.loc[variable_steps['Process'] == processes_with_variability[0], 'Servers'].item()\n",
    "\n",
    "server_dict_check_in, waiting_dict_check_in, serve_time_track_dict_check_in, waiting_time_list_check_in, service_times_completed_list_check_in, service_completed_check_in, tracker_check_in = generate_step_objects(servers_check_in, n_periods)"
   ]
  },
  {
   "cell_type": "code",
   "execution_count": 894,
   "metadata": {},
   "outputs": [],
   "source": [
    "# Holders for refine_complaint step\n",
    "servers_refine_complaint = variable_steps.loc[variable_steps['Process'] == processes_with_variability[1], 'Servers'].item()\n",
    "\n",
    "server_dict_refine_complaint, waiting_dict_refine_complaint, serve_time_track_dict_refine_complaint, waiting_time_list_refine_complaint, service_times_completed_list_refine_complaint, service_completed_refine_complaint, tracker_refine_complaint = generate_step_objects(servers_refine_complaint, n_periods)"
   ]
  },
  {
   "cell_type": "code",
   "execution_count": 895,
   "metadata": {},
   "outputs": [],
   "source": [
    "# Holders for exam step\n",
    "servers_exam_provider = variable_steps.loc[variable_steps['Process'] == processes_with_variability[2], 'Servers'].item()\n",
    "\n",
    "server_dict_exam_provider, waiting_dict_exam_provider, serve_time_track_dict_exam_provider, waiting_time_list_exam_provider, service_times_completed_list_exam_provider, service_completed_exam_provider, tracker_exam = generate_step_objects(servers_exam_provider, n_periods)\n",
    "\n",
    "servers_exam_flow_staff = variable_steps.loc[variable_steps['Process'] == processes_with_variability[1], 'Servers'].item()\n",
    "\n",
    "server_dict_exam_flow_staff, waiting_dict_exam_flow_staff, serve_time_track_dict_exam_flow_staff, waiting_time_list_exam_flow_staff, service_times_completed_list_exam_flow_staff, service_completed_exam_flow_staff, _ = generate_step_objects(servers_exam_flow_staff, n_periods)"
   ]
  },
  {
   "cell_type": "code",
   "execution_count": 896,
   "metadata": {},
   "outputs": [],
   "source": [
    "# Holders for follow_up step\n",
    "servers_follow_up = variable_steps.loc[variable_steps['Process'] == processes_with_variability[3], 'Servers'].item()\n",
    "\n",
    "server_dict_follow_up, waiting_dict_follow_up, serve_time_track_dict_follow_up, waiting_time_list_follow_up, service_times_completed_list_follow_up, service_completed_follow_up, tracker_follow_up = generate_step_objects(servers_follow_up, n_periods)"
   ]
  },
  {
   "cell_type": "code",
   "execution_count": 897,
   "metadata": {},
   "outputs": [],
   "source": [
    "# Holders for checkout step\n",
    "servers_checkout = variable_steps.loc[variable_steps['Process'] == processes_with_variability[4], 'Servers'].item()\n",
    "\n",
    "server_dict_checkout, waiting_dict_checkout, serve_time_track_dict_checkout, waiting_time_list_checkout, service_times_completed_list_checkout, service_completed_checkout, tracker_checkout = generate_step_objects(servers_checkout, n_periods)"
   ]
  },
  {
   "cell_type": "markdown",
   "metadata": {},
   "source": [
    "### Process flow"
   ]
  },
  {
   "cell_type": "code",
   "execution_count": 898,
   "metadata": {
    "scrolled": false
   },
   "outputs": [],
   "source": [
    "for p in range(n_periods) :\n",
    "\n",
    "    # ARRIVALS INTO SYSTEM\n",
    "    \n",
    "    # ===== Modeled as set number for testing =====\n",
    "    if p % 15 == 0 :\n",
    "        if (p >= 0 and p < 180) or (p >= 240 and p < 479) :\n",
    "            n_arrivals_check_in = arrivals_quarterhour\n",
    "    else :\n",
    "        n_arrivals_check_in = 0\n",
    "    \n",
    "    # CHECK-IN\n",
    "    server_dict_check_in, service_completed_check_in, service_times_completed_list_check_in =  mark_service_time(server_dict_check_in, service_completed_check_in, serve_time_track_dict_check_in, service_times_completed_list_check_in)\n",
    "    n_servers_free_check_in = check_servers_free(server_dict_check_in)\n",
    "    from_wait_list_check_in, from_new_arrivals_check_in = how_many_to_move_from_where(waiting_dict_check_in, n_servers_free_check_in, n_arrivals_check_in)\n",
    "    if from_wait_list_check_in > 0 :\n",
    "        waiting_dict_check_in, server_dict_check_in, waiting_time_list_check_in, serve_time_track_dict_check_in = move_from_wait_list_to_service(waiting_dict_check_in, server_dict_check_in, from_wait_list_check_in, waiting_time_list_check_in, serve_time_track_dict_check_in, processes_with_variability[0])\n",
    "    if from_new_arrivals_check_in > 0 :\n",
    "        server_dict_check_in, n_arrivals_placed_check_in, serve_time_track_dict_check_in =  move_from_arrival_to_service(server_dict_check_in, from_new_arrivals_check_in, serve_time_track_dict_check_in, processes_with_variability[0])\n",
    "    else :\n",
    "        n_arrivals_placed_check_in = 0\n",
    "    waiting_dict_check_in = {k:v + 1 for k, v in waiting_dict_check_in.items()}\n",
    "    waiting_dict_check_in = add_to_wait_list(waiting_dict_check_in, n_arrivals_check_in, n_arrivals_placed_check_in)\n",
    "    tracker_check_in[p] = [n_arrivals_check_in, servers_check_in -  [v for v in server_dict_check_in.values()].count(np.nan), len(waiting_dict_check_in.keys()), service_completed_check_in]\n",
    "    \n",
    "    # REFINE COMPLAINT STEP\n",
    "    n_arrivals_refine_complaint = service_completed_check_in\n",
    "    service_completed_check_in = 0\n",
    "    server_dict_refine_complaint, service_completed_refine_complaint, servers_move_next_step_refine_complaint, service_times_completed_list_refine_complaint = mark_service_time_flow_staff_steps(server_dict_refine_complaint, service_completed_refine_complaint, serve_time_track_dict_refine_complaint, service_times_completed_list_refine_complaint)\n",
    "    n_servers_free_refine_complaint = check_servers_free(server_dict_refine_complaint)\n",
    "    from_wait_list_refine_complaint, from_new_arrivals_refine_complaint = how_many_to_move_from_where( waiting_dict_refine_complaint, n_servers_free_refine_complaint, n_arrivals_refine_complaint)\n",
    "    if from_wait_list_refine_complaint > 0 :\n",
    "        waiting_dict_refine_complaint, server_dict_refine_complaint, waiting_time_list_refine_complaint, serve_time_track_dict_refine_complaint = move_from_wait_list_to_service(waiting_dict_refine_complaint, server_dict_refine_complaint, from_wait_list_refine_complaint, waiting_time_list_refine_complaint, serve_time_track_dict_refine_complaint, processes_with_variability[1])\n",
    "    if from_new_arrivals_refine_complaint > 0 :\n",
    "        server_dict_refine_complaint, n_arrivals_placed_refine_complaint, serve_time_track_dict_refine_complaint = move_from_arrival_to_service(server_dict_refine_complaint, from_new_arrivals_refine_complaint, serve_time_track_dict_refine_complaint, processes_with_variability[1])\n",
    "    else :\n",
    "        n_arrivals_placed_refine_complaint = 0\n",
    "    waiting_dict_refine_complaint = {k:v + 1 for k, v in waiting_dict_refine_complaint.items()}\n",
    "    waiting_dict_refine_complaint = add_to_wait_list(waiting_dict_refine_complaint, n_arrivals_refine_complaint, n_arrivals_placed_refine_complaint)\n",
    "    tracker_refine_complaint[p] = [n_arrivals_refine_complaint, servers_refine_complaint -  [v for v in server_dict_refine_complaint.values()].count(np.nan), len(waiting_dict_refine_complaint.keys()), service_completed_refine_complaint]\n",
    "    \n",
    "    # EXAM STEP == FLOWSTAFF & PROVIDERS DICTS\n",
    "    n_arrivals_exam = service_completed_refine_complaint\n",
    "    service_completed_refine_complaint = 0 # Reset counter to 0 for next transition\n",
    "    server_dict_exam_provider, _, _, service_times_completed_list_exam_provider = mark_service_time_flow_staff_steps(server_dict_exam_provider, service_completed_exam_provider, serve_time_track_dict_exam_provider, service_times_completed_list_exam_provider, flowstaff = False)\n",
    "    server_dict_exam_flow_staff, service_completed_exam_flow_staff, servers_move_next_step_exam_flow_staff, service_times_completed_list_exam_flow_staff = mark_service_time_flow_staff_steps(server_dict_exam_flow_staff, service_completed_exam_flow_staff, serve_time_track_dict_exam_flow_staff, service_times_completed_list_exam_flow_staff)\n",
    "    n_servers_free_exam_provider = check_servers_free(server_dict_exam_provider)    \n",
    "    from_wait_list_exam, from_new_arrivals_exam = how_many_to_move_from_where(waiting_dict_exam_provider, n_servers_free_exam_provider, n_arrivals_exam)\n",
    "    if from_wait_list_exam > 0 :\n",
    "        waiting_dict_exam_provider, server_dict_exam_provider, server_dict_exam_flow_staff, waiting_time_list_exam_provider, serve_time_track_dict_exam_flow_staff, serve_time_track_dict_exam_provider = move_from_wait_list_to_service_exam(waiting_dict_exam_provider, server_dict_exam_provider, server_dict_exam_flow_staff, from_wait_list_exam, waiting_time_list_exam_provider, serve_time_track_dict_exam_flow_staff, serve_time_track_dict_exam_provider, offload)\n",
    "    if from_new_arrivals_exam > 0 :\n",
    "        server_dict_exam_provider, server_dict_exam_flow_staff, n_arrivals_placed_exam, servers_move_next_step_refine_complaint, serve_time_track_dict_exam_flow_staff, serve_time_track_dict_exam_provider = move_from_arrival_to_service_exam(server_dict_exam_provider, server_dict_exam_flow_staff, from_new_arrivals_exam, servers_move_next_step_refine_complaint, serve_time_track_dict_exam_flow_staff, serve_time_track_dict_exam_provider, offload)\n",
    "    else :\n",
    "        n_arrivals_placed_exam = 0\n",
    "    waiting_dict_exam_provider = {k:v + 1 for k, v in waiting_dict_exam_provider.items()}\n",
    "    waiting_dict_exam_provider = add_to_wait_list_exam(waiting_dict_exam_provider, servers_move_next_step_refine_complaint)\n",
    "    tracker_exam[p] = [n_arrivals_exam, servers_exam_provider -  [v for v in server_dict_exam_provider.values()].count(np.nan), len(waiting_dict_exam_provider.keys()), service_completed_exam_flow_staff]\n",
    "\n",
    "    # FOLLOW UP == DIRECT FROM EXAM TO FLOW STAFF MATCHING SERVERS\n",
    "    n_arrivals_follow_up = service_completed_exam_flow_staff\n",
    "    service_completed_exam_flow_staff = 0\n",
    "    server_dict_follow_up, service_completed_follow_up, servers_move_next_step_follow_up, service_times_completed_list_follow_up = mark_service_time_flow_staff_steps(server_dict_follow_up, service_completed_follow_up, serve_time_track_dict_follow_up, service_times_completed_list_follow_up)\n",
    "    if n_arrivals_follow_up > 0 :\n",
    "        server_dict_follow_up, serve_time_track_dict_follow_up = move_from_arrival_to_service_follow_up(server_dict_follow_up, n_arrivals_follow_up, servers_move_next_step_exam_flow_staff, serve_time_track_dict_follow_up, processes_with_variability[3])\n",
    "    if len(servers_move_next_step_follow_up) > 0 :\n",
    "        server_dict_refine_complaint, server_dict_exam_flow_staff, server_dict_follow_up = reset_flowstaff_server(servers_move_next_step_follow_up, server_dict_refine_complaint, server_dict_exam_flow_staff, server_dict_follow_up)\n",
    "    tracker_follow_up[p] = [n_arrivals_follow_up, servers_follow_up - [v for v in server_dict_follow_up.values()].count(np.nan), len(waiting_dict_follow_up.keys()), service_completed_follow_up]\n",
    "\n",
    "\n",
    "    # CHECK OUT\n",
    "    n_arrivals_checkout = service_completed_follow_up\n",
    "    service_completed_follow_up = 0 # Reset counter to 0 for next transition\n",
    "    server_dict_checkout, service_completed_checkout, service_times_completed_list_checkout = mark_service_time(server_dict_checkout, service_completed_checkout, serve_time_track_dict_checkout, service_times_completed_list_checkout)\n",
    "    n_servers_free_checkout = check_servers_free(server_dict_checkout)\n",
    "    from_wait_list_checkout, from_new_arrivals_checkout = how_many_to_move_from_where(waiting_dict_checkout, n_servers_free_checkout, n_arrivals_checkout)\n",
    "    if from_wait_list_checkout > 0 :\n",
    "        waiting_dict_checkout, server_dict_checkout, waiting_time_list_checkout, serve_time_track_dict_checkout = move_from_wait_list_to_service(waiting_dict_checkout, server_dict_checkout, from_wait_list_checkout, waiting_time_list_checkout, serve_time_track_dict_checkout, processes_with_variability[4])\n",
    "    if from_new_arrivals_checkout > 0 :\n",
    "        server_dict_checkout, n_arrivals_placed_checkout, serve_time_track_dict_checkout = move_from_arrival_to_service(server_dict_checkout, from_new_arrivals_checkout, serve_time_track_dict_checkout, processes_with_variability[4])\n",
    "    else :\n",
    "        n_arrivals_placed_checkout = 0\n",
    "    waiting_dict_checkout = {k:v + 1 for k, v in waiting_dict_checkout.items()}\n",
    "    waiting_dict_checkout = add_to_wait_list(waiting_dict_checkout, n_arrivals_checkout, n_arrivals_placed_checkout)\n",
    "    tracker_checkout[p] = [n_arrivals_checkout, servers_checkout - [v for v in server_dict_checkout.values()].count(np.nan), len(waiting_dict_checkout.keys()), service_completed_checkout]\n",
    "    service_completed_checkout = 0"
   ]
  },
  {
   "cell_type": "markdown",
   "metadata": {},
   "source": [
    "## Analysis and visualization"
   ]
  },
  {
   "cell_type": "code",
   "execution_count": 899,
   "metadata": {},
   "outputs": [],
   "source": [
    "# Trackers to dataframes\n",
    "check_in = pd.DataFrame(tracker_check_in, columns = ['Arrivals', 'Serving', 'Waiting', 'Completed'])\n",
    "check_in['Completed_cumu'] = check_in['Completed'].cumsum()\n",
    "check_in['Process'] = processes_with_variability[0]\n",
    "refine_complaint = pd.DataFrame(tracker_refine_complaint, columns = ['Arrivals', 'Serving', 'Waiting', 'Completed'])\n",
    "refine_complaint['Completed_cumu'] = refine_complaint['Completed'].cumsum()\n",
    "refine_complaint['Process'] = processes_with_variability[1]\n",
    "exam = pd.DataFrame(tracker_exam, columns = ['Arrivals', 'Serving', 'Waiting', 'Completed'])\n",
    "exam['Completed_cumu'] = exam['Completed'].cumsum()\n",
    "exam['Process'] = processes_with_variability[2]\n",
    "followup = pd.DataFrame(tracker_follow_up, columns = ['Arrivals', 'Serving', 'Waiting', 'Completed'])\n",
    "followup['Completed_cumu'] = followup['Completed'].cumsum()\n",
    "followup['Process'] = processes_with_variability[3]\n",
    "checkout = pd.DataFrame(tracker_checkout, columns = ['Arrivals', 'Serving', 'Waiting', 'Completed'])\n",
    "checkout['Completed_cumu'] = checkout['Completed'].cumsum()\n",
    "checkout['Process'] = processes_with_variability[3]"
   ]
  },
  {
   "cell_type": "code",
   "execution_count": 900,
   "metadata": {},
   "outputs": [],
   "source": [
    "periods = np.arange(0, n_periods)"
   ]
  },
  {
   "cell_type": "code",
   "execution_count": 901,
   "metadata": {},
   "outputs": [],
   "source": [
    "# Summary stats for check_in\n",
    "arrived_check_in_final = check_in['Arrivals'].sum()\n",
    "served_check_in_final = check_in['Completed'].sum()\n",
    "mean_service_time_check_in_final = np.mean(service_times_completed_list_check_in)\n",
    "mean_patients_waiting_check_in_final = check_in['Waiting'].mean()\n",
    "mean_waiting_time_check_in_final = np.sum(waiting_time_list_check_in) / served_check_in_final"
   ]
  },
  {
   "cell_type": "code",
   "execution_count": 902,
   "metadata": {},
   "outputs": [
    {
     "name": "stdout",
     "output_type": "stream",
     "text": [
      "=== CHECK_IN ===\n",
      "\n",
      "Total arrived: 140.0\n",
      "Total served: 140.0\n",
      "Mean service time: 2.43\n",
      "Mean n_patients waiting: 0.00\n",
      "Mean waiting time: 0.00\n",
      "Mean time in system: 2.43\n",
      "Mean waiting time for those who waited: nan\n"
     ]
    },
    {
     "data": {
      "image/png": "[encoded data removed]",
      "text/plain": [
       "<Figure size 1008x324 with 1 Axes>"
      ]
     },
     "metadata": {
      "needs_background": "light"
     },
     "output_type": "display_data"
    }
   ],
   "source": [
    "print ('===',processes_with_variability[0].upper(),'===\\n')\n",
    "print ('Total arrived: {}'.format(arrived_check_in_final))\n",
    "print ('Total served: {}'.format(served_check_in_final))\n",
    "print ('Mean service time: {:.2f}'.format(mean_service_time_check_in_final))\n",
    "print ('Mean n_patients waiting: {:.2f}'.format(mean_patients_waiting_check_in_final))\n",
    "print ('Mean waiting time: {:.2f}'.format(mean_waiting_time_check_in_final))\n",
    "print ('Mean time in system: {:.2f}'.format(mean_waiting_time_check_in_final + mean_service_time_check_in_final))\n",
    "print ('Mean waiting time for those who waited: {:.2f}'.format(np.mean(waiting_time_list_check_in)))\n",
    "\n",
    "fig, ax1 = plt.subplots(figsize = (14, 4.5))\n",
    "\n",
    "ax1.step(periods, check_in['Arrivals'], c = 'orange', label = 'Arrivals')\n",
    "ax1.step(periods, check_in['Serving'], c = 'blue', label = 'Serving')\n",
    "ax1.step(periods, check_in['Waiting'], c = 'red', label = 'Waiting')\n",
    "ax1.step(periods, check_in['Completed'], c = 'green', label = 'Served')\n",
    "\n",
    "ax1.axhline(servers_check_in, ls = ':', label = 'Max utilization')\n",
    "\n",
    "ax1.set_ylim(0, 25)#max(check_in.iloc[:, :-1].max().max(), servers_check_in) + 5)\n",
    "ax1.set_xlabel('Period (minutes)')\n",
    "ax1.set_ylabel('Number (n_servers = {})'.format(servers_check_in))\n",
    "ax1.set_title(processes_with_variability[0].upper())\n",
    "\n",
    "plt.legend(bbox_to_anchor = (1, 1))\n",
    "plt.show()"
   ]
  },
  {
   "cell_type": "code",
   "execution_count": 903,
   "metadata": {},
   "outputs": [],
   "source": [
    "# Summary stats for refine_complaint\n",
    "arrived_refine_complaint_final = refine_complaint['Arrivals'].sum()\n",
    "served_refine_complaint_final = refine_complaint['Completed'].sum()\n",
    "mean_service_time_refine_complaint_final = np.mean(service_times_completed_list_refine_complaint)\n",
    "mean_patients_waiting_refine_complaint_final = refine_complaint['Waiting'].mean()\n",
    "mean_waiting_time_refine_complaint_final = np.sum(waiting_time_list_refine_complaint) / served_refine_complaint_final"
   ]
  },
  {
   "cell_type": "code",
   "execution_count": 913,
   "metadata": {},
   "outputs": [
    {
     "name": "stdout",
     "output_type": "stream",
     "text": [
      "=== REFINE_COMPLAINT ===\n",
      "\n",
      "Total arrived: 140.0\n",
      "Total served: 140.0\n",
      "Mean service time: 24.01\n",
      "Mean n_patients waiting: 0.74\n",
      "Mean waiting time: 3.19\n",
      "Mean time in system: 27.19\n",
      "Mean waiting time for those who waited: 6.19\n"
     ]
    },
    {
     "data": {
      "image/png": "[encoded data removed]",
      "text/plain": [
       "<Figure size 1008x324 with 1 Axes>"
      ]
     },
     "metadata": {
      "needs_background": "light"
     },
     "output_type": "display_data"
    }
   ],
   "source": [
    "print ('===',processes_with_variability[1].upper(),'===\\n')\n",
    "print ('Total arrived: {}'.format(arrived_refine_complaint_final))\n",
    "print ('Total served: {}'.format(served_refine_complaint_final))\n",
    "print ('Mean service time: {:.2f}'.format(mean_service_time_refine_complaint_final))\n",
    "print ('Mean n_patients waiting: {:.2f}'.format(mean_patients_waiting_refine_complaint_final))\n",
    "print ('Mean waiting time: {:.2f}'.format(mean_waiting_time_refine_complaint_final))\n",
    "print ('Mean time in system: {:.2f}'.format(mean_waiting_time_refine_complaint_final\\\n",
    "                                            + mean_service_time_refine_complaint_final))\n",
    "print ('Mean waiting time for those who waited: {:.2f}'.format(np.mean(waiting_time_list_refine_complaint)))\n",
    "\n",
    "fig, ax1 = plt.subplots(figsize = (14, 4.5))\n",
    "\n",
    "ax1.step(periods, refine_complaint['Arrivals'], c = 'orange', label = 'Arrivals')\n",
    "ax1.step(periods, refine_complaint['Serving'], c = 'blue', label = 'Serving')\n",
    "ax1.step(periods, refine_complaint['Waiting'], c = 'red', label = 'Waiting')\n",
    "ax1.step(periods, refine_complaint['Completed'], c = 'green', label = 'Served')\n",
    "\n",
    "ax1.axhline(servers_refine_complaint, ls = ':', label = 'Max utilization')\n",
    "\n",
    "ax1.set_ylim(0, 25)#max(refine_complaint.iloc[:, :-1].max().max(), servers_refine_complaint) + 5)\n",
    "ax1.set_xlabel('Period (minutes)')\n",
    "ax1.set_ylabel('Number (n_servers = {})'.format(servers_refine_complaint))\n",
    "ax1.set_title(processes_with_variability[1].upper())\n",
    "\n",
    "plt.legend(bbox_to_anchor = (1, 1))\n",
    "plt.show()"
   ]
  },
  {
   "cell_type": "code",
   "execution_count": 905,
   "metadata": {},
   "outputs": [],
   "source": [
    "# Summary stats for exam\n",
    "arrived_exam_final = exam['Arrivals'].sum()\n",
    "served_exam_final = exam['Completed'].sum()\n",
    "mean_service_time_exam_final = np.mean(service_times_completed_list_exam_provider) # Changed to _provider\n",
    "mean_patients_waiting_exam_final = exam['Waiting'].mean()\n",
    "mean_waiting_time_exam_final = np.sum(waiting_time_list_exam_provider) / served_exam_final # Changed to _provider"
   ]
  },
  {
   "cell_type": "code",
   "execution_count": 906,
   "metadata": {},
   "outputs": [
    {
     "name": "stdout",
     "output_type": "stream",
     "text": [
      "=== EXAM ===\n",
      "\n",
      "Total arrived: 140.0\n",
      "Total served: 140.0\n",
      "Mean service time: 28.34\n",
      "Mean n_patients waiting: 1.07\n",
      "Mean waiting time: 4.61\n",
      "Mean time in system: 32.95\n",
      "Mean waiting time for those who waited: 7.50\n"
     ]
    },
    {
     "data": {
      "image/png": "[encoded data removed]",
      "text/plain": [
       "<Figure size 1008x324 with 1 Axes>"
      ]
     },
     "metadata": {
      "needs_background": "light"
     },
     "output_type": "display_data"
    }
   ],
   "source": [
    "print ('===',processes_with_variability[2].upper(),'===\\n')\n",
    "print ('Total arrived: {}'.format(arrived_exam_final))\n",
    "print ('Total served: {}'.format(served_exam_final))\n",
    "print ('Mean service time: {:.2f}'.format(mean_service_time_exam_final))\n",
    "print ('Mean n_patients waiting: {:.2f}'.format(mean_patients_waiting_exam_final))\n",
    "print ('Mean waiting time: {:.2f}'.format(mean_waiting_time_exam_final))\n",
    "print ('Mean time in system: {:.2f}'.format(mean_waiting_time_exam_final + mean_service_time_exam_final))\n",
    "print ('Mean waiting time for those who waited: {:.2f}'.format(np.mean(waiting_time_list_exam_provider)))\n",
    "\n",
    "fig, ax1 = plt.subplots(figsize = (14, 4.5))\n",
    "\n",
    "ax1.step(periods, exam['Arrivals'], c = 'orange', label = 'Arrivals')\n",
    "ax1.step(periods, exam['Serving'], c = 'blue', label = 'Serving')\n",
    "ax1.step(periods, exam['Waiting'], c = 'red', label = 'Waiting')\n",
    "ax1.step(periods, exam['Completed'], c = 'green', label = 'Served')\n",
    "\n",
    "ax1.axhline(servers_exam_provider, ls = ':', label = 'Max utilization')\n",
    "\n",
    "ax1.set_ylim(0, 25)#max(exam.iloc[:, :-1].max().max(), servers_exam_provider) + 5)\n",
    "ax1.set_xlabel('Period (minutes)')\n",
    "ax1.set_ylabel('Number (n_servers = {})'.format(servers_exam_provider))\n",
    "ax1.set_title(processes_with_variability[2].upper())\n",
    "\n",
    "plt.legend(bbox_to_anchor = (1, 1))\n",
    "plt.show()"
   ]
  },
  {
   "cell_type": "code",
   "execution_count": 907,
   "metadata": {},
   "outputs": [],
   "source": [
    "# Summary stats for follow_up\n",
    "arrived_follow_up_final = followup['Arrivals'].sum()\n",
    "served_follow_up_final = followup['Completed'].sum()\n",
    "mean_service_time_follow_up_final = np.mean(service_times_completed_list_follow_up)\n",
    "mean_patients_waiting_follow_up_final = followup['Waiting'].mean()\n",
    "mean_waiting_time_follow_up_final = np.sum(waiting_time_list_follow_up) / served_follow_up_final"
   ]
  },
  {
   "cell_type": "code",
   "execution_count": 908,
   "metadata": {},
   "outputs": [
    {
     "name": "stdout",
     "output_type": "stream",
     "text": [
      "=== FOLLOW_UP ===\n",
      "\n",
      "Total arrived: 140.0\n",
      "Total served: 140.0\n",
      "Mean service time: 5.29\n",
      "Mean n_patients waiting: 0.00\n",
      "Mean waiting time: 0.00\n",
      "Mean time in system: 5.29\n",
      "Mean waiting time for those who waited: nan\n"
     ]
    },
    {
     "data": {
      "image/png": "[encoded data removed]",
      "text/plain": [
       "<Figure size 1008x324 with 1 Axes>"
      ]
     },
     "metadata": {
      "needs_background": "light"
     },
     "output_type": "display_data"
    }
   ],
   "source": [
    "print ('===',processes_with_variability[3].upper(),'===\\n')\n",
    "print ('Total arrived: {}'.format(arrived_follow_up_final))\n",
    "print ('Total served: {}'.format(served_follow_up_final))\n",
    "print ('Mean service time: {:.2f}'.format(mean_service_time_follow_up_final))\n",
    "print ('Mean n_patients waiting: {:.2f}'.format(mean_patients_waiting_follow_up_final))\n",
    "print ('Mean waiting time: {:.2f}'.format(mean_waiting_time_follow_up_final))\n",
    "print ('Mean time in system: {:.2f}'.format(mean_waiting_time_follow_up_final + mean_service_time_follow_up_final))\n",
    "print ('Mean waiting time for those who waited: {:.2f}'.format(np.mean(waiting_time_list_follow_up)))\n",
    "\n",
    "fig, ax1 = plt.subplots(figsize = (14, 4.5))\n",
    "\n",
    "ax1.step(periods, followup['Arrivals'], c = 'orange', label = 'Arrivals')\n",
    "ax1.step(periods, followup['Serving'], c = 'blue', label = 'Serving')\n",
    "ax1.step(periods, followup['Waiting'], c = 'red', label = 'Waiting')\n",
    "ax1.step(periods, followup['Completed'], c = 'green', label = 'Served')\n",
    "\n",
    "ax1.axhline(servers_follow_up, ls = ':', label = 'Max utilization')\n",
    "\n",
    "ax1.set_ylim(0, 25)#max(checkout.iloc[:, :-1].max().max(), servers_checkout) + 5)\n",
    "ax1.set_xlabel('Period (minutes)')\n",
    "ax1.set_ylabel('Number (n_servers = {})'.format(servers_follow_up))\n",
    "ax1.set_title(processes_with_variability[3].upper())\n",
    "\n",
    "plt.legend(bbox_to_anchor = (1, 1))\n",
    "plt.show()"
   ]
  },
  {
   "cell_type": "code",
   "execution_count": 909,
   "metadata": {},
   "outputs": [],
   "source": [
    "# Summary stats for checkout\n",
    "arrived_checkout_final = checkout['Arrivals'].sum()\n",
    "served_checkout_final = checkout['Completed'].sum()\n",
    "mean_service_time_checkout_final = np.mean(service_times_completed_list_checkout)\n",
    "mean_patients_waiting_checkout_final = checkout['Waiting'].mean()\n",
    "mean_waiting_time_checkout_final = np.sum(waiting_time_list_checkout) / served_checkout_final"
   ]
  },
  {
   "cell_type": "code",
   "execution_count": 910,
   "metadata": {},
   "outputs": [
    {
     "name": "stdout",
     "output_type": "stream",
     "text": [
      "=== CHECKOUT ===\n",
      "\n",
      "Total arrived: 140.0\n",
      "Total served: 140.0\n",
      "Mean service time: 5.62\n",
      "Mean n_patients waiting: 0.00\n",
      "Mean waiting time: 0.00\n",
      "Mean time in system: 5.62\n",
      "Mean waiting time for those who waited: nan\n"
     ]
    },
    {
     "data": {
      "image/png": "[encoded data removed]",
      "text/plain": [
       "<Figure size 1008x324 with 1 Axes>"
      ]
     },
     "metadata": {
      "needs_background": "light"
     },
     "output_type": "display_data"
    }
   ],
   "source": [
    "print ('===',processes_with_variability[4].upper(),'===\\n')\n",
    "print ('Total arrived: {}'.format(arrived_checkout_final))\n",
    "print ('Total served: {}'.format(served_checkout_final))\n",
    "print ('Mean service time: {:.2f}'.format(mean_service_time_checkout_final))\n",
    "print ('Mean n_patients waiting: {:.2f}'.format(mean_patients_waiting_checkout_final))\n",
    "print ('Mean waiting time: {:.2f}'.format(mean_waiting_time_checkout_final))\n",
    "print ('Mean time in system: {:.2f}'.format(mean_waiting_time_checkout_final + mean_service_time_checkout_final))\n",
    "print ('Mean waiting time for those who waited: {:.2f}'.format(np.mean(waiting_time_list_checkout)))\n",
    "\n",
    "fig, ax1 = plt.subplots(figsize = (14, 4.5))\n",
    "\n",
    "ax1.step(periods, checkout['Arrivals'], c = 'orange', label = 'Arrivals')\n",
    "ax1.step(periods, checkout['Serving'], c = 'blue', label = 'Serving')\n",
    "ax1.step(periods, checkout['Waiting'], c = 'red', label = 'Waiting')\n",
    "ax1.step(periods, checkout['Completed'], c = 'green', label = 'Served')\n",
    "\n",
    "ax1.axhline(servers_checkout, ls = ':', label = 'Max utilization')\n",
    "\n",
    "ax1.set_ylim(0, 25)#max(checkout.iloc[:, :-1].max().max(), servers_checkout) + 5)\n",
    "ax1.set_xlabel('Period (minutes)')\n",
    "ax1.set_ylabel('Number (n_servers = {})'.format(servers_checkout))\n",
    "ax1.set_title(processes_with_variability[4].upper())\n",
    "\n",
    "plt.legend(bbox_to_anchor = (1, 1))\n",
    "plt.show()"
   ]
  },
  {
   "cell_type": "code",
   "execution_count": 911,
   "metadata": {},
   "outputs": [
    {
     "name": "stdout",
     "output_type": "stream",
     "text": [
      "Mean time check_in: 2.43\n",
      "Mean time waiting room -> refine complaint: 27.19\n",
      "Mean time exam: 32.95\n",
      "Mean time follow_up: 5.29\n",
      "Mean time checkout: 5.62\n",
      "Mean time TOTAL: 73.48\n"
     ]
    }
   ],
   "source": [
    "print ('Mean time check_in: {:.2f}'.format(mean_waiting_time_check_in_final + mean_service_time_check_in_final))\n",
    "print ('Mean time waiting room -> refine complaint: {:.2f}'\\\n",
    "       .format(mean_waiting_time_refine_complaint_final + mean_service_time_refine_complaint_final))\n",
    "print ('Mean time exam: {:.2f}'.format(mean_waiting_time_exam_final + mean_service_time_exam_final))\n",
    "print ('Mean time follow_up: {:.2f}'.format(mean_waiting_time_follow_up_final + mean_service_time_follow_up_final))\n",
    "print ('Mean time checkout: {:.2f}'.format(mean_waiting_time_checkout_final + mean_service_time_checkout_final))\n",
    "total_time_in_system_final = mean_waiting_time_check_in_final + mean_service_time_check_in_final\\\n",
    "        + mean_waiting_time_refine_complaint_final + mean_service_time_refine_complaint_final\\\n",
    "        + mean_waiting_time_exam_final + mean_service_time_exam_final\\\n",
    "        + mean_waiting_time_follow_up_final + mean_service_time_follow_up_final\\\n",
    "        + mean_waiting_time_checkout_final + mean_service_time_checkout_final\n",
    "print ('Mean time TOTAL: {:.2f}'.format(total_time_in_system_final))"
   ]
  },
  {
   "cell_type": "code",
   "execution_count": 912,
   "metadata": {},
   "outputs": [
    {
     "name": "stdout",
     "output_type": "stream",
     "text": [
      "Estimated time - preventative: 64.0\n",
      "Estimated time - chronic: 64.0\n",
      "Estimated time - acute: 49.0\n"
     ]
    }
   ],
   "source": [
    "print ('Estimated time - preventative:', process_flow['Time_Mean'].sum()\\\n",
    "                            + base_case_types.loc[base_case_types['Type'] == 'Preventative', 'Time_Mean'].item())\n",
    "print ('Estimated time - chronic:', process_flow['Time_Mean'].sum()\\\n",
    "                            + base_case_types.loc[base_case_types['Type'] == 'Chronic', 'Time_Mean'].item())\n",
    "print ('Estimated time - acute:', process_flow['Time_Mean'].sum()\\\n",
    "                            + base_case_types.loc[base_case_types['Type'] == 'Acute', 'Time_Mean'].item())"
   ]
  },
  {
   "cell_type": "code",
   "execution_count": null,
   "metadata": {},
   "outputs": [],
   "source": []
  }
 ],
 "metadata": {
  "kernelspec": {
   "display_name": "Python 3",
   "language": "python",
   "name": "python3"
  },
  "language_info": {
   "codemirror_mode": {
    "name": "ipython",
    "version": 3
   },
   "file_extension": ".py",
   "mimetype": "text/x-python",
   "name": "python",
   "nbconvert_exporter": "python",
   "pygments_lexer": "ipython3",
   "version": "3.6.8"
  }
 },
 "nbformat": 4,
 "nbformat_minor": 2
}
