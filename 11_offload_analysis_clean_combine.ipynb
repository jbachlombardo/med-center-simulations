{
 "cells": [
  {
   "cell_type": "code",
   "execution_count": 48,
   "metadata": {},
   "outputs": [],
   "source": [
    "import pandas as pd\n",
    "import numpy as np\n",
    "from glob import glob"
   ]
  },
  {
   "cell_type": "code",
   "execution_count": 231,
   "metadata": {},
   "outputs": [],
   "source": [
    "def calculate_totals(df) :\n",
    "    df['Mean_system_time_check_in'] = df[['Mean_serve_time_check_in', 'Mean_wait_time_check_in']].sum(axis = 1)\n",
    "    df['Mean_system_time_refine_complaint'] = df[['Mean_serve_time_refine_complaint', 'Mean_wait_time_refine_complaint']].sum(axis = 1)\n",
    "    df['Mean_system_time_exam'] = df[['Mean_serve_time_exam_flow_staff', 'Mean_wait_time_exam']].sum(axis = 1)\n",
    "    df['Mean_system_time_follow_up'] = df[['Mean_serve_time_follow_up', 'Mean_wait_time_follow_up']].sum(axis = 1)\n",
    "    df['Mean_system_time_checkout'] = df[['Mean_serve_time_checkout', 'Mean_wait_time_checkout']].sum(axis = 1)\n",
    "    df['Total_service_time'] = df[['Mean_serve_time_check_in', 'Mean_serve_time_refine_complaint', 'Mean_serve_time_exam', 'Mean_serve_time_follow_up', 'Mean_serve_time_checkout']].sum(axis = 1)\n",
    "    df['Total_wait_time'] = df[['Mean_wait_time_check_in', 'Mean_wait_time_refine_complaint', 'Mean_wait_time_exam', 'Mean_wait_time_follow_up', 'Mean_wait_time_checkout']].sum(axis = 1)\n",
    "    df['Total_system_time'] = df[['Total_service_time', 'Total_wait_time']].sum(axis = 1)\n",
    "    # Calculate throughputs\n",
    "    df['Thruput_check_in'] = df['Served_check_in'] / df['Arrivals_check_in']\n",
    "    df['Thruput_refine_complaint'] = df['Served_refine_complaint'] / df['Arrivals_refine_complaint']\n",
    "    df['Thruput_exam'] = df['Served_exam'] / df['Arrivals_exam']\n",
    "    df['Thruput_follow_up'] = df['Served_follow_up'] / df['Arrivals_follow_up']\n",
    "    df['Thruput_checkout'] = df['Served_checkout'] / df['Arrivals_checkout']\n",
    "    df['Thruput_total'] = df['Served_checkout'] / df['Arrivals_check_in']\n",
    "    return df"
   ]
  },
  {
   "cell_type": "code",
   "execution_count": 232,
   "metadata": {},
   "outputs": [],
   "source": [
    "fpaths = glob('Results of sims/Sims/200614_offload_staff*.csv')"
   ]
  },
  {
   "cell_type": "code",
   "execution_count": 233,
   "metadata": {},
   "outputs": [
    {
     "data": {
      "text/plain": [
       "['Results of sims/Sims/200614_offload_staff10209_offload00.csv',\n",
       " 'Results of sims/Sims/200614_offload_staff10209_offload05.csv',\n",
       " 'Results of sims/Sims/200614_offload_staff10209_offload10.csv',\n",
       " 'Results of sims/Sims/200614_offload_staff10209_offload15.csv',\n",
       " 'Results of sims/Sims/200614_offload_staff10209_offload20.csv',\n",
       " 'Results of sims/Sims/200614_offload_staff10209_offload25.csv',\n",
       " 'Results of sims/Sims/200614_offload_staff10209_offload30.csv',\n",
       " 'Results of sims/Sims/200614_offload_staff10219_offload00.csv',\n",
       " 'Results of sims/Sims/200614_offload_staff10219_offload05.csv',\n",
       " 'Results of sims/Sims/200614_offload_staff10219_offload10.csv',\n",
       " 'Results of sims/Sims/200614_offload_staff10219_offload15.csv',\n",
       " 'Results of sims/Sims/200614_offload_staff10219_offload20.csv',\n",
       " 'Results of sims/Sims/200614_offload_staff10219_offload25.csv',\n",
       " 'Results of sims/Sims/200614_offload_staff10219_offload30.csv',\n",
       " 'Results of sims/Sims/200614_offload_staff10229_offload00.csv',\n",
       " 'Results of sims/Sims/200614_offload_staff10229_offload05.csv',\n",
       " 'Results of sims/Sims/200614_offload_staff10229_offload10.csv',\n",
       " 'Results of sims/Sims/200614_offload_staff10229_offload15.csv',\n",
       " 'Results of sims/Sims/200614_offload_staff10229_offload20.csv',\n",
       " 'Results of sims/Sims/200614_offload_staff10229_offload25.csv',\n",
       " 'Results of sims/Sims/200614_offload_staff10229_offload30.csv']"
      ]
     },
     "execution_count": 233,
     "metadata": {},
     "output_type": "execute_result"
    }
   ],
   "source": [
    "sorted(fpaths)"
   ]
  },
  {
   "cell_type": "code",
   "execution_count": 234,
   "metadata": {},
   "outputs": [],
   "source": [
    "data = pd.DataFrame()\n",
    "for f in fpaths :\n",
    "    _ = pd.read_csv(f)\n",
    "    data = pd.concat([data, _])"
   ]
  },
  {
   "cell_type": "code",
   "execution_count": 235,
   "metadata": {},
   "outputs": [],
   "source": [
    "data = data.drop('Unnamed: 0', axis = 1)\n",
    "data['Staffing'] = data['Staffing'].replace('10/20/09', '10-20-9')\n",
    "data['Staffing'] = data['Staffing'].replace('10/21/09', '10-21-9')"
   ]
  },
  {
   "cell_type": "code",
   "execution_count": 236,
   "metadata": {},
   "outputs": [],
   "source": [
    "data = calculate_totals(data)"
   ]
  },
  {
   "cell_type": "code",
   "execution_count": 237,
   "metadata": {},
   "outputs": [
    {
     "data": {
      "text/plain": [
       "(210000, 44)"
      ]
     },
     "execution_count": 237,
     "metadata": {},
     "output_type": "execute_result"
    }
   ],
   "source": [
    "data.shape"
   ]
  },
  {
   "cell_type": "code",
   "execution_count": 238,
   "metadata": {},
   "outputs": [],
   "source": [
    "control_fpaths = glob('Results of sims/Sims/200614_offload_control*.csv')"
   ]
  },
  {
   "cell_type": "code",
   "execution_count": 239,
   "metadata": {},
   "outputs": [
    {
     "data": {
      "text/plain": [
       "['Results of sims/Sims/200614_offload_control_10209.csv',\n",
       " 'Results of sims/Sims/200614_offload_control_10219.csv',\n",
       " 'Results of sims/Sims/200614_offload_control_10229.csv']"
      ]
     },
     "execution_count": 239,
     "metadata": {},
     "output_type": "execute_result"
    }
   ],
   "source": [
    "sorted(control_fpaths)"
   ]
  },
  {
   "cell_type": "code",
   "execution_count": 240,
   "metadata": {},
   "outputs": [],
   "source": [
    "control = pd.DataFrame()\n",
    "for f in control_fpaths :\n",
    "    _ = pd.read_csv(f, index_col = 0)\n",
    "    _ = _.T.reset_index()\n",
    "    _ = _.drop('index', axis = 1)\n",
    "    control = pd.concat([control, _])"
   ]
  },
  {
   "cell_type": "code",
   "execution_count": 241,
   "metadata": {},
   "outputs": [],
   "source": [
    "control['Staffing'] = control['Staffing'].replace('10/20/09', '10-20-9')\n",
    "control['Staffing'] = control['Staffing'].replace('10/21/09', '10-21-9')"
   ]
  },
  {
   "cell_type": "code",
   "execution_count": 242,
   "metadata": {},
   "outputs": [
    {
     "data": {
      "text/plain": [
       "(30000, 41)"
      ]
     },
     "execution_count": 242,
     "metadata": {},
     "output_type": "execute_result"
    }
   ],
   "source": [
    "control.shape"
   ]
  },
  {
   "cell_type": "code",
   "execution_count": 243,
   "metadata": {},
   "outputs": [],
   "source": [
    "cols_add = list(set(data.columns) - set(control.columns))"
   ]
  },
  {
   "cell_type": "code",
   "execution_count": 244,
   "metadata": {},
   "outputs": [],
   "source": [
    "for c in cols_add :\n",
    "    control[c] = np.nan"
   ]
  },
  {
   "cell_type": "code",
   "execution_count": 245,
   "metadata": {},
   "outputs": [],
   "source": [
    "ordered_cols = list(data.columns)"
   ]
  },
  {
   "cell_type": "code",
   "execution_count": 246,
   "metadata": {},
   "outputs": [],
   "source": [
    "control = control[ordered_cols]"
   ]
  },
  {
   "cell_type": "code",
   "execution_count": 247,
   "metadata": {},
   "outputs": [],
   "source": [
    "data = pd.concat([data, control])"
   ]
  },
  {
   "cell_type": "code",
   "execution_count": 248,
   "metadata": {},
   "outputs": [
    {
     "data": {
      "text/plain": [
       "(240000, 44)"
      ]
     },
     "execution_count": 248,
     "metadata": {},
     "output_type": "execute_result"
    }
   ],
   "source": [
    "data.shape"
   ]
  },
  {
   "cell_type": "code",
   "execution_count": 249,
   "metadata": {},
   "outputs": [
    {
     "data": {
      "text/plain": [
       "Staffing  Offload\n",
       "10-20-9   0.0        10000\n",
       "          0.05       10000\n",
       "          0.1        10000\n",
       "          0.15       10000\n",
       "          0.2        10000\n",
       "          0.25       10000\n",
       "          0.3        10000\n",
       "          Control    10000\n",
       "10-21-9   0.0        10000\n",
       "          0.05       10000\n",
       "          0.1        10000\n",
       "          0.15       10000\n",
       "          0.2        10000\n",
       "          0.25       10000\n",
       "          0.3        10000\n",
       "          Control    10000\n",
       "10-22-9   0.0        10000\n",
       "          0.05       10000\n",
       "          0.1        10000\n",
       "          0.15       10000\n",
       "          0.2        10000\n",
       "          0.25       10000\n",
       "          0.3        10000\n",
       "          Control    10000\n",
       "dtype: int64"
      ]
     },
     "execution_count": 249,
     "metadata": {},
     "output_type": "execute_result"
    }
   ],
   "source": [
    "data.groupby(['Staffing', 'Offload']).size()"
   ]
  },
  {
   "cell_type": "code",
   "execution_count": 250,
   "metadata": {},
   "outputs": [],
   "source": [
    "data.to_csv('Results of sims/Sims/200614_offload_alldata.csv')"
   ]
  },
  {
   "cell_type": "code",
   "execution_count": null,
   "metadata": {},
   "outputs": [],
   "source": []
  }
 ],
 "metadata": {
  "kernelspec": {
   "display_name": "Python 3",
   "language": "python",
   "name": "python3"
  },
  "language_info": {
   "codemirror_mode": {
    "name": "ipython",
    "version": 3
   },
   "file_extension": ".py",
   "mimetype": "text/x-python",
   "name": "python",
   "nbconvert_exporter": "python",
   "pygments_lexer": "ipython3",
   "version": "3.6.8"
  }
 },
 "nbformat": 4,
 "nbformat_minor": 2
}
