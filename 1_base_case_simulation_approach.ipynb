{
 "cells": [
  {
   "cell_type": "code",
   "execution_count": 605,
   "metadata": {},
   "outputs": [],
   "source": [
    "import matplotlib.pyplot as plt\n",
    "import numpy as np\n",
    "import pandas as pd\n",
    "from scipy import stats\n",
    "import seaborn as sns"
   ]
  },
  {
   "cell_type": "markdown",
   "metadata": {},
   "source": [
    "### Testing skewed normal distributions\n",
    "\n",
    "Trying to approximate how to best estimate service time at each step. \n",
    "\n",
    "Reasons for this:\n",
    "- There will never be a negative service time\n",
    "- In reality, the service time distribution will skew right -- longer-than-expected visits are more likely than shorter-than-expected visits\n",
    "- There will most likely be a minimum service time (eg minimum service of 15 minutes on an average service time of 30 minute visit) which is estimated here as having a forced minimum of half the estimated service time\n",
    "\n",
    "Was unable to come up with a way to do this mathematically so have created instead a simulated process flow."
   ]
  },
  {
   "cell_type": "code",
   "execution_count": 182,
   "metadata": {},
   "outputs": [],
   "source": [
    "# Example: service times used for preventative care visit\n",
    "n_samples = 1000\n",
    "avg = 30 #Mean service time\n",
    "worstcase = 30 #Worst case upper limit\n",
    "std = worstcase / stats.skewnorm.ppf(1 - 0.05, avg) # Setting stdev such that 5% of visits result in worst case scenario"
   ]
  },
  {
   "cell_type": "code",
   "execution_count": 183,
   "metadata": {},
   "outputs": [],
   "source": [
    "dist = stats.skewnorm.rvs(0.5, loc = avg, scale = std, size = n_samples)"
   ]
  },
  {
   "cell_type": "code",
   "execution_count": 184,
   "metadata": {},
   "outputs": [
    {
     "name": "stdout",
     "output_type": "stream",
     "text": [
      "Median: 35.151749262377564\n",
      "Mean: 35.28818861599887\n",
      "Min: -6.1152351663284605\n",
      "Max: 81.19083192040627\n",
      "25th percentile: 25.50017152238562\n",
      "75th percentile: 44.98200700047124\n"
     ]
    },
    {
     "data": {
      "image/png": "[encoded data removed]",
      "text/plain": [
       "<Figure size 432x288 with 1 Axes>"
      ]
     },
     "metadata": {
      "needs_background": "light"
     },
     "output_type": "display_data"
    }
   ],
   "source": [
    "print ('Median:', np.median(dist))\n",
    "print ('Mean:', np.mean(dist))\n",
    "print ('Min:', np.min(dist))\n",
    "print ('Max:', np.max(dist))\n",
    "print ('25th percentile:', np.percentile(dist, 25))\n",
    "print ('75th percentile:', np.percentile(dist, 75))\n",
    "plt.hist(dist, histtype = 'step', bins = 50)\n",
    "plt.show()"
   ]
  },
  {
   "cell_type": "code",
   "execution_count": 185,
   "metadata": {},
   "outputs": [],
   "source": [
    "dist[dist < avg / 2] = avg / 2 #Remove negative / too low results"
   ]
  },
  {
   "cell_type": "code",
   "execution_count": 186,
   "metadata": {},
   "outputs": [
    {
     "name": "stdout",
     "output_type": "stream",
     "text": [
      "Median: 35.151749262377564\n",
      "Mean: 35.824794059430964\n",
      "Min: 15.0\n",
      "Max: 81.19083192040627\n",
      "25th percentile: 25.50017152238562\n",
      "75th percentile: 44.98200700047124\n"
     ]
    },
    {
     "data": {
      "image/png": "[encoded data removed]",
      "text/plain": [
       "<Figure size 432x288 with 1 Axes>"
      ]
     },
     "metadata": {
      "needs_background": "light"
     },
     "output_type": "display_data"
    }
   ],
   "source": [
    "print ('Median:', np.median(dist))\n",
    "print ('Mean:', np.mean(dist))\n",
    "print ('Min:', np.min(dist))\n",
    "print ('Max:', np.max(dist))\n",
    "print ('25th percentile:', np.percentile(dist, 25))\n",
    "print ('75th percentile:', np.percentile(dist, 75))\n",
    "plt.hist(dist, histtype = 'step', bins = 50)\n",
    "plt.show()"
   ]
  },
  {
   "cell_type": "markdown",
   "metadata": {},
   "source": [
    "### Simulated process using skewed distributions"
   ]
  },
  {
   "cell_type": "markdown",
   "metadata": {},
   "source": [
    "#### _Data tables_"
   ]
  },
  {
   "cell_type": "code",
   "execution_count": 187,
   "metadata": {},
   "outputs": [
    {
     "data": {
      "text/plain": [
       "{'Doctor': 9, 'Nurse': 5, 'FlowStaff': 20, 'CSR': 10}"
      ]
     },
     "execution_count": 187,
     "metadata": {},
     "output_type": "execute_result"
    }
   ],
   "source": [
    "providers = {'Doctor': 9, 'Nurse': 5, 'FlowStaff': 20, 'CSR': 10}\n",
    "providers"
   ]
  },
  {
   "cell_type": "code",
   "execution_count": 188,
   "metadata": {},
   "outputs": [],
   "source": [
    "low = 0.05\n",
    "medium = 0.1\n",
    "high = 0.2"
   ]
  },
  {
   "cell_type": "code",
   "execution_count": 381,
   "metadata": {},
   "outputs": [],
   "source": [
    "arrival_rate = 100 / 10"
   ]
  },
  {
   "cell_type": "code",
   "execution_count": 635,
   "metadata": {},
   "outputs": [],
   "source": [
    "cols = ['Type', 'Frequency', 'Time_Mean', 'Time_WorstCase', 'Perc_WorstCase']\n",
    "preventative = ['Preventative', 0.2, 30, 30, low]\n",
    "chronic = ['Chronic', 0.6, 30, 30, medium]\n",
    "acute = ['Acute', 0.2, 15, 5, low]\n",
    "base_case_types = pd.DataFrame([preventative, chronic, acute], columns = cols)"
   ]
  },
  {
   "cell_type": "code",
   "execution_count": 636,
   "metadata": {},
   "outputs": [],
   "source": [
    "base_case_types['Time_Mean_hrs'] = base_case_types['Time_Mean'] / 60\n",
    "base_case_types['Time_WorstCase_hrs'] = base_case_types['Time_WorstCase'] / 60"
   ]
  },
  {
   "cell_type": "code",
   "execution_count": 637,
   "metadata": {},
   "outputs": [
    {
     "data": {
      "text/html": [
       "<div>\n",
       "<style scoped>\n",
       "    .dataframe tbody tr th:only-of-type {\n",
       "        vertical-align: middle;\n",
       "    }\n",
       "\n",
       "    .dataframe tbody tr th {\n",
       "        vertical-align: top;\n",
       "    }\n",
       "\n",
       "    .dataframe thead th {\n",
       "        text-align: right;\n",
       "    }\n",
       "</style>\n",
       "<table border=\"1\" class=\"dataframe\">\n",
       "  <thead>\n",
       "    <tr style=\"text-align: right;\">\n",
       "      <th></th>\n",
       "      <th>Type</th>\n",
       "      <th>Frequency</th>\n",
       "      <th>Time_Mean</th>\n",
       "      <th>Time_WorstCase</th>\n",
       "      <th>Perc_WorstCase</th>\n",
       "      <th>Time_Mean_hrs</th>\n",
       "      <th>Time_WorstCase_hrs</th>\n",
       "    </tr>\n",
       "  </thead>\n",
       "  <tbody>\n",
       "    <tr>\n",
       "      <th>0</th>\n",
       "      <td>Preventative</td>\n",
       "      <td>0.2</td>\n",
       "      <td>30</td>\n",
       "      <td>30</td>\n",
       "      <td>0.05</td>\n",
       "      <td>0.50</td>\n",
       "      <td>0.500000</td>\n",
       "    </tr>\n",
       "    <tr>\n",
       "      <th>1</th>\n",
       "      <td>Chronic</td>\n",
       "      <td>0.6</td>\n",
       "      <td>30</td>\n",
       "      <td>30</td>\n",
       "      <td>0.10</td>\n",
       "      <td>0.50</td>\n",
       "      <td>0.500000</td>\n",
       "    </tr>\n",
       "    <tr>\n",
       "      <th>2</th>\n",
       "      <td>Acute</td>\n",
       "      <td>0.2</td>\n",
       "      <td>15</td>\n",
       "      <td>5</td>\n",
       "      <td>0.05</td>\n",
       "      <td>0.25</td>\n",
       "      <td>0.083333</td>\n",
       "    </tr>\n",
       "  </tbody>\n",
       "</table>\n",
       "</div>"
      ],
      "text/plain": [
       "           Type  Frequency  Time_Mean  Time_WorstCase  Perc_WorstCase  \\\n",
       "0  Preventative        0.2         30              30            0.05   \n",
       "1       Chronic        0.6         30              30            0.10   \n",
       "2         Acute        0.2         15               5            0.05   \n",
       "\n",
       "   Time_Mean_hrs  Time_WorstCase_hrs  \n",
       "0           0.50            0.500000  \n",
       "1           0.50            0.500000  \n",
       "2           0.25            0.083333  "
      ]
     },
     "execution_count": 637,
     "metadata": {},
     "output_type": "execute_result"
    }
   ],
   "source": [
    "base_case_types"
   ]
  },
  {
   "cell_type": "code",
   "execution_count": 192,
   "metadata": {},
   "outputs": [],
   "source": [
    "cols = ['Step', 'Process', 'Staff', 'Time_Mean', 'Time_WorstCase', 'Perc_WorstCase']\n",
    "appt = ['Schedule', 'Make_appointment', 'CSR', 5, 5, low]\n",
    "checkin = ['Arrive', 'Check_in', 'CSR', 2, 3, low]\n",
    "wait = ['Arrive', 'Waiting_room', 'FlowStaff', 3, 5, low]\n",
    "to_room = ['Arrive', 'To_exam_room', 'FlowStaff', 1, 0, low]\n",
    "vitals = ['Exam_prep', 'Vitals_check', 'FlowStaff', 2, 0, low]\n",
    "refine_complaint = ['Exam_prep', 'Refine_complaint', 'FlowStaff', 15, 15, high]\n",
    "start_note = ['Exam_prep', 'Start_note', 'FlowStaff', 1, 0, low]\n",
    "exam = ['Exam_provider', 'Exam', 'Doctor', np.nan, np.nan, np.nan] # Because simulating, to be filled on the go\n",
    "checkout = ['Conclude', 'Checkout', 'CSR', 5, 5, medium]\n",
    "process_flow = pd.DataFrame([appt, checkin, wait, to_room, vitals, refine_complaint, start_note, exam, checkout], columns = cols)"
   ]
  },
  {
   "cell_type": "code",
   "execution_count": 193,
   "metadata": {},
   "outputs": [],
   "source": [
    "process_flow['Time_Mean_hrs'] = process_flow['Time_Mean'] / 60\n",
    "process_flow['Time_WorstCase_hrs'] = process_flow['Time_WorstCase'] / 60"
   ]
  },
  {
   "cell_type": "code",
   "execution_count": 218,
   "metadata": {},
   "outputs": [],
   "source": [
    "process_flow['Servers'] = process_flow['Staff'].map(providers)"
   ]
  },
  {
   "cell_type": "code",
   "execution_count": 219,
   "metadata": {},
   "outputs": [
    {
     "data": {
      "text/html": [
       "<div>\n",
       "<style scoped>\n",
       "    .dataframe tbody tr th:only-of-type {\n",
       "        vertical-align: middle;\n",
       "    }\n",
       "\n",
       "    .dataframe tbody tr th {\n",
       "        vertical-align: top;\n",
       "    }\n",
       "\n",
       "    .dataframe thead th {\n",
       "        text-align: right;\n",
       "    }\n",
       "</style>\n",
       "<table border=\"1\" class=\"dataframe\">\n",
       "  <thead>\n",
       "    <tr style=\"text-align: right;\">\n",
       "      <th></th>\n",
       "      <th>Step</th>\n",
       "      <th>Process</th>\n",
       "      <th>Staff</th>\n",
       "      <th>Time_Mean</th>\n",
       "      <th>Time_WorstCase</th>\n",
       "      <th>Perc_WorstCase</th>\n",
       "      <th>Time_Mean_hrs</th>\n",
       "      <th>Time_WorstCase_hrs</th>\n",
       "      <th>Servers</th>\n",
       "    </tr>\n",
       "  </thead>\n",
       "  <tbody>\n",
       "    <tr>\n",
       "      <th>0</th>\n",
       "      <td>Schedule</td>\n",
       "      <td>Make_appointment</td>\n",
       "      <td>CSR</td>\n",
       "      <td>5.0</td>\n",
       "      <td>5.0</td>\n",
       "      <td>0.05</td>\n",
       "      <td>0.083333</td>\n",
       "      <td>0.083333</td>\n",
       "      <td>10</td>\n",
       "    </tr>\n",
       "    <tr>\n",
       "      <th>1</th>\n",
       "      <td>Arrive</td>\n",
       "      <td>Check_in</td>\n",
       "      <td>CSR</td>\n",
       "      <td>2.0</td>\n",
       "      <td>3.0</td>\n",
       "      <td>0.05</td>\n",
       "      <td>0.033333</td>\n",
       "      <td>0.050000</td>\n",
       "      <td>10</td>\n",
       "    </tr>\n",
       "    <tr>\n",
       "      <th>2</th>\n",
       "      <td>Arrive</td>\n",
       "      <td>Waiting_room</td>\n",
       "      <td>FlowStaff</td>\n",
       "      <td>3.0</td>\n",
       "      <td>5.0</td>\n",
       "      <td>0.05</td>\n",
       "      <td>0.050000</td>\n",
       "      <td>0.083333</td>\n",
       "      <td>20</td>\n",
       "    </tr>\n",
       "    <tr>\n",
       "      <th>3</th>\n",
       "      <td>Arrive</td>\n",
       "      <td>To_exam_room</td>\n",
       "      <td>FlowStaff</td>\n",
       "      <td>1.0</td>\n",
       "      <td>0.0</td>\n",
       "      <td>0.05</td>\n",
       "      <td>0.016667</td>\n",
       "      <td>0.000000</td>\n",
       "      <td>20</td>\n",
       "    </tr>\n",
       "    <tr>\n",
       "      <th>4</th>\n",
       "      <td>Exam_prep</td>\n",
       "      <td>Vitals_check</td>\n",
       "      <td>FlowStaff</td>\n",
       "      <td>2.0</td>\n",
       "      <td>0.0</td>\n",
       "      <td>0.05</td>\n",
       "      <td>0.033333</td>\n",
       "      <td>0.000000</td>\n",
       "      <td>20</td>\n",
       "    </tr>\n",
       "    <tr>\n",
       "      <th>5</th>\n",
       "      <td>Exam_prep</td>\n",
       "      <td>Refine_complaint</td>\n",
       "      <td>FlowStaff</td>\n",
       "      <td>15.0</td>\n",
       "      <td>15.0</td>\n",
       "      <td>0.20</td>\n",
       "      <td>0.250000</td>\n",
       "      <td>0.250000</td>\n",
       "      <td>20</td>\n",
       "    </tr>\n",
       "    <tr>\n",
       "      <th>6</th>\n",
       "      <td>Exam_prep</td>\n",
       "      <td>Start_note</td>\n",
       "      <td>FlowStaff</td>\n",
       "      <td>1.0</td>\n",
       "      <td>0.0</td>\n",
       "      <td>0.05</td>\n",
       "      <td>0.016667</td>\n",
       "      <td>0.000000</td>\n",
       "      <td>20</td>\n",
       "    </tr>\n",
       "    <tr>\n",
       "      <th>7</th>\n",
       "      <td>Exam_provider</td>\n",
       "      <td>Exam</td>\n",
       "      <td>Doctor</td>\n",
       "      <td>NaN</td>\n",
       "      <td>NaN</td>\n",
       "      <td>NaN</td>\n",
       "      <td>NaN</td>\n",
       "      <td>NaN</td>\n",
       "      <td>9</td>\n",
       "    </tr>\n",
       "    <tr>\n",
       "      <th>8</th>\n",
       "      <td>Conclude</td>\n",
       "      <td>Checkout</td>\n",
       "      <td>CSR</td>\n",
       "      <td>5.0</td>\n",
       "      <td>5.0</td>\n",
       "      <td>0.10</td>\n",
       "      <td>0.083333</td>\n",
       "      <td>0.083333</td>\n",
       "      <td>10</td>\n",
       "    </tr>\n",
       "  </tbody>\n",
       "</table>\n",
       "</div>"
      ],
      "text/plain": [
       "            Step           Process      Staff  Time_Mean  Time_WorstCase  \\\n",
       "0       Schedule  Make_appointment        CSR        5.0             5.0   \n",
       "1         Arrive          Check_in        CSR        2.0             3.0   \n",
       "2         Arrive      Waiting_room  FlowStaff        3.0             5.0   \n",
       "3         Arrive      To_exam_room  FlowStaff        1.0             0.0   \n",
       "4      Exam_prep      Vitals_check  FlowStaff        2.0             0.0   \n",
       "5      Exam_prep  Refine_complaint  FlowStaff       15.0            15.0   \n",
       "6      Exam_prep        Start_note  FlowStaff        1.0             0.0   \n",
       "7  Exam_provider              Exam     Doctor        NaN             NaN   \n",
       "8       Conclude          Checkout        CSR        5.0             5.0   \n",
       "\n",
       "   Perc_WorstCase  Time_Mean_hrs  Time_WorstCase_hrs  Servers  \n",
       "0            0.05       0.083333            0.083333       10  \n",
       "1            0.05       0.033333            0.050000       10  \n",
       "2            0.05       0.050000            0.083333       20  \n",
       "3            0.05       0.016667            0.000000       20  \n",
       "4            0.05       0.033333            0.000000       20  \n",
       "5            0.20       0.250000            0.250000       20  \n",
       "6            0.05       0.016667            0.000000       20  \n",
       "7             NaN            NaN                 NaN        9  \n",
       "8            0.10       0.083333            0.083333       10  "
      ]
     },
     "execution_count": 219,
     "metadata": {},
     "output_type": "execute_result"
    }
   ],
   "source": [
    "process_flow"
   ]
  },
  {
   "cell_type": "markdown",
   "metadata": {},
   "source": [
    "#### _Simulated process_"
   ]
  },
  {
   "cell_type": "markdown",
   "metadata": {},
   "source": [
    "Start after `Make_appointment` process"
   ]
  },
  {
   "cell_type": "code",
   "execution_count": 382,
   "metadata": {},
   "outputs": [],
   "source": [
    "process_flow_clinic = process_flow.iloc[1:]"
   ]
  },
  {
   "cell_type": "code",
   "execution_count": 588,
   "metadata": {},
   "outputs": [],
   "source": [
    "n_sims = 500"
   ]
  },
  {
   "cell_type": "code",
   "execution_count": 589,
   "metadata": {},
   "outputs": [],
   "source": [
    "initial_arrivals = np.zeros(shape = n_sims)\n",
    "end_served = np.zeros(shape = n_sims)\n",
    "mean_serv_time = np.zeros(shape = n_sims)\n",
    "\n",
    "for i_sim in range(n_sims) :\n",
    "    served = list()\n",
    "    waiting = list()\n",
    "    n_arrivals = np.random.poisson(arrival_rate)\n",
    "    initial_arrivals[i_sim] = n_arrivals\n",
    "    \n",
    "    time_thru = np.zeros(shape = n_arrivals)\n",
    "    \n",
    "    # Go by each process\n",
    "    for p in process_flow_clinic['Process'] :\n",
    "        if p == 'Exam' :\n",
    "            visit_types = np.random.choice(base_case_types['Type'].values, p = base_case_types['Frequency'].values, size = n_arrivals)\n",
    "            visit_dict = dict()\n",
    "            for v in visit_types :\n",
    "                if v in visit_dict.keys() :\n",
    "                    visit_dict[v] += 1\n",
    "                else :\n",
    "                    visit_dict[v] = 1\n",
    "            serv_time_list = list()\n",
    "            for k, v in visit_dict.items() :\n",
    "                proc_avg = base_case_types.loc[base_case_types['Type'] == k, 'Time_Mean_hrs'].item()\n",
    "                proc_worstcase = base_case_types.loc[base_case_types['Type'] == k, 'Time_WorstCase_hrs'].item()\n",
    "                proc_std = proc_worstcase / stats.skewnorm.ppf(1 - base_case_types.loc[base_case_types['Type'] == k, 'Perc_WorstCase'].item(), avg)\n",
    "                proc_dist = stats.skewnorm.rvs(0.5, loc = proc_avg, scale = proc_std, size = 1000)\n",
    "                proc_dist[proc_dist < proc_avg / 2] = proc_avg / 2\n",
    "                serv_time_type = np.random.choice(proc_dist, size = v)\n",
    "                for s in serv_time_type :\n",
    "                    serv_time_list.append(s)\n",
    "            serv_time = np.asarray(serv_time_list)\n",
    "            \n",
    "            n_servers = process_flow_clinic.loc[process_flow_clinic['Process'] == p, 'Servers'].item()\n",
    "            if n_arrivals <= n_servers :\n",
    "                n_served = n_arrivals\n",
    "            else :\n",
    "                full_serves = (n_arrivals // n_servers) + 1\n",
    "                pad_resize = (full_serves * n_servers) - n_arrivals\n",
    "                serv_time_pad = np.pad(serv_time, (0, pad_resize), mode = 'constant')\n",
    "                reshaped_pad_serve_time = np.reshape(serv_time_pad, (full_serves, n_servers))\n",
    "                total_serve_times = reshaped_pad_serve_time.sum(axis = 0)\n",
    "                if any(total_serve_times > 1) :\n",
    "                    for i in range(len(reshaped_pad_serve_time)) :\n",
    "                        running_serve_time_cumu = reshaped_pad_serve_time[:i+1].sum(axis = 0)\n",
    "                        if any(running_serve_time_cumu > 1) :\n",
    "                            n_served = (n_servers - sum(running_serve_time_cumu > 1) - sum(serv_time_pad == 0) + (i * n_servers))\n",
    "                else :\n",
    "                    n_served = n_arrivals\n",
    "\n",
    "            n_waiting = n_arrivals - n_served\n",
    "\n",
    "            #Prepare transition to next step\n",
    "            n_arrivals = n_served\n",
    "            served.append(n_served)\n",
    "            waiting.append(n_waiting)\n",
    "            #NOT RIGHT WAY TO DO IT, NOT REMOVING ONE THAT ACTUALLY RAN OVER\n",
    "            time_thru = time_thru[:n_served]\n",
    "            time_thru += serv_time[:n_served]\n",
    "        \n",
    "        else :\n",
    "            #Create process distribution and choose random sample of n_arrival samples from distribution\n",
    "            proc_avg = process_flow_clinic.loc[process_flow_clinic['Process'] == p, 'Time_Mean_hrs'].item()\n",
    "            proc_worstcase = process_flow_clinic.loc[process_flow_clinic['Process'] == p, 'Time_WorstCase_hrs'].item()\n",
    "            proc_std = proc_worstcase / stats.skewnorm.ppf(1 - process_flow_clinic.loc[process_flow_clinic['Process'] == p, 'Perc_WorstCase'].item(), avg)\n",
    "            proc_dist = stats.skewnorm.rvs(0.5, loc = proc_avg, scale = proc_std, size = 1000)\n",
    "            proc_dist[proc_dist < proc_avg / 2] = proc_avg / 2\n",
    "\n",
    "            #Check whether all can be served\n",
    "            n_servers = process_flow_clinic.loc[process_flow_clinic['Process'] == p, 'Servers'].item()\n",
    "            serv_time = np.random.choice(proc_dist, size = n_arrivals)\n",
    "            if n_arrivals <= n_servers :\n",
    "                n_served = n_arrivals\n",
    "            else :\n",
    "                full_serves = (n_arrivals // n_servers) + 1\n",
    "                pad_resize = (full_serves * n_servers) - n_arrivals\n",
    "                serv_time_pad = np.pad(serv_time, (0, pad_resize), mode = 'constant')\n",
    "                reshaped_pad_serve_time = np.reshape(serv_time_pad, (full_serves, n_servers))\n",
    "                total_serve_times = reshaped_pad_serve_time.sum(axis = 0)\n",
    "                if any(total_serve_times > 1) :\n",
    "                    for i in range(len(reshaped_pad_serve_time)) :\n",
    "                        running_serve_time_cumu = reshaped_pad_serve_time[:i+1].sum(axis = 0)\n",
    "                        if any(running_serve_time_cumu > 1) :\n",
    "                            n_served = (n_servers - sum(running_serve_time_cumu > 1) - sum(serv_time_pad == 0) + (i * n_servers))\n",
    "                else :\n",
    "                    n_served = n_arrivals\n",
    "\n",
    "            n_waiting = n_arrivals - n_served\n",
    "\n",
    "            #Prepare transition to next step\n",
    "            n_arrivals = n_served\n",
    "            served.append(n_served)\n",
    "            waiting.append(n_waiting)\n",
    "            time_thru = time_thru[:n_served]\n",
    "            time_thru += serv_time[:n_served]\n",
    "    end_served[i_sim] = served[-1]\n",
    "    mean_serv_time[i_sim] = np.mean(time_thru)"
   ]
  },
  {
   "cell_type": "markdown",
   "metadata": {},
   "source": [
    "### Simulation results"
   ]
  },
  {
   "cell_type": "code",
   "execution_count": 631,
   "metadata": {},
   "outputs": [
    {
     "data": {
      "image/png": "[encoded data removed]",
      "text/plain": [
       "<Figure size 576x288 with 1 Axes>"
      ]
     },
     "metadata": {
      "needs_background": "light"
     },
     "output_type": "display_data"
    }
   ],
   "source": [
    "fig, ax = plt.subplots(figsize = (8, 4))\n",
    "sns.distplot(mean_serv_time*60, ax = ax)\n",
    "ax.axvline(np.median(mean_serv_time)*60, c = 'green')\n",
    "ax.set_title('Average time to serve patients\\nMedian time at {:.2f} minutes'.format(np.median(mean_serv_time)*60))\n",
    "ax.set_xlabel('Minutes')\n",
    "ax.set_ylabel('Density')\n",
    "plt.show()"
   ]
  },
  {
   "cell_type": "code",
   "execution_count": 634,
   "metadata": {},
   "outputs": [
    {
     "data": {
      "image/png": "[encoded data removed]",
      "text/plain": [
       "<Figure size 288x432 with 1 Axes>"
      ]
     },
     "metadata": {
      "needs_background": "light"
     },
     "output_type": "display_data"
    }
   ],
   "source": [
    "fig, ax = plt.subplots(figsize = (4, 6))\n",
    "ax.scatter(np.zeros(shape = len(initial_arrivals)), initial_arrivals, alpha = 0.25)\n",
    "ax.scatter(np.ones(shape = len(end_served)), end_served, alpha = 0.15)\n",
    "ax.plot([0, 1], [np.mean(initial_arrivals), np.mean(end_served)], c = 'firebrick')\n",
    "ax.set_xticks([0, 1])\n",
    "ax.set_xticklabels(['Arrivals', 'End Served'])\n",
    "ax.set_yticks(np.arange(0, np.max(initial_arrivals) + 5, 5))\n",
    "ax.set_ylabel('#')\n",
    "ax.set_title('Dropoff from initial arrivals to end served\\nMean dropoff of {:.2f} patients'.format(np.mean(initial_arrivals) - np.mean(end_served)))\n",
    "plt.show()"
   ]
  },
  {
   "cell_type": "code",
   "execution_count": null,
   "metadata": {},
   "outputs": [],
   "source": []
  }
 ],
 "metadata": {
  "kernelspec": {
   "display_name": "Python 3",
   "language": "python",
   "name": "python3"
  },
  "language_info": {
   "codemirror_mode": {
    "name": "ipython",
    "version": 3
   },
   "file_extension": ".py",
   "mimetype": "text/x-python",
   "name": "python",
   "nbconvert_exporter": "python",
   "pygments_lexer": "ipython3",
   "version": "3.6.8"
  }
 },
 "nbformat": 4,
 "nbformat_minor": 2
}
