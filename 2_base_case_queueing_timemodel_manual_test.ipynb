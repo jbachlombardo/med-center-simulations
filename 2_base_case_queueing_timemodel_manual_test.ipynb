{
 "cells": [
  {
   "cell_type": "code",
   "execution_count": 1,
   "metadata": {},
   "outputs": [],
   "source": [
    "import numpy as np\n",
    "import matplotlib.pyplot as plt\n",
    "import pandas as pd\n",
    "from scipy import stats\n",
    "import seaborn as sns"
   ]
  },
  {
   "cell_type": "markdown",
   "metadata": {},
   "source": [
    "### Single step test"
   ]
  },
  {
   "cell_type": "code",
   "execution_count": 48,
   "metadata": {},
   "outputs": [],
   "source": [
    "# Arrivals to be modeled as poisson, scaling down to minute arrivals\n",
    "arrivals_day = 100\n",
    "arrivals_hour = arrivals_day / 10\n",
    "arrivals_minute = arrivals_hour / 60"
   ]
  },
  {
   "cell_type": "code",
   "execution_count": 49,
   "metadata": {},
   "outputs": [],
   "source": [
    "n_servers = 5"
   ]
  },
  {
   "cell_type": "code",
   "execution_count": 50,
   "metadata": {},
   "outputs": [],
   "source": [
    "serve_time = 10 # Static serve time (in minutes) to start -- no variation"
   ]
  },
  {
   "cell_type": "code",
   "execution_count": 80,
   "metadata": {},
   "outputs": [],
   "source": [
    "# Treat servers as dictionary to keep track of who is busy\n",
    "# NaN means empty server\n",
    "# If busy, dict will take form of {'Server#': n_minutes_left_service}\n",
    "server_dict = {}\n",
    "for i in range(n_servers) :\n",
    "    servname = 'Server' + str(i)\n",
    "    server_dict[servname] = np.nan"
   ]
  },
  {
   "cell_type": "code",
   "execution_count": 194,
   "metadata": {},
   "outputs": [],
   "source": [
    "# Treat waiting as dictionary\n",
    "# If someone waits, will be added to dictionary with form of {'Waiting#': n_minutes_waiting}\n",
    "waiting_dict = {}"
   ]
  },
  {
   "cell_type": "markdown",
   "metadata": {},
   "source": [
    "#### Manual time by time period test\n",
    "\n",
    "Will need to automate rolling of time periods to bring everything together after mechanics worked out"
   ]
  },
  {
   "cell_type": "markdown",
   "metadata": {},
   "source": [
    "#### _t_0_"
   ]
  },
  {
   "cell_type": "code",
   "execution_count": 82,
   "metadata": {},
   "outputs": [
    {
     "name": "stdout",
     "output_type": "stream",
     "text": [
      "Serving: {'Server0': nan, 'Server1': nan, 'Server2': nan, 'Server3': nan, 'Server4': nan}\n",
      "Waiting: {}\n"
     ]
    }
   ],
   "source": [
    "print ('Serving:', server_dict)\n",
    "print ('Waiting:', waiting_dict)"
   ]
  },
  {
   "cell_type": "markdown",
   "metadata": {},
   "source": [
    "#### _t_1_"
   ]
  },
  {
   "cell_type": "code",
   "execution_count": 64,
   "metadata": {},
   "outputs": [
    {
     "name": "stdout",
     "output_type": "stream",
     "text": [
      "No arrivals\n"
     ]
    }
   ],
   "source": [
    "n_arrivals = np.random.poisson(arrivals_minute)\n",
    "if n_arrivals < 1 :\n",
    "    print ('No arrivals')\n",
    "else :\n",
    "    print ('Arrivals:', n_arrivals)"
   ]
  },
  {
   "cell_type": "markdown",
   "metadata": {},
   "source": [
    "#### _t_2_"
   ]
  },
  {
   "cell_type": "code",
   "execution_count": 65,
   "metadata": {},
   "outputs": [
    {
     "name": "stdout",
     "output_type": "stream",
     "text": [
      "Arrivals: 1\n"
     ]
    }
   ],
   "source": [
    "n_arrivals = np.random.poisson(arrivals_minute)\n",
    "if n_arrivals < 1 :\n",
    "    print ('No arrivals')\n",
    "else :\n",
    "    print ('Arrivals:', n_arrivals)"
   ]
  },
  {
   "cell_type": "code",
   "execution_count": 83,
   "metadata": {},
   "outputs": [],
   "source": [
    "arrivals_placed = 0\n",
    "for k, v in server_dict.items() :\n",
    "    if np.isnan(v) :\n",
    "        server_dict[k] = serve_time\n",
    "        arrivals_placed += 1\n",
    "        if arrivals_placed >= n_arrivals :\n",
    "            break"
   ]
  },
  {
   "cell_type": "code",
   "execution_count": 84,
   "metadata": {},
   "outputs": [
    {
     "data": {
      "text/plain": [
       "{'Server0': 10, 'Server1': nan, 'Server2': nan, 'Server3': nan, 'Server4': nan}"
      ]
     },
     "execution_count": 84,
     "metadata": {},
     "output_type": "execute_result"
    }
   ],
   "source": [
    "server_dict"
   ]
  },
  {
   "cell_type": "markdown",
   "metadata": {},
   "source": [
    "#### _t_3_"
   ]
  },
  {
   "cell_type": "code",
   "execution_count": 85,
   "metadata": {},
   "outputs": [],
   "source": [
    "# Decrease service times as first step\n",
    "for k, v in server_dict.items() :\n",
    "    if np.isnan(v) :\n",
    "        continue\n",
    "    else :\n",
    "        server_dict[k] -= 1"
   ]
  },
  {
   "cell_type": "code",
   "execution_count": 86,
   "metadata": {},
   "outputs": [
    {
     "data": {
      "text/plain": [
       "{'Server0': 9, 'Server1': nan, 'Server2': nan, 'Server3': nan, 'Server4': nan}"
      ]
     },
     "execution_count": 86,
     "metadata": {},
     "output_type": "execute_result"
    }
   ],
   "source": [
    "server_dict"
   ]
  },
  {
   "cell_type": "code",
   "execution_count": 87,
   "metadata": {},
   "outputs": [
    {
     "name": "stdout",
     "output_type": "stream",
     "text": [
      "No arrivals\n"
     ]
    }
   ],
   "source": [
    "n_arrivals = np.random.poisson(arrivals_minute)\n",
    "if n_arrivals < 1 :\n",
    "    print ('No arrivals')\n",
    "else :\n",
    "    print ('Arrivals:', n_arrivals)"
   ]
  },
  {
   "cell_type": "markdown",
   "metadata": {},
   "source": [
    "No arrivals, so proceed to next step"
   ]
  },
  {
   "cell_type": "markdown",
   "metadata": {},
   "source": [
    "#### _t_4_"
   ]
  },
  {
   "cell_type": "code",
   "execution_count": 88,
   "metadata": {},
   "outputs": [
    {
     "data": {
      "text/plain": [
       "{'Server0': 8, 'Server1': nan, 'Server2': nan, 'Server3': nan, 'Server4': nan}"
      ]
     },
     "execution_count": 88,
     "metadata": {},
     "output_type": "execute_result"
    }
   ],
   "source": [
    "# Decrease service times as first step\n",
    "for k, v in server_dict.items() :\n",
    "    if np.isnan(v) :\n",
    "        continue\n",
    "    else :\n",
    "        server_dict[k] -= 1\n",
    "server_dict"
   ]
  },
  {
   "cell_type": "code",
   "execution_count": 89,
   "metadata": {},
   "outputs": [
    {
     "name": "stdout",
     "output_type": "stream",
     "text": [
      "Arrivals: 1\n"
     ]
    }
   ],
   "source": [
    "n_arrivals = np.random.poisson(arrivals_minute)\n",
    "if n_arrivals < 1 :\n",
    "    print ('No arrivals')\n",
    "else :\n",
    "    print ('Arrivals:', n_arrivals)"
   ]
  },
  {
   "cell_type": "code",
   "execution_count": 90,
   "metadata": {},
   "outputs": [],
   "source": [
    "arrivals_placed = 0\n",
    "for k, v in server_dict.items() :\n",
    "    if np.isnan(v) :\n",
    "        server_dict[k] = serve_time\n",
    "        arrivals_placed += 1\n",
    "        if arrivals_placed >= n_arrivals :\n",
    "            break"
   ]
  },
  {
   "cell_type": "code",
   "execution_count": 91,
   "metadata": {},
   "outputs": [
    {
     "data": {
      "text/plain": [
       "{'Server0': 8, 'Server1': 10, 'Server2': nan, 'Server3': nan, 'Server4': nan}"
      ]
     },
     "execution_count": 91,
     "metadata": {},
     "output_type": "execute_result"
    }
   ],
   "source": [
    "server_dict"
   ]
  },
  {
   "cell_type": "markdown",
   "metadata": {},
   "source": [
    "#### _t_5_"
   ]
  },
  {
   "cell_type": "code",
   "execution_count": 92,
   "metadata": {},
   "outputs": [
    {
     "data": {
      "text/plain": [
       "{'Server0': 7, 'Server1': 9, 'Server2': nan, 'Server3': nan, 'Server4': nan}"
      ]
     },
     "execution_count": 92,
     "metadata": {},
     "output_type": "execute_result"
    }
   ],
   "source": [
    "# Decrease service times as first step\n",
    "for k, v in server_dict.items() :\n",
    "    if np.isnan(v) :\n",
    "        continue\n",
    "    else :\n",
    "        server_dict[k] -= 1\n",
    "server_dict"
   ]
  },
  {
   "cell_type": "code",
   "execution_count": 93,
   "metadata": {},
   "outputs": [
    {
     "name": "stdout",
     "output_type": "stream",
     "text": [
      "No arrivals\n"
     ]
    }
   ],
   "source": [
    "n_arrivals = np.random.poisson(arrivals_minute)\n",
    "if n_arrivals < 1 :\n",
    "    print ('No arrivals')\n",
    "else :\n",
    "    print ('Arrivals:', n_arrivals)"
   ]
  },
  {
   "cell_type": "markdown",
   "metadata": {},
   "source": [
    "#### _t_6_"
   ]
  },
  {
   "cell_type": "code",
   "execution_count": 94,
   "metadata": {},
   "outputs": [
    {
     "data": {
      "text/plain": [
       "{'Server0': 6, 'Server1': 8, 'Server2': nan, 'Server3': nan, 'Server4': nan}"
      ]
     },
     "execution_count": 94,
     "metadata": {},
     "output_type": "execute_result"
    }
   ],
   "source": [
    "# Decrease service times as first step\n",
    "for k, v in server_dict.items() :\n",
    "    if np.isnan(v) :\n",
    "        continue\n",
    "    else :\n",
    "        server_dict[k] -= 1\n",
    "server_dict"
   ]
  },
  {
   "cell_type": "code",
   "execution_count": 95,
   "metadata": {},
   "outputs": [
    {
     "name": "stdout",
     "output_type": "stream",
     "text": [
      "Arrivals: 1\n"
     ]
    }
   ],
   "source": [
    "n_arrivals = np.random.poisson(arrivals_minute)\n",
    "if n_arrivals < 1 :\n",
    "    print ('No arrivals')\n",
    "else :\n",
    "    print ('Arrivals:', n_arrivals)"
   ]
  },
  {
   "cell_type": "code",
   "execution_count": 96,
   "metadata": {},
   "outputs": [],
   "source": [
    "arrivals_placed = 0\n",
    "for k, v in server_dict.items() :\n",
    "    if np.isnan(v) :\n",
    "        server_dict[k] = serve_time\n",
    "        arrivals_placed += 1\n",
    "        if arrivals_placed >= n_arrivals :\n",
    "            break"
   ]
  },
  {
   "cell_type": "code",
   "execution_count": 97,
   "metadata": {},
   "outputs": [
    {
     "data": {
      "text/plain": [
       "{'Server0': 6, 'Server1': 8, 'Server2': 10, 'Server3': nan, 'Server4': nan}"
      ]
     },
     "execution_count": 97,
     "metadata": {},
     "output_type": "execute_result"
    }
   ],
   "source": [
    "server_dict"
   ]
  },
  {
   "cell_type": "markdown",
   "metadata": {},
   "source": [
    "#### _t_7_"
   ]
  },
  {
   "cell_type": "code",
   "execution_count": 98,
   "metadata": {},
   "outputs": [
    {
     "data": {
      "text/plain": [
       "{'Server0': 5, 'Server1': 7, 'Server2': 9, 'Server3': nan, 'Server4': nan}"
      ]
     },
     "execution_count": 98,
     "metadata": {},
     "output_type": "execute_result"
    }
   ],
   "source": [
    "# Decrease service times as first step\n",
    "for k, v in server_dict.items() :\n",
    "    if np.isnan(v) :\n",
    "        continue\n",
    "    else :\n",
    "        server_dict[k] -= 1\n",
    "server_dict"
   ]
  },
  {
   "cell_type": "code",
   "execution_count": 99,
   "metadata": {},
   "outputs": [
    {
     "name": "stdout",
     "output_type": "stream",
     "text": [
      "Arrivals: 1\n"
     ]
    }
   ],
   "source": [
    "n_arrivals = np.random.poisson(arrivals_minute)\n",
    "if n_arrivals < 1 :\n",
    "    print ('No arrivals')\n",
    "else :\n",
    "    print ('Arrivals:', n_arrivals)"
   ]
  },
  {
   "cell_type": "code",
   "execution_count": 100,
   "metadata": {},
   "outputs": [],
   "source": [
    "arrivals_placed = 0\n",
    "for k, v in server_dict.items() :\n",
    "    if np.isnan(v) :\n",
    "        server_dict[k] = serve_time\n",
    "        arrivals_placed += 1\n",
    "        if arrivals_placed >= n_arrivals :\n",
    "            break"
   ]
  },
  {
   "cell_type": "code",
   "execution_count": 101,
   "metadata": {},
   "outputs": [
    {
     "data": {
      "text/plain": [
       "{'Server0': 5, 'Server1': 7, 'Server2': 9, 'Server3': 10, 'Server4': nan}"
      ]
     },
     "execution_count": 101,
     "metadata": {},
     "output_type": "execute_result"
    }
   ],
   "source": [
    "server_dict"
   ]
  },
  {
   "cell_type": "markdown",
   "metadata": {},
   "source": [
    "#### _t_8_"
   ]
  },
  {
   "cell_type": "code",
   "execution_count": 102,
   "metadata": {},
   "outputs": [
    {
     "data": {
      "text/plain": [
       "{'Server0': 4, 'Server1': 6, 'Server2': 8, 'Server3': 9, 'Server4': nan}"
      ]
     },
     "execution_count": 102,
     "metadata": {},
     "output_type": "execute_result"
    }
   ],
   "source": [
    "# Decrease service times as first step\n",
    "for k, v in server_dict.items() :\n",
    "    if np.isnan(v) :\n",
    "        continue\n",
    "    else :\n",
    "        server_dict[k] -= 1\n",
    "server_dict"
   ]
  },
  {
   "cell_type": "code",
   "execution_count": 103,
   "metadata": {},
   "outputs": [
    {
     "name": "stdout",
     "output_type": "stream",
     "text": [
      "No arrivals\n"
     ]
    }
   ],
   "source": [
    "n_arrivals = np.random.poisson(arrivals_minute)\n",
    "if n_arrivals < 1 :\n",
    "    print ('No arrivals')\n",
    "else :\n",
    "    print ('Arrivals:', n_arrivals)"
   ]
  },
  {
   "cell_type": "markdown",
   "metadata": {},
   "source": [
    "#### _t_9_"
   ]
  },
  {
   "cell_type": "code",
   "execution_count": 104,
   "metadata": {},
   "outputs": [
    {
     "data": {
      "text/plain": [
       "{'Server0': 3, 'Server1': 5, 'Server2': 7, 'Server3': 8, 'Server4': nan}"
      ]
     },
     "execution_count": 104,
     "metadata": {},
     "output_type": "execute_result"
    }
   ],
   "source": [
    "# Decrease service times as first step\n",
    "for k, v in server_dict.items() :\n",
    "    if np.isnan(v) :\n",
    "        continue\n",
    "    else :\n",
    "        server_dict[k] -= 1\n",
    "server_dict"
   ]
  },
  {
   "cell_type": "code",
   "execution_count": 105,
   "metadata": {},
   "outputs": [
    {
     "name": "stdout",
     "output_type": "stream",
     "text": [
      "No arrivals\n"
     ]
    }
   ],
   "source": [
    "n_arrivals = np.random.poisson(arrivals_minute)\n",
    "if n_arrivals < 1 :\n",
    "    print ('No arrivals')\n",
    "else :\n",
    "    print ('Arrivals:', n_arrivals)"
   ]
  },
  {
   "cell_type": "markdown",
   "metadata": {},
   "source": [
    "#### _t_10_"
   ]
  },
  {
   "cell_type": "code",
   "execution_count": 106,
   "metadata": {},
   "outputs": [
    {
     "data": {
      "text/plain": [
       "{'Server0': 2, 'Server1': 4, 'Server2': 6, 'Server3': 7, 'Server4': nan}"
      ]
     },
     "execution_count": 106,
     "metadata": {},
     "output_type": "execute_result"
    }
   ],
   "source": [
    "# Decrease service times as first step\n",
    "for k, v in server_dict.items() :\n",
    "    if np.isnan(v) :\n",
    "        continue\n",
    "    else :\n",
    "        server_dict[k] -= 1\n",
    "server_dict"
   ]
  },
  {
   "cell_type": "code",
   "execution_count": 107,
   "metadata": {},
   "outputs": [
    {
     "name": "stdout",
     "output_type": "stream",
     "text": [
      "Arrivals: 1\n"
     ]
    }
   ],
   "source": [
    "n_arrivals = np.random.poisson(arrivals_minute)\n",
    "if n_arrivals < 1 :\n",
    "    print ('No arrivals')\n",
    "else :\n",
    "    print ('Arrivals:', n_arrivals)"
   ]
  },
  {
   "cell_type": "code",
   "execution_count": 108,
   "metadata": {},
   "outputs": [],
   "source": [
    "arrivals_placed = 0\n",
    "for k, v in server_dict.items() :\n",
    "    if np.isnan(v) :\n",
    "        server_dict[k] = serve_time\n",
    "        arrivals_placed += 1\n",
    "        if arrivals_placed >= n_arrivals :\n",
    "            break"
   ]
  },
  {
   "cell_type": "code",
   "execution_count": 109,
   "metadata": {},
   "outputs": [
    {
     "data": {
      "text/plain": [
       "{'Server0': 2, 'Server1': 4, 'Server2': 6, 'Server3': 7, 'Server4': 10}"
      ]
     },
     "execution_count": 109,
     "metadata": {},
     "output_type": "execute_result"
    }
   ],
   "source": [
    "server_dict"
   ]
  },
  {
   "cell_type": "markdown",
   "metadata": {},
   "source": [
    "All servers now filled. If new arrival, will need to be placed in waiting queue"
   ]
  },
  {
   "cell_type": "markdown",
   "metadata": {},
   "source": [
    "#### _t_11_"
   ]
  },
  {
   "cell_type": "code",
   "execution_count": 110,
   "metadata": {},
   "outputs": [
    {
     "data": {
      "text/plain": [
       "{'Server0': 1, 'Server1': 3, 'Server2': 5, 'Server3': 6, 'Server4': 9}"
      ]
     },
     "execution_count": 110,
     "metadata": {},
     "output_type": "execute_result"
    }
   ],
   "source": [
    "# Decrease service times as first step\n",
    "for k, v in server_dict.items() :\n",
    "    if np.isnan(v) :\n",
    "        continue\n",
    "    else :\n",
    "        server_dict[k] -= 1\n",
    "server_dict"
   ]
  },
  {
   "cell_type": "code",
   "execution_count": 111,
   "metadata": {},
   "outputs": [
    {
     "name": "stdout",
     "output_type": "stream",
     "text": [
      "No arrivals\n"
     ]
    }
   ],
   "source": [
    "n_arrivals = np.random.poisson(arrivals_minute)\n",
    "if n_arrivals < 1 :\n",
    "    print ('No arrivals')\n",
    "else :\n",
    "    print ('Arrivals:', n_arrivals)"
   ]
  },
  {
   "cell_type": "markdown",
   "metadata": {},
   "source": [
    "#### _t_12_"
   ]
  },
  {
   "cell_type": "markdown",
   "metadata": {},
   "source": [
    "Service time for first server will now be 0, meaning patient has been completed service. Needs to be moved to new `service_complete` counter (as only 1 step service model for now -- in multi-step this person would be fed into the next round) and `Server0` needs to be shown to be open."
   ]
  },
  {
   "cell_type": "markdown",
   "metadata": {},
   "source": [
    "_Resetting dict to account for error in code -- used == instead of = for resetting `Server0` key to `np.nan`_"
   ]
  },
  {
   "cell_type": "code",
   "execution_count": 130,
   "metadata": {},
   "outputs": [],
   "source": [
    "server_dict = {'Server0': 1, 'Server1': 3, 'Server2': 5, 'Server3': 6, 'Server4': 9}"
   ]
  },
  {
   "cell_type": "code",
   "execution_count": 131,
   "metadata": {},
   "outputs": [],
   "source": [
    "service_complete = 0"
   ]
  },
  {
   "cell_type": "code",
   "execution_count": 132,
   "metadata": {},
   "outputs": [
    {
     "data": {
      "text/plain": [
       "{'Server0': nan, 'Server1': 2, 'Server2': 4, 'Server3': 5, 'Server4': 8}"
      ]
     },
     "execution_count": 132,
     "metadata": {},
     "output_type": "execute_result"
    }
   ],
   "source": [
    "# Decrease service times as first step\n",
    "for k, v in server_dict.items() :\n",
    "    if np.isnan(v) :\n",
    "        continue\n",
    "    else :\n",
    "        server_dict[k] -= 1\n",
    "        if server_dict[k] == 0 :\n",
    "            service_complete += 1\n",
    "            server_dict[k] = np.nan\n",
    "server_dict"
   ]
  },
  {
   "cell_type": "markdown",
   "metadata": {},
   "source": [
    "With first patient moved out of queue and `Server0` now free, new arrivals can be slotted in.\n",
    "\n",
    "Pretend new arrivals = 2 to create situation of overfilled service ability to move people into waiting."
   ]
  },
  {
   "cell_type": "code",
   "execution_count": 167,
   "metadata": {},
   "outputs": [],
   "source": [
    "n_arrivals = 2"
   ]
  },
  {
   "cell_type": "code",
   "execution_count": 168,
   "metadata": {},
   "outputs": [],
   "source": [
    "arrivals_placed = 0\n",
    "for k, v in server_dict.items() :\n",
    "    if np.isnan(v) :\n",
    "        server_dict[k] = serve_time\n",
    "        arrivals_placed += 1\n",
    "        if arrivals_placed >= n_arrivals :\n",
    "            break"
   ]
  },
  {
   "cell_type": "code",
   "execution_count": 169,
   "metadata": {},
   "outputs": [
    {
     "data": {
      "text/plain": [
       "{'Server0': 10, 'Server1': 2, 'Server2': 4, 'Server3': 5, 'Server4': 8}"
      ]
     },
     "execution_count": 169,
     "metadata": {},
     "output_type": "execute_result"
    }
   ],
   "source": [
    "server_dict"
   ]
  },
  {
   "cell_type": "markdown",
   "metadata": {},
   "source": [
    "`server_dict` looping setup ensures no overcapacity -- but need to check that `arrivals_placed == n_arrivals` for full service. If `arrivals_placed < n_arrivals`, then difference needs to be added to `waiting` counter."
   ]
  },
  {
   "cell_type": "code",
   "execution_count": 195,
   "metadata": {},
   "outputs": [],
   "source": [
    "if arrivals_placed < n_arrivals :\n",
    "    diff = n_arrivals - arrivals_placed\n",
    "    for i in range(diff) :\n",
    "        waitname = 'Waiting' + str(i)\n",
    "        waiting_dict[waitname] = 1 # Dictionary holder started with waiting count of 1"
   ]
  },
  {
   "cell_type": "code",
   "execution_count": 196,
   "metadata": {},
   "outputs": [
    {
     "data": {
      "text/plain": [
       "{'Waiting0': 1}"
      ]
     },
     "execution_count": 196,
     "metadata": {},
     "output_type": "execute_result"
    }
   ],
   "source": [
    "waiting_dict"
   ]
  },
  {
   "cell_type": "markdown",
   "metadata": {},
   "source": [
    "#### _t_13_"
   ]
  },
  {
   "cell_type": "markdown",
   "metadata": {},
   "source": [
    "Add another new arrival to put an additional person on the `waiting_dict`"
   ]
  },
  {
   "cell_type": "code",
   "execution_count": 174,
   "metadata": {},
   "outputs": [
    {
     "data": {
      "text/plain": [
       "{'Server0': 9, 'Server1': 1, 'Server2': 3, 'Server3': 4, 'Server4': 7}"
      ]
     },
     "execution_count": 174,
     "metadata": {},
     "output_type": "execute_result"
    }
   ],
   "source": [
    "# Decrease service times as first step\n",
    "for k, v in server_dict.items() :\n",
    "    if np.isnan(v) :\n",
    "        continue\n",
    "    else :\n",
    "        server_dict[k] -= 1\n",
    "        if server_dict[k] == 0 :\n",
    "            service_complete += 1\n",
    "            server_dict[k] = np.nan\n",
    "server_dict"
   ]
  },
  {
   "cell_type": "markdown",
   "metadata": {},
   "source": [
    "No people able to move off, so no free spaces. New arrivals will have to go onto waiting dict."
   ]
  },
  {
   "cell_type": "code",
   "execution_count": 175,
   "metadata": {},
   "outputs": [],
   "source": [
    "n_arrivals = 1"
   ]
  },
  {
   "cell_type": "code",
   "execution_count": 176,
   "metadata": {},
   "outputs": [],
   "source": [
    "arrivals_placed = 0\n",
    "for k, v in server_dict.items() :\n",
    "    if np.isnan(v) :\n",
    "        server_dict[k] = serve_time\n",
    "        arrivals_placed += 1\n",
    "        if arrivals_placed >= n_arrivals :\n",
    "            break"
   ]
  },
  {
   "cell_type": "markdown",
   "metadata": {},
   "source": [
    "No change to server_dict because no space to add arrivals, but `arrivals_placed` still less than `n_arrivals`"
   ]
  },
  {
   "cell_type": "code",
   "execution_count": 179,
   "metadata": {},
   "outputs": [
    {
     "data": {
      "text/plain": [
       "{'Server0': 9, 'Server1': 1, 'Server2': 3, 'Server3': 4, 'Server4': 7}"
      ]
     },
     "execution_count": 179,
     "metadata": {},
     "output_type": "execute_result"
    }
   ],
   "source": [
    "server_dict"
   ]
  },
  {
   "cell_type": "code",
   "execution_count": 180,
   "metadata": {},
   "outputs": [
    {
     "data": {
      "text/plain": [
       "True"
      ]
     },
     "execution_count": 180,
     "metadata": {},
     "output_type": "execute_result"
    }
   ],
   "source": [
    "arrivals_placed < n_arrivals"
   ]
  },
  {
   "cell_type": "markdown",
   "metadata": {},
   "source": [
    "Increase waiting time count before adding new waiters to mark passage of time for people already waiting."
   ]
  },
  {
   "cell_type": "code",
   "execution_count": 197,
   "metadata": {},
   "outputs": [],
   "source": [
    "waiting_dict = {k:v + 1 for k, v in waiting_dict.items()}"
   ]
  },
  {
   "cell_type": "code",
   "execution_count": 198,
   "metadata": {},
   "outputs": [
    {
     "data": {
      "text/plain": [
       "{'Waiting0': 2}"
      ]
     },
     "execution_count": 198,
     "metadata": {},
     "output_type": "execute_result"
    }
   ],
   "source": [
    "waiting_dict"
   ]
  },
  {
   "cell_type": "markdown",
   "metadata": {},
   "source": [
    "Modifying dictionary creation model to enable `key` naming structure"
   ]
  },
  {
   "cell_type": "code",
   "execution_count": 199,
   "metadata": {},
   "outputs": [],
   "source": [
    "if arrivals_placed < n_arrivals :\n",
    "    diff = n_arrivals - arrivals_placed\n",
    "    for i in range(diff) :\n",
    "        if len(waiting_dict.keys()) < 1 :\n",
    "            waitname = 'Waiting' + str(i)\n",
    "            waiting_dict[waitname] = 1 # Dictionary holder started with waiting count of 1\n",
    "        else :\n",
    "            keys = np.sort(list(waiting_dict.keys()))\n",
    "            lastwaiter = int(keys[-1][7:])\n",
    "            waitname = 'Waiting' + str(lastwaiter + i + 1)\n",
    "            waiting_dict[waitname] = 1"
   ]
  },
  {
   "cell_type": "code",
   "execution_count": 200,
   "metadata": {},
   "outputs": [
    {
     "data": {
      "text/plain": [
       "{'Waiting0': 2, 'Waiting1': 1}"
      ]
     },
     "execution_count": 200,
     "metadata": {},
     "output_type": "execute_result"
    }
   ],
   "source": [
    "waiting_dict"
   ]
  },
  {
   "cell_type": "markdown",
   "metadata": {},
   "source": [
    "#### _t_14_\n",
    "\n",
    "Final twist to:\n",
    "- Move person to service completed\n",
    "- Move person with longest waiting time from waiting queue to service\n",
    "- Add two new arrivals to queue"
   ]
  },
  {
   "cell_type": "code",
   "execution_count": 201,
   "metadata": {},
   "outputs": [
    {
     "data": {
      "text/plain": [
       "{'Server0': 8, 'Server1': nan, 'Server2': 2, 'Server3': 3, 'Server4': 6}"
      ]
     },
     "execution_count": 201,
     "metadata": {},
     "output_type": "execute_result"
    }
   ],
   "source": [
    "# Decrease service times as first step\n",
    "for k, v in server_dict.items() :\n",
    "    if np.isnan(v) :\n",
    "        continue\n",
    "    else :\n",
    "        server_dict[k] -= 1\n",
    "        if server_dict[k] == 0 :\n",
    "            service_complete += 1\n",
    "            server_dict[k] = np.nan\n",
    "server_dict"
   ]
  },
  {
   "cell_type": "code",
   "execution_count": 202,
   "metadata": {},
   "outputs": [
    {
     "data": {
      "text/plain": [
       "2"
      ]
     },
     "execution_count": 202,
     "metadata": {},
     "output_type": "execute_result"
    }
   ],
   "source": [
    "service_complete"
   ]
  },
  {
   "cell_type": "code",
   "execution_count": 210,
   "metadata": {},
   "outputs": [],
   "source": [
    "n_arrivals = 2"
   ]
  },
  {
   "cell_type": "code",
   "execution_count": 211,
   "metadata": {},
   "outputs": [],
   "source": [
    "# Check how many servers are free\n",
    "servers_free = 0\n",
    "for k, v in server_dict.items() :\n",
    "    if np.isnan(v) :\n",
    "        servers_free += 1"
   ]
  },
  {
   "cell_type": "code",
   "execution_count": 212,
   "metadata": {},
   "outputs": [
    {
     "data": {
      "text/plain": [
       "1"
      ]
     },
     "execution_count": 212,
     "metadata": {},
     "output_type": "execute_result"
    }
   ],
   "source": [
    "servers_free"
   ]
  },
  {
   "cell_type": "code",
   "execution_count": 213,
   "metadata": {},
   "outputs": [
    {
     "name": "stdout",
     "output_type": "stream",
     "text": [
      "From wait list: 1\n",
      "Remaining servers after wait list: 0\n",
      "From new arrivals: 0\n",
      "Remaining servers after new arrivals: 0\n"
     ]
    }
   ],
   "source": [
    "from_wait_list = min(len(waiting_dict.keys()), servers_free)\n",
    "servers_free = from_wait_list - servers_free\n",
    "print ('From wait list:', from_wait_list)\n",
    "print ('Remaining servers after wait list:', servers_free)\n",
    "\n",
    "from_new_arrivals = min(n_arrivals, servers_free)\n",
    "servers_free = from_new_arrivals - servers_free\n",
    "print ('From new arrivals:', from_new_arrivals)\n",
    "print ('Remaining servers after new arrivals:', servers_free)"
   ]
  },
  {
   "cell_type": "markdown",
   "metadata": {},
   "source": [
    "_Remaking `waiting dict` because of error in coding._"
   ]
  },
  {
   "cell_type": "code",
   "execution_count": 251,
   "metadata": {},
   "outputs": [],
   "source": [
    "waiting_dict = {'Waiting0': 2, 'Waiting1': 1}"
   ]
  },
  {
   "cell_type": "code",
   "execution_count": 252,
   "metadata": {},
   "outputs": [],
   "source": [
    "if from_wait_list > 0 :\n",
    "    # Remove number from_wait_list from waiting_dict\n",
    "    on_wait_list = np.sort(list(waiting_dict.keys()))\n",
    "    move_to_serve = on_wait_list[:from_wait_list]\n",
    "    for m in move_to_serve :\n",
    "        del waiting_dict[m]\n",
    "        for k, v in server_dict.items() :\n",
    "            if np.isnan(v) :\n",
    "                server_dict[k] = serve_time"
   ]
  },
  {
   "cell_type": "code",
   "execution_count": 253,
   "metadata": {},
   "outputs": [
    {
     "data": {
      "text/plain": [
       "{'Server0': 8, 'Server1': 10, 'Server2': 2, 'Server3': 3, 'Server4': 6}"
      ]
     },
     "execution_count": 253,
     "metadata": {},
     "output_type": "execute_result"
    }
   ],
   "source": [
    "server_dict"
   ]
  },
  {
   "cell_type": "code",
   "execution_count": 254,
   "metadata": {},
   "outputs": [
    {
     "data": {
      "text/plain": [
       "{'Waiting1': 1}"
      ]
     },
     "execution_count": 254,
     "metadata": {},
     "output_type": "execute_result"
    }
   ],
   "source": [
    "waiting_dict"
   ]
  },
  {
   "cell_type": "code",
   "execution_count": 255,
   "metadata": {},
   "outputs": [],
   "source": [
    "if from_new_arrivals > 0 :\n",
    "    arrivals_placed = 0\n",
    "    for k, v in server_dict.items() :\n",
    "        if np.isnan(v) :\n",
    "            server_dict[k] = serve_time\n",
    "            arrivals_placed += 1\n",
    "            if arrivals_placed >= from_new_arrivals :\n",
    "                break"
   ]
  },
  {
   "cell_type": "markdown",
   "metadata": {},
   "source": [
    "Increase waiting time for people already waiting / those who were not moved to service"
   ]
  },
  {
   "cell_type": "code",
   "execution_count": 256,
   "metadata": {},
   "outputs": [],
   "source": [
    "waiting_dict = {k:v + 1 for k, v in waiting_dict.items()}"
   ]
  },
  {
   "cell_type": "code",
   "execution_count": 257,
   "metadata": {},
   "outputs": [
    {
     "data": {
      "text/plain": [
       "{'Waiting1': 2}"
      ]
     },
     "execution_count": 257,
     "metadata": {},
     "output_type": "execute_result"
    }
   ],
   "source": [
    "waiting_dict"
   ]
  },
  {
   "cell_type": "code",
   "execution_count": 258,
   "metadata": {},
   "outputs": [],
   "source": [
    "if arrivals_placed < n_arrivals :\n",
    "    diff = n_arrivals - arrivals_placed\n",
    "    keys = np.sort(list(waiting_dict.keys())) #FIX PLACEMENT OF KEYS TO PUT OUTSIDE FOR LOOP\n",
    "    for i in range(diff) :\n",
    "        if len(keys) < 1 :\n",
    "            waitname = 'Waiting' + str(i)\n",
    "            waiting_dict[waitname] = 1 # Dictionary holder started with waiting count of 1\n",
    "        else :\n",
    "            lastwaiter = int(keys[-1][7:])\n",
    "            waitname = 'Waiting' + str(lastwaiter + i + 1)\n",
    "            waiting_dict[waitname] = 1"
   ]
  },
  {
   "cell_type": "code",
   "execution_count": 259,
   "metadata": {},
   "outputs": [
    {
     "data": {
      "text/plain": [
       "{'Waiting1': 2, 'Waiting2': 1, 'Waiting3': 1}"
      ]
     },
     "execution_count": 259,
     "metadata": {},
     "output_type": "execute_result"
    }
   ],
   "source": [
    "waiting_dict"
   ]
  },
  {
   "cell_type": "markdown",
   "metadata": {},
   "source": [
    "#### END STATE"
   ]
  },
  {
   "cell_type": "code",
   "execution_count": 260,
   "metadata": {},
   "outputs": [
    {
     "data": {
      "text/plain": [
       "{'Waiting1': 2, 'Waiting2': 1, 'Waiting3': 1}"
      ]
     },
     "execution_count": 260,
     "metadata": {},
     "output_type": "execute_result"
    }
   ],
   "source": [
    "waiting_dict"
   ]
  },
  {
   "cell_type": "code",
   "execution_count": 262,
   "metadata": {},
   "outputs": [
    {
     "data": {
      "text/plain": [
       "{'Server0': 8, 'Server1': 10, 'Server2': 2, 'Server3': 3, 'Server4': 6}"
      ]
     },
     "execution_count": 262,
     "metadata": {},
     "output_type": "execute_result"
    }
   ],
   "source": [
    "server_dict"
   ]
  },
  {
   "cell_type": "code",
   "execution_count": 265,
   "metadata": {},
   "outputs": [
    {
     "data": {
      "text/plain": [
       "2"
      ]
     },
     "execution_count": 265,
     "metadata": {},
     "output_type": "execute_result"
    }
   ],
   "source": [
    "service_complete"
   ]
  },
  {
   "cell_type": "code",
   "execution_count": null,
   "metadata": {},
   "outputs": [],
   "source": []
  }
 ],
 "metadata": {
  "kernelspec": {
   "display_name": "Python 3",
   "language": "python",
   "name": "python3"
  },
  "language_info": {
   "codemirror_mode": {
    "name": "ipython",
    "version": 3
   },
   "file_extension": ".py",
   "mimetype": "text/x-python",
   "name": "python",
   "nbconvert_exporter": "python",
   "pygments_lexer": "ipython3",
   "version": "3.6.8"
  }
 },
 "nbformat": 4,
 "nbformat_minor": 2
}
