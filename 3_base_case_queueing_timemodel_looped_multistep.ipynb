{
 "cells": [
  {
   "cell_type": "code",
   "execution_count": 2,
   "metadata": {},
   "outputs": [],
   "source": [
    "import numpy as np\n",
    "import matplotlib.pyplot as plt\n",
    "import pandas as pd\n",
    "from scipy import stats\n",
    "import seaborn as sns"
   ]
  },
  {
   "cell_type": "markdown",
   "metadata": {},
   "source": [
    "## Single step process flow\n",
    "\n",
    "This is a multi step model for patient flow through a system. \n",
    "\n",
    "Each step feeds into the next:\n",
    "1. Arrive - Check-in\n",
    "2. Arrive - Waiting room wait\n",
    "3. Arrive - Move to exam room\n",
    "4. Exam - Vitals check\n",
    "5. Exam - Refinement of complaint\n",
    "6. Exam - Starting visit note\n",
    "7. Exam - Provider exam\n",
    "8. Conclusion - Check-out\n",
    "\n",
    "Each step within it has the following processes:\n",
    "1. Update service time passing _(relevant for periods after first period)_\n",
    "2. Move patients out of service to next step and free up servers _(relevant for periods after first period)_\n",
    "3. Take new arrivals into system\n",
    "4. Check number of free servers\n",
    "5. Decide how many patients to move into service from wait list and from new arrivals, based on number of free servers\n",
    "6. Assign patients to free servers, from wait list and/or new arrivals\n",
    "7. Update wait time passing\n",
    "8. Add new arrivals not assigned to free servers to waiting queue\n",
    "\n",
    "Each step has the following data describing the expected process service time:\n",
    "- Mean service time\n",
    "- Worst case additional service time\n",
    "- Percent of time worst case occurs"
   ]
  },
  {
   "cell_type": "markdown",
   "metadata": {},
   "source": [
    "## Functions\n",
    "\n",
    "Functions for each process within a step"
   ]
  },
  {
   "cell_type": "code",
   "execution_count": 3,
   "metadata": {},
   "outputs": [],
   "source": [
    "def generate_service_time_type_condition(data, n_new_service_times = 1, skew = 0.05, n_samples = 1000) :\n",
    "    \"\"\"Get randomized service time based on type of condition\n",
    "    To be used only if step in model is Exam by provider\"\"\"\n",
    "    # Choose random service time, with probabilities given by frequency\n",
    "    condition_type = np.random.choice(data['Type'], p = data['Frequency']) \n",
    "    # Average service time for condition\n",
    "    avg = data.loc[data['Type'] == condition_type, 'Time_Mean'].item() \n",
    "    # Worst case upper limit for condition\n",
    "    worstcase = data.loc[data['Type'] == condition_type, 'Time_WorstCase'].item() \n",
    "    # % of time worst case for condition\n",
    "    perc_worst_case = data.loc[data['Type'] == condition_type, 'Perc_WorstCase'].item() \n",
    "    # St Dev based on % of time worst case occurs\n",
    "    std = worstcase / stats.skewnorm.ppf(1 - perc_worst_case, avg) \n",
    "    # Create distribution of 1000 samples based on condition type parameters\n",
    "    dist = stats.skewnorm.rvs(skew, loc = avg, scale = std, size = n_samples)\n",
    "    # Remove negative / too low results\n",
    "    dist[dist < avg / 2] = avg / 2 \n",
    "    # Return number of new service times needed (will always be 1 unless exceptional circumstances)\n",
    "    serve_times = np.random.choice(dist, n_new_service_times) \n",
    "    # Round service times to nearest minute\n",
    "    for i, s in enumerate(serve_times) :\n",
    "        serve_times[i] = round(s)\n",
    "    return condition_type, serve_times[0]"
   ]
  },
  {
   "cell_type": "code",
   "execution_count": 4,
   "metadata": {},
   "outputs": [],
   "source": [
    "def generate_service_time_process(data, process, n_new_service_times = 1, skew = 0.05, n_samples = 1000) :\n",
    "    \"\"\"Get randomized service time based on process\n",
    "    To be used only all steps in model except Exam by provider\"\"\"\n",
    "    # Average service time for process\n",
    "    avg = data.loc[data['Process'] == process, 'Time_Mean'].item() \n",
    "    # Worst case upper limit for process\n",
    "    worstcase = data.loc[data['Process'] == process, 'Time_WorstCase'].item() \n",
    "    # % of time worst case for process\n",
    "    perc_worst_case = data.loc[data['Process'] == process, 'Perc_WorstCase'].item() \n",
    "    # St Dev based on % of time worst case occurs\n",
    "    std = worstcase / stats.skewnorm.ppf(1 - perc_worst_case, avg) \n",
    "    # Create distribution of 1000 samples based on condition type parameters\n",
    "    dist = stats.skewnorm.rvs(skew, loc = avg, scale = std, size = n_samples)\n",
    "    # Remove negative / too low results\n",
    "    dist[dist < avg / 2] = avg / 2 \n",
    "    # Return number of new service times needed (will always be 1 unless exceptional circumstances)\n",
    "    serve_times = np.random.choice(dist, n_new_service_times) \n",
    "    # Round service times to nearest minute\n",
    "    for i, s in enumerate(serve_times) :\n",
    "        serve_times[i] = round(s)\n",
    "    return serve_times[0]"
   ]
  },
  {
   "cell_type": "code",
   "execution_count": 5,
   "metadata": {},
   "outputs": [],
   "source": [
    "def mark_service_time(dictionary_service, count_of_completed_service, service_time_tracker_dict,\\\n",
    "                      list_service_times_completed) :\n",
    "    \"\"\"Reduce the service time left for each patient to complete step by 1\n",
    "    If service time  reduced to zero, remove patient from  dictionary, move to service completed, free up server\n",
    "    Return modified service time dictionary\n",
    "    In parallel, track completed service times to generate avg service time estimate post-simulation\"\"\"\n",
    "    # Reduce service time left to complete step\n",
    "    for k, v in dictionary_service.items() :\n",
    "        if np.isnan(v) :\n",
    "            continue\n",
    "        else :\n",
    "            dictionary_service[k] -= 1\n",
    "            # Count patient as completed step and free up server if service time is 0 \n",
    "            if dictionary_service[k] == 0 :\n",
    "                count_of_completed_service += 1\n",
    "                dictionary_service[k] = np.nan\n",
    "    # For patients who are marked as completed, track the actual service time\n",
    "    # completion for noting after simulation\n",
    "    keys_for_removal = list()\n",
    "    for k in service_time_tracker_dict.keys() :\n",
    "        service_time_tracker_dict[k][0] += 1\n",
    "        if service_time_tracker_dict[k][0] == service_time_tracker_dict[k][1] :\n",
    "            list_service_times_completed.append(service_time_tracker_dict[k][1])\n",
    "            keys_for_removal.append(k)\n",
    "    for k in keys_for_removal :\n",
    "        del service_time_tracker_dict[k]\n",
    "    return dictionary_service, count_of_completed_service, list_service_times_completed"
   ]
  },
  {
   "cell_type": "code",
   "execution_count": 6,
   "metadata": {},
   "outputs": [],
   "source": [
    "def check_servers_free(dictionary_service) :\n",
    "    \"\"\"Verify if servers are free (denoted by np.nan as value for server key)\n",
    "    And, if free servers exist, how many\"\"\"\n",
    "    count_servers_free = 0\n",
    "    for k, v in dictionary_service.items() :\n",
    "        if np.isnan(v) :\n",
    "            count_servers_free += 1\n",
    "    return count_servers_free"
   ]
  },
  {
   "cell_type": "code",
   "execution_count": 7,
   "metadata": {},
   "outputs": [],
   "source": [
    "def how_many_to_move_from_where(dictionary_waiting, count_servers_free, count_n_arrivals) :\n",
    "    \"\"\"Determine how many people to move from wait list to service / from new arrivals to service\"\"\"\n",
    "    count_from_wait_list = min(len(dictionary_waiting.keys()), count_servers_free)\n",
    "    count_servers_free = count_servers_free - count_from_wait_list\n",
    "    count_from_new_arrivals = min(count_n_arrivals, count_servers_free)\n",
    "    return count_from_wait_list, count_from_new_arrivals"
   ]
  },
  {
   "cell_type": "code",
   "execution_count": 8,
   "metadata": {},
   "outputs": [],
   "source": [
    "def move_from_wait_list_to_service(dictionary_waiting, dictionary_service, count_from_wait_list,\\\n",
    "                                   list_waiting_time, service_time_tracker_dict, process) :\n",
    "    \"\"\"Move patients from wait list to free servers\n",
    "    To be preceded by: if count_from_wait_list > 0\"\"\"\n",
    "    patients_on_wait_list = np.sort(list(dictionary_waiting.keys()))\n",
    "    patients_move_to_serve = patients_on_wait_list[:count_from_wait_list]\n",
    "    for m in patients_move_to_serve :\n",
    "        list_waiting_time.append(dictionary_waiting[m])\n",
    "        del dictionary_waiting[m]\n",
    "        for k, v in dictionary_service.items() :\n",
    "            if np.isnan(v) :\n",
    "                if process == 'Exam' :\n",
    "                    condition, serve_time = generate_service_time_type_condition(base_case_types)\n",
    "                else :\n",
    "                    serve_time = generate_service_time_process(process_flow, process)\n",
    "                    if process == 'Refine_complaint' :\n",
    "                        serve_time += pass_through_steps['Time_Mean'].sum()\n",
    "                dictionary_service[k] = serve_time\n",
    "                unique_key = 'Service_' + str(serve_time) + '_' + str(p)\n",
    "                service_time_tracker_dict[unique_key] = [0, serve_time]\n",
    "    return dictionary_waiting, dictionary_service, list_waiting_time, service_time_tracker_dict"
   ]
  },
  {
   "cell_type": "code",
   "execution_count": 9,
   "metadata": {},
   "outputs": [],
   "source": [
    "def move_from_arrival_to_service(dictionary_service, count_n_arrivals, count_from_new_arrivals,\\\n",
    "                                 service_time_tracker_dict, process) :\n",
    "    \"\"\"Move patients from arrivals to free servers\n",
    "    To be preceded by: if count_from_new_arrivals > 0 \"\"\"\n",
    "    count_arrivals_placed = 0\n",
    "    for k, v in dictionary_service.items() :\n",
    "        if np.isnan(v) :\n",
    "            if process == 'Exam' :\n",
    "                condition, serve_time = generate_service_time_type_condition(base_case_types)\n",
    "            else :\n",
    "                serve_time = generate_service_time_process(process_flow, process)\n",
    "                if process == 'Refine_complaint' :\n",
    "                    serve_time += pass_through_steps['Time_Mean'].sum()\n",
    "            dictionary_service[k] = serve_time\n",
    "            unique_key = 'Service_' + str(serve_time) + '_' + str(p)\n",
    "            service_time_tracker_dict[unique_key] = [0, serve_time]\n",
    "            count_arrivals_placed += 1\n",
    "            if count_arrivals_placed >= count_from_new_arrivals :\n",
    "                break\n",
    "    return dictionary_service, count_arrivals_placed, service_time_tracker_dict"
   ]
  },
  {
   "cell_type": "code",
   "execution_count": 10,
   "metadata": {},
   "outputs": [],
   "source": [
    "def add_to_wait_list(dictionary_waiting, count_n_arrivals, count_arrivals_placed) :\n",
    "    \"\"\"Move patients from arrivals to wait list\n",
    "    To be preceded by: if arrivals_placed < n_arrivals\"\"\"\n",
    "    count_diff = count_n_arrivals - count_arrivals_placed\n",
    "    wait_keys = np.sort(list(dictionary_waiting.keys()))\n",
    "    for i in range(count_diff) :\n",
    "        if len(wait_keys) < 1 :\n",
    "            new_waitname = 'Waiting' + str(i)\n",
    "            dictionary_waiting[new_waitname] = 1\n",
    "        else :\n",
    "            count_lastwaiter = int(wait_keys[-1][7:])\n",
    "            new_waitname = 'Waiting' + str(count_lastwaiter + i + 1)\n",
    "            dictionary_waiting[new_waitname] = 1\n",
    "    return dictionary_waiting"
   ]
  },
  {
   "cell_type": "code",
   "execution_count": 11,
   "metadata": {},
   "outputs": [],
   "source": [
    "def generate_step_objects(n_servers, n_periods) :\n",
    "    \"\"\"Function to generate step tracking objects\"\"\"\n",
    "    # Treat servers as dictionary to keep track of who is busy\n",
    "    # NaN means empty server\n",
    "    # If busy, dict will take form of {'Server#': n_minutes_left_service}\n",
    "    dictionary_servers = {}\n",
    "    for i in range(n_servers) :\n",
    "        servname = 'Server' + str(i)\n",
    "        dictionary_servers[servname] = np.nan\n",
    "    # Treat waiting as dictionary\n",
    "    # If someone waits, will be added to dictionary with form of {'Waiting#': n_minutes_waiting}\n",
    "    dictionary_waiting = {}\n",
    "    # Temporary tracker dictionary for service times\n",
    "    dictionary_track_serve_time = {}\n",
    "    # Holding lists for completed service times and completed waiting times (for measurement post-simulation)\n",
    "    list_waiting_times = list()\n",
    "    list_service_completed_times = list()\n",
    "    # Set counter for completed service to 0\n",
    "    count_service_completed = 0\n",
    "    # Array for holding onto step-by-step process\n",
    "    # Shape: number_of_periods x 4 -> [n_arrivals, n_being_served, n_waiting, n_completed]\n",
    "    tracker = np.zeros(shape = (n_periods, 4))\n",
    "    return dictionary_servers, dictionary_waiting, dictionary_track_serve_time, list_waiting_times,\\\n",
    "list_service_completed_times, count_service_completed, tracker"
   ]
  },
  {
   "cell_type": "markdown",
   "metadata": {},
   "source": [
    "## Parameters for model"
   ]
  },
  {
   "cell_type": "code",
   "execution_count": 12,
   "metadata": {},
   "outputs": [],
   "source": [
    "# Estimates for how often the worst case scenario in patient service times occurs\n",
    "low = 0.05\n",
    "medium = 0.1\n",
    "high = 0.2"
   ]
  },
  {
   "cell_type": "code",
   "execution_count": 13,
   "metadata": {},
   "outputs": [
    {
     "data": {
      "text/plain": [
       "{'Doctor': 9, 'Nurse': 5, 'FlowStaff': 20, 'CSR': 10}"
      ]
     },
     "execution_count": 13,
     "metadata": {},
     "output_type": "execute_result"
    }
   ],
   "source": [
    "# Providers available\n",
    "providers = {'Doctor': 9, 'Nurse': 5, 'FlowStaff': 20, 'CSR': 10}\n",
    "providers"
   ]
  },
  {
   "cell_type": "code",
   "execution_count": 14,
   "metadata": {},
   "outputs": [
    {
     "name": "stdout",
     "output_type": "stream",
     "text": [
      "All steps in total flow\n"
     ]
    },
    {
     "data": {
      "text/html": [
       "<div>\n",
       "<style scoped>\n",
       "    .dataframe tbody tr th:only-of-type {\n",
       "        vertical-align: middle;\n",
       "    }\n",
       "\n",
       "    .dataframe tbody tr th {\n",
       "        vertical-align: top;\n",
       "    }\n",
       "\n",
       "    .dataframe thead th {\n",
       "        text-align: right;\n",
       "    }\n",
       "</style>\n",
       "<table border=\"1\" class=\"dataframe\">\n",
       "  <thead>\n",
       "    <tr style=\"text-align: right;\">\n",
       "      <th></th>\n",
       "      <th>Step</th>\n",
       "      <th>Process</th>\n",
       "      <th>Staff</th>\n",
       "      <th>Time_Mean</th>\n",
       "      <th>Time_WorstCase</th>\n",
       "      <th>Perc_WorstCase</th>\n",
       "      <th>Servers</th>\n",
       "    </tr>\n",
       "  </thead>\n",
       "  <tbody>\n",
       "    <tr>\n",
       "      <th>0</th>\n",
       "      <td>Arrive</td>\n",
       "      <td>Check_in</td>\n",
       "      <td>CSR</td>\n",
       "      <td>2.0</td>\n",
       "      <td>3.0</td>\n",
       "      <td>0.05</td>\n",
       "      <td>5</td>\n",
       "    </tr>\n",
       "    <tr>\n",
       "      <th>1</th>\n",
       "      <td>Arrive</td>\n",
       "      <td>Waiting_room</td>\n",
       "      <td>FlowStaff</td>\n",
       "      <td>3.0</td>\n",
       "      <td>0.0</td>\n",
       "      <td>0.05</td>\n",
       "      <td>20</td>\n",
       "    </tr>\n",
       "    <tr>\n",
       "      <th>2</th>\n",
       "      <td>Arrive</td>\n",
       "      <td>To_exam_room</td>\n",
       "      <td>FlowStaff</td>\n",
       "      <td>1.0</td>\n",
       "      <td>0.0</td>\n",
       "      <td>0.05</td>\n",
       "      <td>20</td>\n",
       "    </tr>\n",
       "    <tr>\n",
       "      <th>3</th>\n",
       "      <td>Exam_prep</td>\n",
       "      <td>Vitals_check</td>\n",
       "      <td>FlowStaff</td>\n",
       "      <td>2.0</td>\n",
       "      <td>0.0</td>\n",
       "      <td>0.05</td>\n",
       "      <td>20</td>\n",
       "    </tr>\n",
       "    <tr>\n",
       "      <th>4</th>\n",
       "      <td>Exam_prep</td>\n",
       "      <td>Refine_complaint</td>\n",
       "      <td>FlowStaff</td>\n",
       "      <td>15.0</td>\n",
       "      <td>15.0</td>\n",
       "      <td>0.20</td>\n",
       "      <td>20</td>\n",
       "    </tr>\n",
       "    <tr>\n",
       "      <th>5</th>\n",
       "      <td>Exam_prep</td>\n",
       "      <td>Start_note</td>\n",
       "      <td>FlowStaff</td>\n",
       "      <td>1.0</td>\n",
       "      <td>0.0</td>\n",
       "      <td>0.05</td>\n",
       "      <td>20</td>\n",
       "    </tr>\n",
       "    <tr>\n",
       "      <th>6</th>\n",
       "      <td>Exam_provider</td>\n",
       "      <td>Exam</td>\n",
       "      <td>Doctor</td>\n",
       "      <td>NaN</td>\n",
       "      <td>NaN</td>\n",
       "      <td>NaN</td>\n",
       "      <td>9</td>\n",
       "    </tr>\n",
       "    <tr>\n",
       "      <th>7</th>\n",
       "      <td>Conclude</td>\n",
       "      <td>Checkout</td>\n",
       "      <td>CSR</td>\n",
       "      <td>5.0</td>\n",
       "      <td>5.0</td>\n",
       "      <td>0.10</td>\n",
       "      <td>5</td>\n",
       "    </tr>\n",
       "  </tbody>\n",
       "</table>\n",
       "</div>"
      ],
      "text/plain": [
       "            Step           Process      Staff  Time_Mean  Time_WorstCase  \\\n",
       "0         Arrive          Check_in        CSR        2.0             3.0   \n",
       "1         Arrive      Waiting_room  FlowStaff        3.0             0.0   \n",
       "2         Arrive      To_exam_room  FlowStaff        1.0             0.0   \n",
       "3      Exam_prep      Vitals_check  FlowStaff        2.0             0.0   \n",
       "4      Exam_prep  Refine_complaint  FlowStaff       15.0            15.0   \n",
       "5      Exam_prep        Start_note  FlowStaff        1.0             0.0   \n",
       "6  Exam_provider              Exam     Doctor        NaN             NaN   \n",
       "7       Conclude          Checkout        CSR        5.0             5.0   \n",
       "\n",
       "   Perc_WorstCase  Servers  \n",
       "0            0.05        5  \n",
       "1            0.05       20  \n",
       "2            0.05       20  \n",
       "3            0.05       20  \n",
       "4            0.20       20  \n",
       "5            0.05       20  \n",
       "6             NaN        9  \n",
       "7            0.10        5  "
      ]
     },
     "execution_count": 14,
     "metadata": {},
     "output_type": "execute_result"
    }
   ],
   "source": [
    "# Time estimates for each step in the patient journey\n",
    "# Time estimates for Exam by provider (currently NaN's) to come from times by condition type (below)\n",
    "# Consolidated by Step and Server to simplify \n",
    "# -key assumption1 : only preserving variability on steps that have variability built-in, rather than waiting time\n",
    "# -key assumption2 : steps that have no WorstCase are straight pass throughs and added to overall service time,\n",
    "#                    so only steps to be considered for queueing variability are check_in, refine_complaint, \n",
    "#                    exam, and checkout \n",
    "# -key assumption3 : CSR are split between check_in and check_out\n",
    "cols = ['Step', 'Process', 'Staff', 'Time_Mean', 'Time_WorstCase', 'Perc_WorstCase']\n",
    "checkin = ['Arrive', 'Check_in', 'CSR', 2, 3, low]\n",
    "wait = ['Arrive', 'Waiting_room', 'FlowStaff', 3, 0, low]\n",
    "to_room = ['Arrive', 'To_exam_room', 'FlowStaff', 1, 0, low]\n",
    "vitals = ['Exam_prep', 'Vitals_check', 'FlowStaff', 2, 0, low]\n",
    "refine_complaint = ['Exam_prep', 'Refine_complaint', 'FlowStaff', 15, 15, high]\n",
    "start_note = ['Exam_prep', 'Start_note', 'FlowStaff', 1, 0, low]\n",
    "exam = ['Exam_provider', 'Exam', 'Doctor', np.nan, np.nan, np.nan]\n",
    "checkout = ['Conclude', 'Checkout', 'CSR', 5, 5, medium]\n",
    "process_flow = pd.DataFrame([checkin, wait, to_room, vitals, refine_complaint, start_note, exam, checkout],\\\n",
    "                            columns = cols)\n",
    "process_flow['Servers'] = process_flow['Staff'].map(providers)\n",
    "process_flow.loc[process_flow['Staff'] == 'CSR', 'Servers'] =\\\n",
    "    (process_flow.loc[process_flow['Staff'] == 'CSR', 'Servers'] / 2).astype(int)\n",
    "pass_through_steps = process_flow.loc[process_flow['Time_WorstCase'] == 0]\n",
    "variable_steps = process_flow.loc[process_flow['Time_WorstCase'] != 0]\n",
    "print ('All steps in total flow')\n",
    "process_flow"
   ]
  },
  {
   "cell_type": "code",
   "execution_count": 15,
   "metadata": {},
   "outputs": [
    {
     "name": "stdout",
     "output_type": "stream",
     "text": [
      "Pass through steps\n"
     ]
    },
    {
     "data": {
      "text/html": [
       "<div>\n",
       "<style scoped>\n",
       "    .dataframe tbody tr th:only-of-type {\n",
       "        vertical-align: middle;\n",
       "    }\n",
       "\n",
       "    .dataframe tbody tr th {\n",
       "        vertical-align: top;\n",
       "    }\n",
       "\n",
       "    .dataframe thead th {\n",
       "        text-align: right;\n",
       "    }\n",
       "</style>\n",
       "<table border=\"1\" class=\"dataframe\">\n",
       "  <thead>\n",
       "    <tr style=\"text-align: right;\">\n",
       "      <th></th>\n",
       "      <th>Step</th>\n",
       "      <th>Process</th>\n",
       "      <th>Staff</th>\n",
       "      <th>Time_Mean</th>\n",
       "      <th>Time_WorstCase</th>\n",
       "      <th>Perc_WorstCase</th>\n",
       "      <th>Servers</th>\n",
       "    </tr>\n",
       "  </thead>\n",
       "  <tbody>\n",
       "    <tr>\n",
       "      <th>1</th>\n",
       "      <td>Arrive</td>\n",
       "      <td>Waiting_room</td>\n",
       "      <td>FlowStaff</td>\n",
       "      <td>3.0</td>\n",
       "      <td>0.0</td>\n",
       "      <td>0.05</td>\n",
       "      <td>20</td>\n",
       "    </tr>\n",
       "    <tr>\n",
       "      <th>2</th>\n",
       "      <td>Arrive</td>\n",
       "      <td>To_exam_room</td>\n",
       "      <td>FlowStaff</td>\n",
       "      <td>1.0</td>\n",
       "      <td>0.0</td>\n",
       "      <td>0.05</td>\n",
       "      <td>20</td>\n",
       "    </tr>\n",
       "    <tr>\n",
       "      <th>3</th>\n",
       "      <td>Exam_prep</td>\n",
       "      <td>Vitals_check</td>\n",
       "      <td>FlowStaff</td>\n",
       "      <td>2.0</td>\n",
       "      <td>0.0</td>\n",
       "      <td>0.05</td>\n",
       "      <td>20</td>\n",
       "    </tr>\n",
       "    <tr>\n",
       "      <th>5</th>\n",
       "      <td>Exam_prep</td>\n",
       "      <td>Start_note</td>\n",
       "      <td>FlowStaff</td>\n",
       "      <td>1.0</td>\n",
       "      <td>0.0</td>\n",
       "      <td>0.05</td>\n",
       "      <td>20</td>\n",
       "    </tr>\n",
       "  </tbody>\n",
       "</table>\n",
       "</div>"
      ],
      "text/plain": [
       "        Step       Process      Staff  Time_Mean  Time_WorstCase  \\\n",
       "1     Arrive  Waiting_room  FlowStaff        3.0             0.0   \n",
       "2     Arrive  To_exam_room  FlowStaff        1.0             0.0   \n",
       "3  Exam_prep  Vitals_check  FlowStaff        2.0             0.0   \n",
       "5  Exam_prep    Start_note  FlowStaff        1.0             0.0   \n",
       "\n",
       "   Perc_WorstCase  Servers  \n",
       "1            0.05       20  \n",
       "2            0.05       20  \n",
       "3            0.05       20  \n",
       "5            0.05       20  "
      ]
     },
     "execution_count": 15,
     "metadata": {},
     "output_type": "execute_result"
    }
   ],
   "source": [
    "print ('Pass through steps')\n",
    "pass_through_steps"
   ]
  },
  {
   "cell_type": "code",
   "execution_count": 16,
   "metadata": {},
   "outputs": [
    {
     "name": "stdout",
     "output_type": "stream",
     "text": [
      "Variability steps\n"
     ]
    },
    {
     "data": {
      "text/html": [
       "<div>\n",
       "<style scoped>\n",
       "    .dataframe tbody tr th:only-of-type {\n",
       "        vertical-align: middle;\n",
       "    }\n",
       "\n",
       "    .dataframe tbody tr th {\n",
       "        vertical-align: top;\n",
       "    }\n",
       "\n",
       "    .dataframe thead th {\n",
       "        text-align: right;\n",
       "    }\n",
       "</style>\n",
       "<table border=\"1\" class=\"dataframe\">\n",
       "  <thead>\n",
       "    <tr style=\"text-align: right;\">\n",
       "      <th></th>\n",
       "      <th>Step</th>\n",
       "      <th>Process</th>\n",
       "      <th>Staff</th>\n",
       "      <th>Time_Mean</th>\n",
       "      <th>Time_WorstCase</th>\n",
       "      <th>Perc_WorstCase</th>\n",
       "      <th>Servers</th>\n",
       "    </tr>\n",
       "  </thead>\n",
       "  <tbody>\n",
       "    <tr>\n",
       "      <th>0</th>\n",
       "      <td>Arrive</td>\n",
       "      <td>Check_in</td>\n",
       "      <td>CSR</td>\n",
       "      <td>2.0</td>\n",
       "      <td>3.0</td>\n",
       "      <td>0.05</td>\n",
       "      <td>5</td>\n",
       "    </tr>\n",
       "    <tr>\n",
       "      <th>4</th>\n",
       "      <td>Exam_prep</td>\n",
       "      <td>Refine_complaint</td>\n",
       "      <td>FlowStaff</td>\n",
       "      <td>15.0</td>\n",
       "      <td>15.0</td>\n",
       "      <td>0.20</td>\n",
       "      <td>20</td>\n",
       "    </tr>\n",
       "    <tr>\n",
       "      <th>6</th>\n",
       "      <td>Exam_provider</td>\n",
       "      <td>Exam</td>\n",
       "      <td>Doctor</td>\n",
       "      <td>NaN</td>\n",
       "      <td>NaN</td>\n",
       "      <td>NaN</td>\n",
       "      <td>9</td>\n",
       "    </tr>\n",
       "    <tr>\n",
       "      <th>7</th>\n",
       "      <td>Conclude</td>\n",
       "      <td>Checkout</td>\n",
       "      <td>CSR</td>\n",
       "      <td>5.0</td>\n",
       "      <td>5.0</td>\n",
       "      <td>0.10</td>\n",
       "      <td>5</td>\n",
       "    </tr>\n",
       "  </tbody>\n",
       "</table>\n",
       "</div>"
      ],
      "text/plain": [
       "            Step           Process      Staff  Time_Mean  Time_WorstCase  \\\n",
       "0         Arrive          Check_in        CSR        2.0             3.0   \n",
       "4      Exam_prep  Refine_complaint  FlowStaff       15.0            15.0   \n",
       "6  Exam_provider              Exam     Doctor        NaN             NaN   \n",
       "7       Conclude          Checkout        CSR        5.0             5.0   \n",
       "\n",
       "   Perc_WorstCase  Servers  \n",
       "0            0.05        5  \n",
       "4            0.20       20  \n",
       "6             NaN        9  \n",
       "7            0.10        5  "
      ]
     },
     "execution_count": 16,
     "metadata": {},
     "output_type": "execute_result"
    }
   ],
   "source": [
    "print ('Variability steps')\n",
    "variable_steps"
   ]
  },
  {
   "cell_type": "code",
   "execution_count": 17,
   "metadata": {},
   "outputs": [
    {
     "data": {
      "text/html": [
       "<div>\n",
       "<style scoped>\n",
       "    .dataframe tbody tr th:only-of-type {\n",
       "        vertical-align: middle;\n",
       "    }\n",
       "\n",
       "    .dataframe tbody tr th {\n",
       "        vertical-align: top;\n",
       "    }\n",
       "\n",
       "    .dataframe thead th {\n",
       "        text-align: right;\n",
       "    }\n",
       "</style>\n",
       "<table border=\"1\" class=\"dataframe\">\n",
       "  <thead>\n",
       "    <tr style=\"text-align: right;\">\n",
       "      <th></th>\n",
       "      <th>Type</th>\n",
       "      <th>Frequency</th>\n",
       "      <th>Time_Mean</th>\n",
       "      <th>Time_WorstCase</th>\n",
       "      <th>Perc_WorstCase</th>\n",
       "    </tr>\n",
       "  </thead>\n",
       "  <tbody>\n",
       "    <tr>\n",
       "      <th>0</th>\n",
       "      <td>Preventative</td>\n",
       "      <td>0.2</td>\n",
       "      <td>30</td>\n",
       "      <td>30</td>\n",
       "      <td>0.05</td>\n",
       "    </tr>\n",
       "    <tr>\n",
       "      <th>1</th>\n",
       "      <td>Chronic</td>\n",
       "      <td>0.6</td>\n",
       "      <td>30</td>\n",
       "      <td>30</td>\n",
       "      <td>0.10</td>\n",
       "    </tr>\n",
       "    <tr>\n",
       "      <th>2</th>\n",
       "      <td>Acute</td>\n",
       "      <td>0.2</td>\n",
       "      <td>15</td>\n",
       "      <td>5</td>\n",
       "      <td>0.05</td>\n",
       "    </tr>\n",
       "  </tbody>\n",
       "</table>\n",
       "</div>"
      ],
      "text/plain": [
       "           Type  Frequency  Time_Mean  Time_WorstCase  Perc_WorstCase\n",
       "0  Preventative        0.2         30              30            0.05\n",
       "1       Chronic        0.6         30              30            0.10\n",
       "2         Acute        0.2         15               5            0.05"
      ]
     },
     "execution_count": 17,
     "metadata": {},
     "output_type": "execute_result"
    }
   ],
   "source": [
    "# Data table for drawing service times for patients\n",
    "cols = ['Type', 'Frequency', 'Time_Mean', 'Time_WorstCase', 'Perc_WorstCase']\n",
    "preventative = ['Preventative', 0.2, 30, 30, low]\n",
    "chronic = ['Chronic', 0.6, 30, 30, medium]\n",
    "acute = ['Acute', 0.2, 15, 5, low]\n",
    "base_case_types = pd.DataFrame([preventative, chronic, acute], columns = cols)\n",
    "base_case_types"
   ]
  },
  {
   "cell_type": "code",
   "execution_count": 18,
   "metadata": {},
   "outputs": [],
   "source": [
    "# Arrivals to be modeled as poisson, scaling down to minute arrivals\n",
    "arrivals_day = 100\n",
    "arrivals_hour = arrivals_day / 10\n",
    "arrivals_minute = arrivals_hour / 60"
   ]
  },
  {
   "cell_type": "code",
   "execution_count": 19,
   "metadata": {},
   "outputs": [],
   "source": [
    "# Model full day of continuous operations\n",
    "# Minutes are periods for analysis\n",
    "# NOTE: Might need to adjust for morning / afternoon periods as two separate patient service time windows\n",
    "hours = 10\n",
    "n_periods = 60 * hours"
   ]
  },
  {
   "cell_type": "code",
   "execution_count": 20,
   "metadata": {},
   "outputs": [
    {
     "data": {
      "text/plain": [
       "['Check_in', 'Refine_complaint', 'Exam', 'Checkout']"
      ]
     },
     "execution_count": 20,
     "metadata": {},
     "output_type": "execute_result"
    }
   ],
   "source": [
    "# List of processes to be cycled through\n",
    "processes_with_variability = variable_steps['Process'].to_list()\n",
    "processes_with_variability"
   ]
  },
  {
   "cell_type": "markdown",
   "metadata": {},
   "source": [
    "## Looped model"
   ]
  },
  {
   "cell_type": "markdown",
   "metadata": {},
   "source": [
    "The full process is set up as a linear flow within each period loop, to enable all steps to run side-by-side in the same system flow:\n",
    "\n",
    "```for p in n_periods :\n",
    "    check_in [VARIABLE]\n",
    "    waiting_room [PASS_THROUGH]\n",
    "    to_exam_room [PASS_THROUGH]\n",
    "    vitals_check [PASS_THROUGH]\n",
    "    refine_complaint [VARIABLE]\n",
    "    start_note [PASS_THROUGH]\n",
    "    exam [VARIABLE]\n",
    "    checkout [VARIABLE]\n",
    "```\n",
    "\n",
    "The point of view of the process is the server. There are four servers in the system: `CSR`, `FlowStaff`, `Doctor`, `Nurse`.\n",
    "\n",
    "Steps marked `[VARIABLE]` consider variability in service times and are therefore where queue build up will originate.\n",
    "\n",
    "Steps marked `[PASS_THROUGH]` are of fixed time and are assumed to not contribute directly to queue build up. Service time at these steps is added as a fixed amount to the variable service time associated with that step's `server`.\n",
    "\n",
    "Once patients are marked as completing a step, they will be progressed to the next step.\n",
    "\n",
    "New arrivals only enter the system at `check_in`. Final exits only occur after `checkout`.\n",
    "\n",
    "Holding arrays / dictionaries need to be initialized for each step before the periods loop is started."
   ]
  },
  {
   "cell_type": "code",
   "execution_count": 21,
   "metadata": {},
   "outputs": [],
   "source": [
    "# Holders for check_in step\n",
    "servers_check_in =\\\n",
    "    variable_steps.loc[variable_steps['Process'] == processes_with_variability[0], 'Servers'].item()\n",
    "\n",
    "server_dict_check_in, waiting_dict_check_in, serve_time_track_dict_check_in,\\\n",
    "    waiting_time_list_check_in, service_times_completed_list_check_in, service_completed_check_in,\\\n",
    "    tracker_check_in = generate_step_objects(servers_check_in, n_periods)\n",
    "\n",
    "# Holders for refine_complaint step\n",
    "servers_refine_complaint =\\\n",
    "    variable_steps.loc[variable_steps['Process'] == processes_with_variability[1], 'Servers'].item()\n",
    "\n",
    "server_dict_refine_complaint, waiting_dict_refine_complaint, serve_time_track_dict_refine_complaint,\\\n",
    "    waiting_time_list_refine_complaint, service_times_completed_list_refine_complaint,\\\n",
    "    service_completed_refine_complaint, tracker_refine_complaint =\\\n",
    "    generate_step_objects(servers_refine_complaint, n_periods)\n",
    "\n",
    "# Holders for exam step\n",
    "servers_exam = variable_steps.loc[variable_steps['Process'] == processes_with_variability[2], 'Servers'].item()\n",
    "\n",
    "server_dict_exam, waiting_dict_exam, serve_time_track_dict_exam,\\\n",
    "    waiting_time_list_exam, service_times_completed_list_exam, service_completed_exam, tracker_exam\\\n",
    "    = generate_step_objects(servers_exam, n_periods)\n",
    "\n",
    "# Holders for checkout step\n",
    "servers_checkout =\\\n",
    "    variable_steps.loc[variable_steps['Process'] == processes_with_variability[3], 'Servers'].item()\n",
    "\n",
    "server_dict_checkout, waiting_dict_checkout, serve_time_track_dict_checkout,\\\n",
    "    waiting_time_list_checkout, service_times_completed_list_checkout, service_completed_checkout,\\\n",
    "    tracker_checkout = generate_step_objects(servers_checkout, n_periods)"
   ]
  },
  {
   "cell_type": "code",
   "execution_count": 22,
   "metadata": {},
   "outputs": [],
   "source": [
    "for p in range(n_periods) :\n",
    "    \n",
    "    # check_in step\n",
    "    n_arrivals_check_in = np.random.poisson(arrivals_minute)\n",
    "    server_dict_check_in, service_completed_check_in, service_times_completed_list_check_in = \\\n",
    "        mark_service_time(server_dict_check_in, service_completed_check_in, serve_time_track_dict_check_in,\\\n",
    "                          service_times_completed_list_check_in)\n",
    "    n_servers_free_check_in = check_servers_free(server_dict_check_in)\n",
    "    from_wait_list_check_in, from_new_arrivals_check_in = how_many_to_move_from_where(waiting_dict_check_in,\\\n",
    "                                                              n_servers_free_check_in, n_arrivals_check_in)\n",
    "    if from_wait_list_check_in > 0 :\n",
    "        waiting_dict_check_in, server_dict_check_in, waiting_time_list_check_in, serve_time_track_dict_check_in\\\n",
    "            = move_from_wait_list_to_service(waiting_dict_check_in, server_dict_check_in,\\\n",
    "                                             from_wait_list_check_in, waiting_time_list_check_in,\\\n",
    "                                             serve_time_track_dict_check_in, processes_with_variability[0])\n",
    "    if from_new_arrivals_check_in > 0 :\n",
    "        server_dict_check_in, n_arrivals_placed_check_in, serve_time_track_dict_check_in = \\\n",
    "            move_from_arrival_to_service(server_dict_check_in, n_arrivals_check_in, from_new_arrivals_check_in,\\\n",
    "                                         serve_time_track_dict_check_in, processes_with_variability[0])\n",
    "    else :\n",
    "        n_arrivals_placed_check_in = 0\n",
    "    waiting_dict_check_in = {k:v + 1 for k, v in waiting_dict_check_in.items()}\n",
    "    waiting_dict_check_in = add_to_wait_list(waiting_dict_check_in, n_arrivals_check_in,\\\n",
    "                                             n_arrivals_placed_check_in)\n",
    "    tracker_check_in[p] = [n_arrivals_check_in, servers_check_in - \\\n",
    "                           [v for v in server_dict_check_in.values()].count(np.nan),\\\n",
    "                           len(waiting_dict_check_in.keys()), service_completed_check_in]    \n",
    "    \n",
    "    # refine_complaint step, plus pass_through steps of waiting_room, to_exam_room, vitals_check, start_note\n",
    "    n_arrivals_refine_complaint = service_completed_check_in\n",
    "    service_completed_check_in = 0 # Reset counter to 0 for next transition\n",
    "    server_dict_refine_complaint, service_completed_refine_complaint,\\\n",
    "        service_times_completed_list_refine_complaint = mark_service_time(server_dict_refine_complaint,\\\n",
    "        service_completed_refine_complaint, serve_time_track_dict_refine_complaint,\\\n",
    "        service_times_completed_list_refine_complaint)\n",
    "    n_servers_free_refine_complaint = check_servers_free(server_dict_refine_complaint)\n",
    "    from_wait_list_refine_complaint, from_new_arrivals_refine_complaint = how_many_to_move_from_where(\\\n",
    "        waiting_dict_refine_complaint, n_servers_free_refine_complaint, n_arrivals_refine_complaint)\n",
    "    if from_wait_list_refine_complaint > 0 :\n",
    "        waiting_dict_refine_complaint, server_dict_refine_complaint, waiting_time_list_refine_complaint,\\\n",
    "            serve_time_track_dict_refine_complaint = move_from_wait_list_to_service(\\\n",
    "            waiting_dict_refine_complaint, server_dict_refine_complaint, from_wait_list_refine_complaint,\\\n",
    "            waiting_time_list_refine_complaint, serve_time_track_dict_refine_complaint,\\\n",
    "            processes_with_variability[1])\n",
    "    if from_new_arrivals_refine_complaint > 0 :\n",
    "        server_dict_refine_complaint, n_arrivals_placed_refine_complaint, serve_time_track_dict_refine_complaint\\\n",
    "            = move_from_arrival_to_service(server_dict_refine_complaint, n_arrivals_refine_complaint,\\\n",
    "               from_new_arrivals_refine_complaint, serve_time_track_dict_refine_complaint,\\\n",
    "               processes_with_variability[1])\n",
    "    else :\n",
    "        n_arrivals_placed_refine_complaint = 0\n",
    "    waiting_dict_refine_complaint = {k:v + 1 for k, v in waiting_dict_refine_complaint.items()}\n",
    "    waiting_dict_refine_complaint = add_to_wait_list(waiting_dict_refine_complaint, n_arrivals_refine_complaint,\\\n",
    "                                             n_arrivals_placed_refine_complaint)\n",
    "    tracker_refine_complaint[p] = [n_arrivals_refine_complaint, servers_refine_complaint - \\\n",
    "                           [v for v in server_dict_refine_complaint.values()].count(np.nan),\\\n",
    "                           len(waiting_dict_refine_complaint.keys()), service_completed_refine_complaint]    \n",
    " \n",
    "    # exam step\n",
    "    n_arrivals_exam = service_completed_refine_complaint\n",
    "    service_completed_refine_complaint = 0 # Reset counter to 0 for next transition\n",
    "    server_dict_exam, service_completed_exam,\\\n",
    "        service_times_completed_list_exam = mark_service_time(server_dict_exam,\\\n",
    "        service_completed_exam, serve_time_track_dict_exam,\\\n",
    "        service_times_completed_list_exam)\n",
    "    n_servers_free_exam = check_servers_free(server_dict_exam)\n",
    "    from_wait_list_exam, from_new_arrivals_exam = how_many_to_move_from_where(\\\n",
    "        waiting_dict_exam, n_servers_free_exam, n_arrivals_exam)\n",
    "    if from_wait_list_exam > 0 :\n",
    "        waiting_dict_exam, server_dict_exam, waiting_time_list_exam,\\\n",
    "            serve_time_track_dict_exam = move_from_wait_list_to_service(\\\n",
    "            waiting_dict_exam, server_dict_exam, from_wait_list_exam,\\\n",
    "            waiting_time_list_exam, serve_time_track_dict_exam,\\\n",
    "            processes_with_variability[2])\n",
    "    if from_new_arrivals_exam > 0 :\n",
    "        server_dict_exam, n_arrivals_placed_exam, serve_time_track_dict_exam\\\n",
    "            = move_from_arrival_to_service(server_dict_exam, n_arrivals_exam,\\\n",
    "               from_new_arrivals_exam, serve_time_track_dict_exam,\\\n",
    "               processes_with_variability[2])\n",
    "    else :\n",
    "        n_arrivals_placed_exam = 0\n",
    "    waiting_dict_exam = {k:v + 1 for k, v in waiting_dict_exam.items()}\n",
    "    waiting_dict_exam = add_to_wait_list(waiting_dict_exam, n_arrivals_exam,\\\n",
    "                                             n_arrivals_placed_exam)\n",
    "    tracker_exam[p] = [n_arrivals_exam, servers_exam - \\\n",
    "                           [v for v in server_dict_exam.values()].count(np.nan),\\\n",
    "                           len(waiting_dict_exam.keys()), service_completed_exam]    \n",
    "\n",
    "    # checkout step\n",
    "    n_arrivals_checkout = service_completed_exam\n",
    "    service_completed_exam = 0 # Reset counter to 0 for next transition\n",
    "    server_dict_checkout, service_completed_checkout,\\\n",
    "        service_times_completed_list_checkout = mark_service_time(server_dict_checkout,\\\n",
    "        service_completed_checkout, serve_time_track_dict_checkout,\\\n",
    "        service_times_completed_list_checkout)\n",
    "    n_servers_free_checkout = check_servers_free(server_dict_checkout)\n",
    "    from_wait_list_checkout, from_new_arrivals_checkout = how_many_to_move_from_where(\\\n",
    "        waiting_dict_checkout, n_servers_free_checkout, n_arrivals_checkout)\n",
    "    if from_wait_list_checkout > 0 :\n",
    "        waiting_dict_checkout, server_dict_checkout, waiting_time_list_checkout,\\\n",
    "            serve_time_track_dict_checkout = move_from_wait_list_to_service(\\\n",
    "            waiting_dict_checkout, server_dict_checkout, from_wait_list_checkout,\\\n",
    "            waiting_time_list_checkout, serve_time_track_dict_checkout,\\\n",
    "            processes_with_variability[3])\n",
    "    if from_new_arrivals_checkout > 0 :\n",
    "        server_dict_checkout, n_arrivals_placed_checkout, serve_time_track_dict_checkout\\\n",
    "            = move_from_arrival_to_service(server_dict_checkout, n_arrivals_checkout,\\\n",
    "               from_new_arrivals_checkout, serve_time_track_dict_checkout,\\\n",
    "               processes_with_variability[3])\n",
    "    else :\n",
    "        n_arrivals_placed_checkout = 0\n",
    "    waiting_dict_checkout = {k:v + 1 for k, v in waiting_dict_checkout.items()}\n",
    "    waiting_dict_checkout = add_to_wait_list(waiting_dict_checkout, n_arrivals_checkout,\\\n",
    "                                             n_arrivals_placed_checkout)\n",
    "    tracker_checkout[p] = [n_arrivals_checkout, servers_checkout - \\\n",
    "                           [v for v in server_dict_checkout.values()].count(np.nan),\\\n",
    "                           len(waiting_dict_checkout.keys()), service_completed_checkout]  \n",
    "    service_completed_checkout = 0"
   ]
  },
  {
   "cell_type": "markdown",
   "metadata": {},
   "source": [
    "## Analysis and visualization"
   ]
  },
  {
   "cell_type": "code",
   "execution_count": 23,
   "metadata": {},
   "outputs": [],
   "source": [
    "# Trackers to dataframes\n",
    "check_in = pd.DataFrame(tracker_check_in, columns = ['Arrivals', 'Serving', 'Waiting', 'Completed'])\n",
    "check_in['Completed_cumu'] = check_in['Completed'].cumsum()\n",
    "check_in['Process'] = processes_with_variability[0]\n",
    "refine_complaint = pd.DataFrame(tracker_refine_complaint, columns = ['Arrivals', 'Serving', 'Waiting', 'Completed'])\n",
    "refine_complaint['Completed_cumu'] = refine_complaint['Completed'].cumsum()\n",
    "refine_complaint['Process'] = processes_with_variability[1]\n",
    "exam = pd.DataFrame(tracker_exam, columns = ['Arrivals', 'Serving', 'Waiting', 'Completed'])\n",
    "exam['Completed_cumu'] = exam['Completed'].cumsum()\n",
    "exam['Process'] = processes_with_variability[2]\n",
    "checkout = pd.DataFrame(tracker_checkout, columns = ['Arrivals', 'Serving', 'Waiting', 'Completed'])\n",
    "checkout['Completed_cumu'] = checkout['Completed'].cumsum()\n",
    "checkout['Process'] = processes_with_variability[3]"
   ]
  },
  {
   "cell_type": "code",
   "execution_count": 24,
   "metadata": {},
   "outputs": [],
   "source": [
    "periods = np.arange(0, n_periods)"
   ]
  },
  {
   "cell_type": "code",
   "execution_count": 25,
   "metadata": {},
   "outputs": [],
   "source": [
    "# Summary stats for check_in\n",
    "arrived_check_in_final = check_in['Arrivals'].sum()\n",
    "served_check_in_final = check_in['Completed'].sum()\n",
    "mean_service_time_check_in_final = np.mean(service_times_completed_list_check_in)\n",
    "mean_patients_waiting_check_in_final = check_in['Waiting'].mean()\n",
    "mean_waiting_time_check_in_final = np.sum(waiting_time_list_check_in) / served_check_in_final"
   ]
  },
  {
   "cell_type": "code",
   "execution_count": 26,
   "metadata": {},
   "outputs": [
    {
     "name": "stdout",
     "output_type": "stream",
     "text": [
      "=== CHECK_IN ===\n",
      "\n",
      "Total arrived: 92.0\n",
      "Total served: 92.0\n",
      "Mean service time: 2.02\n",
      "Mean n_patients waiting: 0.00\n",
      "Mean waiting time: 0.00\n",
      "Mean time in system: 2.02\n",
      "Mean waiting time for those who waited: nan\n"
     ]
    },
    {
     "name": "stderr",
     "output_type": "stream",
     "text": [
      "/anaconda/lib/python3.6/site-packages/numpy/core/fromnumeric.py:3118: RuntimeWarning: Mean of empty slice.\n",
      "  out=out, **kwargs)\n",
      "/anaconda/lib/python3.6/site-packages/numpy/core/_methods.py:85: RuntimeWarning: invalid value encountered in double_scalars\n",
      "  ret = ret.dtype.type(ret / rcount)\n"
     ]
    },
    {
     "data": {
      "image/png": "[encoded data removed]",
      "text/plain": [
       "<Figure size 1008x216 with 1 Axes>"
      ]
     },
     "metadata": {
      "needs_background": "light"
     },
     "output_type": "display_data"
    }
   ],
   "source": [
    "print ('===',processes_with_variability[0].upper(),'===\\n')\n",
    "print ('Total arrived: {}'.format(arrived_check_in_final))\n",
    "print ('Total served: {}'.format(served_check_in_final))\n",
    "print ('Mean service time: {:.2f}'.format(mean_service_time_check_in_final))\n",
    "print ('Mean n_patients waiting: {:.2f}'.format(mean_patients_waiting_check_in_final))\n",
    "print ('Mean waiting time: {:.2f}'.format(mean_waiting_time_check_in_final))\n",
    "print ('Mean time in system: {:.2f}'.format(mean_waiting_time_check_in_final + mean_service_time_check_in_final))\n",
    "print ('Mean waiting time for those who waited: {:.2f}'.format(np.mean(waiting_time_list_check_in)))\n",
    "\n",
    "fig, ax1 = plt.subplots(figsize = (14, 3))\n",
    "\n",
    "ax1.step(periods, check_in['Arrivals'], c = 'orange', label = 'Arrivals')\n",
    "ax1.step(periods, check_in['Serving'], c = 'blue', label = 'Serving')\n",
    "ax1.step(periods, check_in['Waiting'], c = 'red', label = 'Waiting')\n",
    "ax1.step(periods, check_in['Completed_cumu'], c = 'green', label = 'Served')\n",
    "\n",
    "ax1.axhline(servers_check_in, ls = ':', label = 'Max utilization')\n",
    "\n",
    "ax1.set_ylim(0, max(check_in.iloc[:, :-1].max().max(), servers_check_in) + 5)\n",
    "ax1.set_xlabel('Period (minutes)')\n",
    "ax1.set_ylabel('Number (n_servers = {})'.format(servers_check_in))\n",
    "\n",
    "plt.legend(bbox_to_anchor = (1, 1))\n",
    "plt.show()"
   ]
  },
  {
   "cell_type": "code",
   "execution_count": 27,
   "metadata": {},
   "outputs": [],
   "source": [
    "# Summary stats for refine_complaint\n",
    "arrived_refine_complaint_final = refine_complaint['Arrivals'].sum()\n",
    "served_refine_complaint_final = refine_complaint['Completed'].sum()\n",
    "mean_service_time_refine_complaint_final = np.mean(service_times_completed_list_refine_complaint)\n",
    "mean_patients_waiting_refine_complaint_final = refine_complaint['Waiting'].mean()\n",
    "mean_waiting_time_refine_complaint_final = np.sum(waiting_time_list_refine_complaint)\\\n",
    "                                            / served_refine_complaint_final"
   ]
  },
  {
   "cell_type": "code",
   "execution_count": 28,
   "metadata": {},
   "outputs": [
    {
     "name": "stdout",
     "output_type": "stream",
     "text": [
      "=== REFINE_COMPLAINT ===\n",
      "\n",
      "Total arrived: 92.0\n",
      "Total served: 89.0\n",
      "Mean service time: 23.87\n",
      "Mean n_patients waiting: 0.00\n",
      "Mean waiting time: 0.00\n",
      "Mean time in system: 23.87\n",
      "Mean waiting time for those who waited: nan\n"
     ]
    },
    {
     "data": {
      "image/png": "[encoded data removed]",
      "text/plain": [
       "<Figure size 1008x216 with 1 Axes>"
      ]
     },
     "metadata": {
      "needs_background": "light"
     },
     "output_type": "display_data"
    }
   ],
   "source": [
    "print ('===',processes_with_variability[1].upper(),'===\\n')\n",
    "print ('Total arrived: {}'.format(arrived_refine_complaint_final))\n",
    "print ('Total served: {}'.format(served_refine_complaint_final))\n",
    "print ('Mean service time: {:.2f}'.format(mean_service_time_refine_complaint_final))\n",
    "print ('Mean n_patients waiting: {:.2f}'.format(mean_patients_waiting_refine_complaint_final))\n",
    "print ('Mean waiting time: {:.2f}'.format(mean_waiting_time_refine_complaint_final))\n",
    "print ('Mean time in system: {:.2f}'.format(mean_waiting_time_refine_complaint_final\\\n",
    "                                            + mean_service_time_refine_complaint_final))\n",
    "print ('Mean waiting time for those who waited: {:.2f}'.format(np.mean(waiting_time_list_refine_complaint)))\n",
    "\n",
    "fig, ax1 = plt.subplots(figsize = (14, 3))\n",
    "\n",
    "ax1.step(periods, refine_complaint['Arrivals'], c = 'orange', label = 'Arrivals')\n",
    "ax1.step(periods, refine_complaint['Serving'], c = 'blue', label = 'Serving')\n",
    "ax1.step(periods, refine_complaint['Waiting'], c = 'red', label = 'Waiting')\n",
    "ax1.step(periods, refine_complaint['Completed_cumu'], c = 'green', label = 'Served')\n",
    "\n",
    "ax1.axhline(servers_refine_complaint, ls = ':', label = 'Max utilization')\n",
    "\n",
    "ax1.set_ylim(0, max(refine_complaint.iloc[:, :-1].max().max(), servers_refine_complaint) + 5)\n",
    "ax1.set_xlabel('Period (minutes)')\n",
    "ax1.set_ylabel('Number (n_servers = {})'.format(servers_refine_complaint))\n",
    "\n",
    "plt.legend(bbox_to_anchor = (1, 1))\n",
    "plt.show()"
   ]
  },
  {
   "cell_type": "code",
   "execution_count": 29,
   "metadata": {},
   "outputs": [],
   "source": [
    "# Summary stats for exam\n",
    "arrived_exam_final = exam['Arrivals'].sum()\n",
    "served_exam_final = exam['Completed'].sum()\n",
    "mean_service_time_exam_final = np.mean(service_times_completed_list_exam)\n",
    "mean_patients_waiting_exam_final = exam['Waiting'].mean()\n",
    "mean_waiting_time_exam_final = np.sum(waiting_time_list_exam) / served_exam_final"
   ]
  },
  {
   "cell_type": "code",
   "execution_count": 30,
   "metadata": {},
   "outputs": [
    {
     "name": "stdout",
     "output_type": "stream",
     "text": [
      "=== EXAM ===\n",
      "\n",
      "Total arrived: 89.0\n",
      "Total served: 85.0\n",
      "Mean service time: 25.13\n",
      "Mean n_patients waiting: 0.00\n",
      "Mean waiting time: 0.01\n",
      "Mean time in system: 25.14\n",
      "Mean waiting time for those who waited: 1.00\n"
     ]
    },
    {
     "data": {
      "image/png": "[encoded data removed]",
      "text/plain": [
       "<Figure size 1008x216 with 1 Axes>"
      ]
     },
     "metadata": {
      "needs_background": "light"
     },
     "output_type": "display_data"
    }
   ],
   "source": [
    "print ('===',processes_with_variability[2].upper(),'===\\n')\n",
    "print ('Total arrived: {}'.format(arrived_exam_final))\n",
    "print ('Total served: {}'.format(served_exam_final))\n",
    "print ('Mean service time: {:.2f}'.format(mean_service_time_exam_final))\n",
    "print ('Mean n_patients waiting: {:.2f}'.format(mean_patients_waiting_exam_final))\n",
    "print ('Mean waiting time: {:.2f}'.format(mean_waiting_time_exam_final))\n",
    "print ('Mean time in system: {:.2f}'.format(mean_waiting_time_exam_final + mean_service_time_exam_final))\n",
    "print ('Mean waiting time for those who waited: {:.2f}'.format(np.mean(waiting_time_list_exam)))\n",
    "\n",
    "fig, ax1 = plt.subplots(figsize = (14, 3))\n",
    "\n",
    "ax1.step(periods, exam['Arrivals'], c = 'orange', label = 'Arrivals')\n",
    "ax1.step(periods, exam['Serving'], c = 'blue', label = 'Serving')\n",
    "ax1.step(periods, exam['Waiting'], c = 'red', label = 'Waiting')\n",
    "ax1.step(periods, exam['Completed_cumu'], c = 'green', label = 'Served')\n",
    "\n",
    "ax1.axhline(servers_exam, ls = ':', label = 'Max utilization')\n",
    "\n",
    "ax1.set_ylim(0, max(exam.iloc[:, :-1].max().max(), servers_exam) + 5)\n",
    "ax1.set_xlabel('Period (minutes)')\n",
    "ax1.set_ylabel('Number (n_servers = {})'.format(servers_exam))\n",
    "\n",
    "plt.legend(bbox_to_anchor = (1, 1))\n",
    "plt.show()"
   ]
  },
  {
   "cell_type": "code",
   "execution_count": 31,
   "metadata": {},
   "outputs": [],
   "source": [
    "# Summary stats for checkout\n",
    "arrived_checkout_final = checkout['Arrivals'].sum()\n",
    "served_checkout_final = checkout['Completed'].sum()\n",
    "mean_service_time_checkout_final = np.mean(service_times_completed_list_checkout)\n",
    "mean_patients_waiting_checkout_final = checkout['Waiting'].mean()\n",
    "mean_waiting_time_checkout_final = np.sum(waiting_time_list_checkout) / served_checkout_final"
   ]
  },
  {
   "cell_type": "code",
   "execution_count": 32,
   "metadata": {},
   "outputs": [
    {
     "name": "stdout",
     "output_type": "stream",
     "text": [
      "=== CHECKOUT ===\n",
      "\n",
      "Total arrived: 85.0\n",
      "Total served: 85.0\n",
      "Mean service time: 5.26\n",
      "Mean n_patients waiting: 0.00\n",
      "Mean waiting time: 0.00\n",
      "Mean time in system: 5.26\n",
      "Mean waiting time for those who waited: nan\n"
     ]
    },
    {
     "data": {
      "image/png": "[encoded data removed]",
      "text/plain": [
       "<Figure size 1008x216 with 1 Axes>"
      ]
     },
     "metadata": {
      "needs_background": "light"
     },
     "output_type": "display_data"
    }
   ],
   "source": [
    "print ('===',processes_with_variability[3].upper(),'===\\n')\n",
    "print ('Total arrived: {}'.format(arrived_checkout_final))\n",
    "print ('Total served: {}'.format(served_checkout_final))\n",
    "print ('Mean service time: {:.2f}'.format(mean_service_time_checkout_final))\n",
    "print ('Mean n_patients waiting: {:.2f}'.format(mean_patients_waiting_checkout_final))\n",
    "print ('Mean waiting time: {:.2f}'.format(mean_waiting_time_checkout_final))\n",
    "print ('Mean time in system: {:.2f}'.format(mean_waiting_time_checkout_final + mean_service_time_checkout_final))\n",
    "print ('Mean waiting time for those who waited: {:.2f}'.format(np.mean(waiting_time_list_checkout)))\n",
    "\n",
    "fig, ax1 = plt.subplots(figsize = (14, 3))\n",
    "\n",
    "ax1.step(periods, checkout['Arrivals'], c = 'orange', label = 'Arrivals')\n",
    "ax1.step(periods, checkout['Serving'], c = 'blue', label = 'Serving')\n",
    "ax1.step(periods, checkout['Waiting'], c = 'red', label = 'Waiting')\n",
    "ax1.step(periods, checkout['Completed_cumu'], c = 'green', label = 'Served')\n",
    "\n",
    "ax1.axhline(servers_checkout, ls = ':', label = 'Max utilization')\n",
    "\n",
    "ax1.set_ylim(0, max(checkout.iloc[:, :-1].max().max(), servers_checkout) + 5)\n",
    "ax1.set_xlabel('Period (minutes)')\n",
    "ax1.set_ylabel('Number (n_servers = {})'.format(servers_checkout))\n",
    "\n",
    "plt.legend(bbox_to_anchor = (1, 1))\n",
    "plt.show()"
   ]
  },
  {
   "cell_type": "code",
   "execution_count": 33,
   "metadata": {},
   "outputs": [
    {
     "name": "stdout",
     "output_type": "stream",
     "text": [
      "Mean time check_in: 2.02\n",
      "Mean time waiting room -> refine complaint: 23.87\n",
      "Mean time exam: 25.14\n",
      "Mean time checkout: 5.26\n",
      "Mean time TOTAL: 56.29\n"
     ]
    }
   ],
   "source": [
    "print ('Mean time check_in: {:.2f}'.format(mean_waiting_time_check_in_final + mean_service_time_check_in_final))\n",
    "print ('Mean time waiting room -> refine complaint: {:.2f}'\\\n",
    "       .format(mean_waiting_time_refine_complaint_final + mean_service_time_refine_complaint_final))\n",
    "print ('Mean time exam: {:.2f}'.format(mean_waiting_time_exam_final + mean_service_time_exam_final))\n",
    "print ('Mean time checkout: {:.2f}'.format(mean_waiting_time_checkout_final + mean_service_time_checkout_final))\n",
    "total_time_in_system_final = mean_waiting_time_check_in_final + mean_service_time_check_in_final\\\n",
    "        + mean_waiting_time_refine_complaint_final + mean_service_time_refine_complaint_final\\\n",
    "        + mean_waiting_time_exam_final + mean_service_time_exam_final\\\n",
    "        + mean_waiting_time_checkout_final + mean_service_time_checkout_final\n",
    "print ('Mean time TOTAL: {:.2f}'.format(total_time_in_system_final))"
   ]
  },
  {
   "cell_type": "code",
   "execution_count": 34,
   "metadata": {},
   "outputs": [
    {
     "name": "stdout",
     "output_type": "stream",
     "text": [
      "Estimated time - preventative: 59.0\n",
      "Estimated time - chronic: 59.0\n",
      "Estimated time - acute: 44.0\n"
     ]
    }
   ],
   "source": [
    "print ('Estimated time - preventative:', process_flow['Time_Mean'].sum()\\\n",
    "                            + base_case_types.loc[base_case_types['Type'] == 'Preventative', 'Time_Mean'].item())\n",
    "print ('Estimated time - chronic:', process_flow['Time_Mean'].sum()\\\n",
    "                            + base_case_types.loc[base_case_types['Type'] == 'Chronic', 'Time_Mean'].item())\n",
    "print ('Estimated time - acute:', process_flow['Time_Mean'].sum()\\\n",
    "                            + base_case_types.loc[base_case_types['Type'] == 'Acute', 'Time_Mean'].item())"
   ]
  },
  {
   "cell_type": "code",
   "execution_count": 35,
   "metadata": {},
   "outputs": [
    {
     "name": "stdout",
     "output_type": "stream",
     "text": [
      "Once deleted, variables cannot be recovered. Proceed (y/[n])? n\n",
      "Nothing done.\n"
     ]
    }
   ],
   "source": [
    "# Clear variables to re-run\n",
    "%reset"
   ]
  },
  {
   "cell_type": "code",
   "execution_count": null,
   "metadata": {},
   "outputs": [],
   "source": []
  }
 ],
 "metadata": {
  "kernelspec": {
   "display_name": "Python 3",
   "language": "python",
   "name": "python3"
  },
  "language_info": {
   "codemirror_mode": {
    "name": "ipython",
    "version": 3
   },
   "file_extension": ".py",
   "mimetype": "text/x-python",
   "name": "python",
   "nbconvert_exporter": "python",
   "pygments_lexer": "ipython3",
   "version": "3.6.8"
  }
 },
 "nbformat": 4,
 "nbformat_minor": 2
}
