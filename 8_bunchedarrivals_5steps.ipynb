{
 "cells": [
  {
   "cell_type": "code",
   "execution_count": 1016,
   "metadata": {},
   "outputs": [],
   "source": [
    "import numpy as np\n",
    "import matplotlib.pyplot as plt\n",
    "import pandas as pd\n",
    "from scipy import stats\n",
    "import seaborn as sns"
   ]
  },
  {
   "cell_type": "markdown",
   "metadata": {},
   "source": [
    "## Single step process flow\n",
    "\n",
    "This is a multi step model for patient flow through a system. \n",
    "\n",
    "**CHANGE from v7:** New step -- post-exam follow up (#8 below) of short time and serviced by flow staff:\n",
    "- Added additional step data into process flow steps and a new step added into multi-step loop\n",
    "- Required rewriting `move_from_wait_list_to_service` and `move_from_arrival_to_service` to be oriented around servers free\n",
    "- Created new function `available_flow_staff`, run after each time updates made to service dictionaries involving flow staff, to maintain a list of available flow staff that is fed into each process step involving this type of server\n",
    "\n",
    "Each step feeds into the next:\n",
    "1. Arrive - Check-in\n",
    "2. Arrive - Waiting room wait\n",
    "3. Arrive - Move to exam room\n",
    "4. Exam - Vitals check\n",
    "5. Exam - Refinement of complaint\n",
    "6. Exam - Starting visit note\n",
    "7. Exam - Provider exam\n",
    "8. Exam - Follow-up\n",
    "9. Conclusion - Check-out\n",
    "\n",
    "Each step within it has the following processes:\n",
    "1. Update service time passing _(relevant for periods after first period)_\n",
    "2. Move patients out of service to next step and free up servers _(relevant for periods after first period)_\n",
    "3. Take new arrivals into system\n",
    "4. Check number of free servers\n",
    "5. Decide how many patients to move into service from wait list and from new arrivals, based on number of free servers\n",
    "6. Assign patients to free servers, from wait list and/or new arrivals\n",
    "7. Update wait time passing\n",
    "8. Add new arrivals not assigned to free servers to waiting queue\n",
    "\n",
    "Each step has the following data describing the expected process service time:\n",
    "- Mean service time\n",
    "- Worst case additional service time\n",
    "- Percent of time worst case occurs"
   ]
  },
  {
   "cell_type": "markdown",
   "metadata": {},
   "source": [
    "## Functions\n",
    "\n",
    "Functions for each process within a step"
   ]
  },
  {
   "cell_type": "code",
   "execution_count": 1017,
   "metadata": {},
   "outputs": [],
   "source": [
    "def generate_service_time_type_condition(data, n_new_service_times = 1, skew = 0.05, n_samples = 1000) :\n",
    "    \"\"\"Get randomized service time based on type of condition\n",
    "    To be used only if step in model is Exam by provider\"\"\"\n",
    "    # Choose random service time, with probabilities given by frequency\n",
    "    condition_type = np.random.choice(data['Type'], p = data['Frequency']) \n",
    "    # Average service time for condition\n",
    "    avg = data.loc[data['Type'] == condition_type, 'Time_Mean'].item() \n",
    "    # Worst case upper limit for condition\n",
    "    worstcase = data.loc[data['Type'] == condition_type, 'Time_WorstCase'].item() \n",
    "    # % of time worst case for condition\n",
    "    perc_worst_case = data.loc[data['Type'] == condition_type, 'Perc_WorstCase'].item() \n",
    "    # St Dev based on % of time worst case occurs\n",
    "    std = worstcase / stats.skewnorm.ppf(1 - perc_worst_case, avg) \n",
    "    # Create distribution of 1000 samples based on condition type parameters\n",
    "    dist = stats.skewnorm.rvs(skew, loc = avg, scale = std, size = n_samples)\n",
    "    # Remove negative / too low results\n",
    "    dist[dist < avg / 2] = avg / 2 \n",
    "#     dist[dist < (avg * 2 / 3)] = (avg * 2 / 3)\n",
    "    # Return number of new service times needed (will always be 1 unless exceptional circumstances)\n",
    "    serve_times = np.random.choice(dist, n_new_service_times) \n",
    "    # Round service times to nearest minute\n",
    "    for i, s in enumerate(serve_times) :\n",
    "        serve_times[i] = round(s)\n",
    "    return condition_type, serve_times[0]"
   ]
  },
  {
   "cell_type": "code",
   "execution_count": 1018,
   "metadata": {},
   "outputs": [],
   "source": [
    "def generate_service_time_process(data, process, n_new_service_times = 1, skew = 0.05, n_samples = 1000) :\n",
    "    \"\"\"Get randomized service time based on process\n",
    "    To be used only all steps in model except Exam by provider\"\"\"\n",
    "    # Average service time for process\n",
    "    avg = data.loc[data['Process'] == process, 'Time_Mean'].item() \n",
    "    # Worst case upper limit for process\n",
    "    worstcase = data.loc[data['Process'] == process, 'Time_WorstCase'].item() \n",
    "    # % of time worst case for process\n",
    "    perc_worst_case = data.loc[data['Process'] == process, 'Perc_WorstCase'].item() \n",
    "    # St Dev based on % of time worst case occurs\n",
    "    std = worstcase / stats.skewnorm.ppf(1 - perc_worst_case, avg) \n",
    "    # Create distribution of 1000 samples based on condition type parameters\n",
    "    dist = stats.skewnorm.rvs(skew, loc = avg, scale = std, size = n_samples)\n",
    "    # Remove negative / too low results\n",
    "#     dist[dist < (avg * 2 / 3)] = (avg * 2 / 3)\n",
    "    dist[dist < avg / 2] = avg / 2 \n",
    "    # Return number of new service times needed (will always be 1 unless exceptional circumstances)\n",
    "    serve_times = np.random.choice(dist, n_new_service_times) \n",
    "    # Round service times to nearest minute\n",
    "    for i, s in enumerate(serve_times) :\n",
    "        serve_times[i] = round(s)\n",
    "    return serve_times[0]"
   ]
  },
  {
   "cell_type": "code",
   "execution_count": 1019,
   "metadata": {},
   "outputs": [],
   "source": [
    "def mark_service_time(dictionary_service, count_of_completed_service, service_time_tracker_dict,\\\n",
    "                      list_service_times_completed) :\n",
    "    \"\"\"Reduce the service time left for each patient to complete step by 1\n",
    "    If service time  reduced to zero, remove patient from  dictionary, move to service completed, free up server\n",
    "    Return modified service time dictionary\n",
    "    In parallel, track completed service times to generate avg service time estimate post-simulation\"\"\"\n",
    "    # Reduce service time left to complete step\n",
    "    for k, v in dictionary_service.items() :\n",
    "        if np.isnan(v) :\n",
    "            continue\n",
    "        else :\n",
    "            dictionary_service[k] -= 1\n",
    "            # Count patient as completed step and free up server if service time is 0 \n",
    "            if dictionary_service[k] == 0 :\n",
    "                count_of_completed_service += 1\n",
    "                dictionary_service[k] = np.nan\n",
    "    # For patients who are marked as completed, track the actual service time\n",
    "    # completion for noting after simulation\n",
    "    keys_for_removal = list()\n",
    "    for k in service_time_tracker_dict.keys() :\n",
    "        service_time_tracker_dict[k][0] += 1\n",
    "        if service_time_tracker_dict[k][0] == service_time_tracker_dict[k][1] :\n",
    "            list_service_times_completed.append(service_time_tracker_dict[k][1])\n",
    "            keys_for_removal.append(k)\n",
    "    for k in keys_for_removal :\n",
    "        del service_time_tracker_dict[k]\n",
    "    return dictionary_service, count_of_completed_service, list_service_times_completed"
   ]
  },
  {
   "cell_type": "code",
   "execution_count": 1020,
   "metadata": {},
   "outputs": [],
   "source": [
    "def check_servers_free(dictionary_service) :\n",
    "    \"\"\"Verify if servers are free (denoted by np.nan as value for server key)\n",
    "    And, if free servers exist, how many\"\"\"\n",
    "    count_servers_free = 0\n",
    "    for k, v in dictionary_service.items() :\n",
    "        if np.isnan(v) :\n",
    "            count_servers_free += 1\n",
    "    return count_servers_free"
   ]
  },
  {
   "cell_type": "code",
   "execution_count": 1021,
   "metadata": {},
   "outputs": [],
   "source": [
    "def how_many_to_move_from_where(dictionary_waiting, count_servers_free, count_n_arrivals) :\n",
    "    \"\"\"Determine how many people to move from wait list to service / from new arrivals to service\"\"\"\n",
    "    count_from_wait_list = min(len(dictionary_waiting.keys()), count_servers_free)\n",
    "    count_servers_free = count_servers_free - count_from_wait_list\n",
    "    count_from_new_arrivals = min(count_n_arrivals, count_servers_free)\n",
    "    return count_from_wait_list, count_from_new_arrivals"
   ]
  },
  {
   "cell_type": "code",
   "execution_count": 1022,
   "metadata": {},
   "outputs": [],
   "source": [
    "def move_from_wait_list_to_service(dictionary_waiting, dictionary_service, count_from_wait_list,\\\n",
    "                                   list_waiting_time, service_time_tracker_dict, process, empty_servers = True) :\n",
    "    \"\"\"Move patients from wait list to free servers\n",
    "    To be preceded by: if count_from_wait_list > 0\"\"\"\n",
    "    # DEBUG: REARRANGE FUNCTION TO GET LIST OF EMPTY SERVERS FIRST, THEN CHANGE SERVER\n",
    "    # SEE 4_troubleshooting_service_move NOTEBOOK FOR EXPLANATION OF FIX\n",
    "    if empty_servers == True : # empty_servers = True for steps not using flow staff otherwise empty_servers pre-defined\n",
    "        empty_servers = [k for k, v in dictionary_service.items() if np.isnan(v)] # Comprehension shorten code\n",
    "    n_free_servers = len(empty_servers)\n",
    "    patients_on_wait_list = sorted(list(dictionary_waiting.keys()))\n",
    "    patients_move_to_serve = patients_on_wait_list[:n_free_servers]\n",
    "    if (len(patients_move_to_serve) > 0) and (len(empty_servers) > 0) :\n",
    "        for i, m in enumerate(patients_move_to_serve) :\n",
    "            server_for_m = empty_servers[i]\n",
    "            list_waiting_time.append(dictionary_waiting[m])\n",
    "            del dictionary_waiting[m]\n",
    "            if process == 'Exam' :\n",
    "                condition, serve_time = generate_service_time_type_condition(base_case_types)\n",
    "            else :\n",
    "                serve_time = generate_service_time_process(process_flow, process)\n",
    "                if process == 'Refine_complaint' :\n",
    "                    serve_time += pass_through_steps['Time_Mean'].sum()\n",
    "            dictionary_service[server_for_m] = serve_time\n",
    "            unique_key = 'Service_' + str(serve_time) + '_' + str(p)\n",
    "            service_time_tracker_dict[unique_key] = [0, serve_time]\n",
    "    return dictionary_waiting, dictionary_service, list_waiting_time, service_time_tracker_dict"
   ]
  },
  {
   "cell_type": "code",
   "execution_count": 1023,
   "metadata": {},
   "outputs": [],
   "source": [
    "def move_from_arrival_to_service(dictionary_service, count_n_arrivals, count_from_new_arrivals,\\\n",
    "                                 service_time_tracker_dict, process, empty_servers = True) :\n",
    "    \"\"\"Move patients from arrivals to free servers\n",
    "    To be preceded by: if count_from_new_arrivals > 0 \"\"\"\n",
    "    if empty_servers == True : # empty_servers = True for steps not using flow staff otherwise empty_servers pre-defined\n",
    "        empty_servers = [k for k, v in dictionary_service.items() if np.isnan(v)] # Comprehension shorten code\n",
    "    arrivals_to_place = min(len(empty_servers), count_from_new_arrivals)\n",
    "    if (arrivals_to_place > 0) and (len(empty_servers) > 0) :\n",
    "        for i in range(arrivals_to_place) :\n",
    "            server_for_m = empty_servers[i]\n",
    "            if process == 'Exam' :\n",
    "                condition, serve_time = generate_service_time_type_condition(base_case_types)\n",
    "            else :\n",
    "                serve_time = generate_service_time_process(process_flow, process)\n",
    "                if process == 'Refine_complaint' :\n",
    "                    serve_time += pass_through_steps['Time_Mean'].sum()\n",
    "            dictionary_service[server_for_m] = serve_time\n",
    "            unique_key = 'Service_' + str(serve_time) + '_' + str(p)\n",
    "            service_time_tracker_dict[unique_key] = [0, serve_time]\n",
    "    return dictionary_service, arrivals_to_place, service_time_tracker_dict"
   ]
  },
  {
   "cell_type": "code",
   "execution_count": 1024,
   "metadata": {},
   "outputs": [],
   "source": [
    "def add_to_wait_list(dictionary_waiting, count_n_arrivals, count_arrivals_placed) :\n",
    "    \"\"\"Move patients from arrivals to wait list\n",
    "    To be preceded by: if arrivals_placed < n_arrivals\"\"\"\n",
    "    count_diff = count_n_arrivals - count_arrivals_placed\n",
    "    wait_keys = np.sort(list(dictionary_waiting.keys()))\n",
    "    for i in range(count_diff) :\n",
    "        if len(wait_keys) < 1 :\n",
    "            new_waitname = 'Waiting' + str(i)\n",
    "            dictionary_waiting[new_waitname] = 1\n",
    "        else :\n",
    "            count_lastwaiter = int(wait_keys[-1][7:])\n",
    "            new_waitname = 'Waiting' + str(count_lastwaiter + i + 1)\n",
    "            dictionary_waiting[new_waitname] = 1\n",
    "    return dictionary_waiting"
   ]
  },
  {
   "cell_type": "code",
   "execution_count": 1025,
   "metadata": {},
   "outputs": [],
   "source": [
    "def generate_step_objects(n_servers, n_periods) :\n",
    "    \"\"\"Function to generate step tracking objects\"\"\"\n",
    "    # Treat servers as dictionary to keep track of who is busy\n",
    "    # NaN means empty server\n",
    "    # If busy, dict will take form of {'Server#': n_minutes_left_service}\n",
    "    dictionary_servers = {}\n",
    "    for i in range(n_servers) :\n",
    "        servname = 'Server' + str(i)\n",
    "        dictionary_servers[servname] = np.nan\n",
    "    # Treat waiting as dictionary\n",
    "    # If someone waits, will be added to dictionary with form of {'Waiting#': n_minutes_waiting}\n",
    "    dictionary_waiting = {}\n",
    "    # Temporary tracker dictionary for service times\n",
    "    dictionary_track_serve_time = {}\n",
    "    # Holding lists for completed service times and completed waiting times (for measurement post-simulation)\n",
    "    list_waiting_times = list()\n",
    "    list_service_completed_times = list()\n",
    "    # Set counter for completed service to 0\n",
    "    count_service_completed = 0\n",
    "    # Array for holding onto step-by-step process\n",
    "    # Shape: number_of_periods x 4 -> [n_arrivals, n_being_served, n_waiting, n_completed]\n",
    "    tracker = np.zeros(shape = (n_periods, 4))\n",
    "    return dictionary_servers, dictionary_waiting, dictionary_track_serve_time, list_waiting_times,\\\n",
    "list_service_completed_times, count_service_completed, tracker"
   ]
  },
  {
   "cell_type": "code",
   "execution_count": 1026,
   "metadata": {},
   "outputs": [],
   "source": [
    "def available_flow_staff(dict1, dict2) :\n",
    "    \"\"\"Function to maintain an ongoing list of the available flow staff servers\n",
    "    Developed because flow staff used in both refine_complaint and follow_up steps\"\"\"\n",
    "    available = list(set([k for k, v in dict1.items() if np.isnan(v)]) - (set([k for k, v in\\\n",
    "                dict1.items() if np.isnan(v)]) - set([k for k, v in dict2.items() if np.isnan(v)])))\n",
    "    return available"
   ]
  },
  {
   "cell_type": "markdown",
   "metadata": {},
   "source": [
    "## Parameters for model"
   ]
  },
  {
   "cell_type": "code",
   "execution_count": 1027,
   "metadata": {},
   "outputs": [],
   "source": [
    "# Estimates for how often the worst case scenario in patient service times occurs\n",
    "low = 0.05\n",
    "medium = 0.1\n",
    "high = 0.2"
   ]
  },
  {
   "cell_type": "code",
   "execution_count": 1028,
   "metadata": {},
   "outputs": [
    {
     "data": {
      "text/plain": [
       "{'Doctor': 9, 'Nurse': 5, 'FlowStaff': 20, 'CSR': 10}"
      ]
     },
     "execution_count": 1028,
     "metadata": {},
     "output_type": "execute_result"
    }
   ],
   "source": [
    "# Providers available\n",
    "providers = {'Doctor': 9, 'Nurse': 5, 'FlowStaff': 20, 'CSR': 10}\n",
    "providers"
   ]
  },
  {
   "cell_type": "code",
   "execution_count": 1029,
   "metadata": {},
   "outputs": [
    {
     "name": "stdout",
     "output_type": "stream",
     "text": [
      "All steps in total flow\n"
     ]
    },
    {
     "data": {
      "text/html": [
       "<div>\n",
       "<style scoped>\n",
       "    .dataframe tbody tr th:only-of-type {\n",
       "        vertical-align: middle;\n",
       "    }\n",
       "\n",
       "    .dataframe tbody tr th {\n",
       "        vertical-align: top;\n",
       "    }\n",
       "\n",
       "    .dataframe thead th {\n",
       "        text-align: right;\n",
       "    }\n",
       "</style>\n",
       "<table border=\"1\" class=\"dataframe\">\n",
       "  <thead>\n",
       "    <tr style=\"text-align: right;\">\n",
       "      <th></th>\n",
       "      <th>Step</th>\n",
       "      <th>Process</th>\n",
       "      <th>Staff</th>\n",
       "      <th>Time_Mean</th>\n",
       "      <th>Time_WorstCase</th>\n",
       "      <th>Perc_WorstCase</th>\n",
       "      <th>Servers</th>\n",
       "    </tr>\n",
       "  </thead>\n",
       "  <tbody>\n",
       "    <tr>\n",
       "      <th>0</th>\n",
       "      <td>Arrive</td>\n",
       "      <td>Check_in</td>\n",
       "      <td>CSR</td>\n",
       "      <td>2.0</td>\n",
       "      <td>3.0</td>\n",
       "      <td>0.05</td>\n",
       "      <td>5</td>\n",
       "    </tr>\n",
       "    <tr>\n",
       "      <th>1</th>\n",
       "      <td>Arrive</td>\n",
       "      <td>Waiting_room</td>\n",
       "      <td>FlowStaff</td>\n",
       "      <td>3.0</td>\n",
       "      <td>0.0</td>\n",
       "      <td>0.05</td>\n",
       "      <td>20</td>\n",
       "    </tr>\n",
       "    <tr>\n",
       "      <th>2</th>\n",
       "      <td>Arrive</td>\n",
       "      <td>To_exam_room</td>\n",
       "      <td>FlowStaff</td>\n",
       "      <td>1.0</td>\n",
       "      <td>0.0</td>\n",
       "      <td>0.05</td>\n",
       "      <td>20</td>\n",
       "    </tr>\n",
       "    <tr>\n",
       "      <th>3</th>\n",
       "      <td>Exam_prep</td>\n",
       "      <td>Vitals_check</td>\n",
       "      <td>FlowStaff</td>\n",
       "      <td>2.0</td>\n",
       "      <td>0.0</td>\n",
       "      <td>0.05</td>\n",
       "      <td>20</td>\n",
       "    </tr>\n",
       "    <tr>\n",
       "      <th>4</th>\n",
       "      <td>Exam_prep</td>\n",
       "      <td>Refine_complaint</td>\n",
       "      <td>FlowStaff</td>\n",
       "      <td>15.0</td>\n",
       "      <td>15.0</td>\n",
       "      <td>0.20</td>\n",
       "      <td>20</td>\n",
       "    </tr>\n",
       "    <tr>\n",
       "      <th>5</th>\n",
       "      <td>Exam_prep</td>\n",
       "      <td>Start_note</td>\n",
       "      <td>FlowStaff</td>\n",
       "      <td>1.0</td>\n",
       "      <td>0.0</td>\n",
       "      <td>0.05</td>\n",
       "      <td>20</td>\n",
       "    </tr>\n",
       "    <tr>\n",
       "      <th>6</th>\n",
       "      <td>Exam_provider</td>\n",
       "      <td>Exam</td>\n",
       "      <td>Doctor</td>\n",
       "      <td>NaN</td>\n",
       "      <td>NaN</td>\n",
       "      <td>NaN</td>\n",
       "      <td>9</td>\n",
       "    </tr>\n",
       "    <tr>\n",
       "      <th>7</th>\n",
       "      <td>Exam_followup</td>\n",
       "      <td>Follow_up</td>\n",
       "      <td>FlowStaff</td>\n",
       "      <td>5.0</td>\n",
       "      <td>5.0</td>\n",
       "      <td>0.05</td>\n",
       "      <td>20</td>\n",
       "    </tr>\n",
       "    <tr>\n",
       "      <th>8</th>\n",
       "      <td>Conclude</td>\n",
       "      <td>Checkout</td>\n",
       "      <td>CSR</td>\n",
       "      <td>5.0</td>\n",
       "      <td>5.0</td>\n",
       "      <td>0.10</td>\n",
       "      <td>5</td>\n",
       "    </tr>\n",
       "  </tbody>\n",
       "</table>\n",
       "</div>"
      ],
      "text/plain": [
       "            Step           Process      Staff  Time_Mean  Time_WorstCase  \\\n",
       "0         Arrive          Check_in        CSR        2.0             3.0   \n",
       "1         Arrive      Waiting_room  FlowStaff        3.0             0.0   \n",
       "2         Arrive      To_exam_room  FlowStaff        1.0             0.0   \n",
       "3      Exam_prep      Vitals_check  FlowStaff        2.0             0.0   \n",
       "4      Exam_prep  Refine_complaint  FlowStaff       15.0            15.0   \n",
       "5      Exam_prep        Start_note  FlowStaff        1.0             0.0   \n",
       "6  Exam_provider              Exam     Doctor        NaN             NaN   \n",
       "7  Exam_followup         Follow_up  FlowStaff        5.0             5.0   \n",
       "8       Conclude          Checkout        CSR        5.0             5.0   \n",
       "\n",
       "   Perc_WorstCase  Servers  \n",
       "0            0.05        5  \n",
       "1            0.05       20  \n",
       "2            0.05       20  \n",
       "3            0.05       20  \n",
       "4            0.20       20  \n",
       "5            0.05       20  \n",
       "6             NaN        9  \n",
       "7            0.05       20  \n",
       "8            0.10        5  "
      ]
     },
     "execution_count": 1029,
     "metadata": {},
     "output_type": "execute_result"
    }
   ],
   "source": [
    "# Time estimates for each step in the patient journey\n",
    "# Time estimates for Exam by provider (currently NaN's) to come from times by condition type (below)\n",
    "# Consolidated by Step and Server to simplify \n",
    "# -key assumption1 : only preserving variability on steps that have variability built-in, rather than waiting time\n",
    "# -key assumption2 : steps that have no WorstCase are straight pass throughs and added to overall service time,\n",
    "#                    so only steps to be considered for queueing variability are check_in, refine_complaint, \n",
    "#                    exam, and checkout \n",
    "# -key assumption3 : CSR are split between check_in and check_out\n",
    "cols = ['Step', 'Process', 'Staff', 'Time_Mean', 'Time_WorstCase', 'Perc_WorstCase']\n",
    "checkin = ['Arrive', 'Check_in', 'CSR', 2, 3, low]\n",
    "wait = ['Arrive', 'Waiting_room', 'FlowStaff', 3, 0, low]\n",
    "to_room = ['Arrive', 'To_exam_room', 'FlowStaff', 1, 0, low]\n",
    "vitals = ['Exam_prep', 'Vitals_check', 'FlowStaff', 2, 0, low]\n",
    "refine_complaint = ['Exam_prep', 'Refine_complaint', 'FlowStaff', 15, 15, high]\n",
    "start_note = ['Exam_prep', 'Start_note', 'FlowStaff', 1, 0, low]\n",
    "exam = ['Exam_provider', 'Exam', 'Doctor', np.nan, np.nan, np.nan]\n",
    "followup = ['Exam_followup', 'Follow_up', 'FlowStaff', 5, 5, low]\n",
    "checkout = ['Conclude', 'Checkout', 'CSR', 5, 5, medium]\n",
    "process_flow = pd.DataFrame([checkin, wait, to_room, vitals, refine_complaint, start_note, exam, followup,\\\n",
    "                             checkout], columns = cols)\n",
    "process_flow['Servers'] = process_flow['Staff'].map(providers)\n",
    "process_flow.loc[process_flow['Staff'] == 'CSR', 'Servers'] =\\\n",
    "    (process_flow.loc[process_flow['Staff'] == 'CSR', 'Servers'] / 2).astype(int)\n",
    "pass_through_steps = process_flow.loc[process_flow['Time_WorstCase'] == 0]\n",
    "variable_steps = process_flow.loc[process_flow['Time_WorstCase'] != 0]\n",
    "print ('All steps in total flow')\n",
    "process_flow"
   ]
  },
  {
   "cell_type": "code",
   "execution_count": 1030,
   "metadata": {},
   "outputs": [
    {
     "name": "stdout",
     "output_type": "stream",
     "text": [
      "Pass through steps\n"
     ]
    },
    {
     "data": {
      "text/html": [
       "<div>\n",
       "<style scoped>\n",
       "    .dataframe tbody tr th:only-of-type {\n",
       "        vertical-align: middle;\n",
       "    }\n",
       "\n",
       "    .dataframe tbody tr th {\n",
       "        vertical-align: top;\n",
       "    }\n",
       "\n",
       "    .dataframe thead th {\n",
       "        text-align: right;\n",
       "    }\n",
       "</style>\n",
       "<table border=\"1\" class=\"dataframe\">\n",
       "  <thead>\n",
       "    <tr style=\"text-align: right;\">\n",
       "      <th></th>\n",
       "      <th>Step</th>\n",
       "      <th>Process</th>\n",
       "      <th>Staff</th>\n",
       "      <th>Time_Mean</th>\n",
       "      <th>Time_WorstCase</th>\n",
       "      <th>Perc_WorstCase</th>\n",
       "      <th>Servers</th>\n",
       "    </tr>\n",
       "  </thead>\n",
       "  <tbody>\n",
       "    <tr>\n",
       "      <th>1</th>\n",
       "      <td>Arrive</td>\n",
       "      <td>Waiting_room</td>\n",
       "      <td>FlowStaff</td>\n",
       "      <td>3.0</td>\n",
       "      <td>0.0</td>\n",
       "      <td>0.05</td>\n",
       "      <td>20</td>\n",
       "    </tr>\n",
       "    <tr>\n",
       "      <th>2</th>\n",
       "      <td>Arrive</td>\n",
       "      <td>To_exam_room</td>\n",
       "      <td>FlowStaff</td>\n",
       "      <td>1.0</td>\n",
       "      <td>0.0</td>\n",
       "      <td>0.05</td>\n",
       "      <td>20</td>\n",
       "    </tr>\n",
       "    <tr>\n",
       "      <th>3</th>\n",
       "      <td>Exam_prep</td>\n",
       "      <td>Vitals_check</td>\n",
       "      <td>FlowStaff</td>\n",
       "      <td>2.0</td>\n",
       "      <td>0.0</td>\n",
       "      <td>0.05</td>\n",
       "      <td>20</td>\n",
       "    </tr>\n",
       "    <tr>\n",
       "      <th>5</th>\n",
       "      <td>Exam_prep</td>\n",
       "      <td>Start_note</td>\n",
       "      <td>FlowStaff</td>\n",
       "      <td>1.0</td>\n",
       "      <td>0.0</td>\n",
       "      <td>0.05</td>\n",
       "      <td>20</td>\n",
       "    </tr>\n",
       "  </tbody>\n",
       "</table>\n",
       "</div>"
      ],
      "text/plain": [
       "        Step       Process      Staff  Time_Mean  Time_WorstCase  \\\n",
       "1     Arrive  Waiting_room  FlowStaff        3.0             0.0   \n",
       "2     Arrive  To_exam_room  FlowStaff        1.0             0.0   \n",
       "3  Exam_prep  Vitals_check  FlowStaff        2.0             0.0   \n",
       "5  Exam_prep    Start_note  FlowStaff        1.0             0.0   \n",
       "\n",
       "   Perc_WorstCase  Servers  \n",
       "1            0.05       20  \n",
       "2            0.05       20  \n",
       "3            0.05       20  \n",
       "5            0.05       20  "
      ]
     },
     "execution_count": 1030,
     "metadata": {},
     "output_type": "execute_result"
    }
   ],
   "source": [
    "print ('Pass through steps')\n",
    "pass_through_steps"
   ]
  },
  {
   "cell_type": "code",
   "execution_count": 1031,
   "metadata": {},
   "outputs": [
    {
     "name": "stdout",
     "output_type": "stream",
     "text": [
      "Variability steps\n"
     ]
    },
    {
     "data": {
      "text/html": [
       "<div>\n",
       "<style scoped>\n",
       "    .dataframe tbody tr th:only-of-type {\n",
       "        vertical-align: middle;\n",
       "    }\n",
       "\n",
       "    .dataframe tbody tr th {\n",
       "        vertical-align: top;\n",
       "    }\n",
       "\n",
       "    .dataframe thead th {\n",
       "        text-align: right;\n",
       "    }\n",
       "</style>\n",
       "<table border=\"1\" class=\"dataframe\">\n",
       "  <thead>\n",
       "    <tr style=\"text-align: right;\">\n",
       "      <th></th>\n",
       "      <th>Step</th>\n",
       "      <th>Process</th>\n",
       "      <th>Staff</th>\n",
       "      <th>Time_Mean</th>\n",
       "      <th>Time_WorstCase</th>\n",
       "      <th>Perc_WorstCase</th>\n",
       "      <th>Servers</th>\n",
       "    </tr>\n",
       "  </thead>\n",
       "  <tbody>\n",
       "    <tr>\n",
       "      <th>0</th>\n",
       "      <td>Arrive</td>\n",
       "      <td>Check_in</td>\n",
       "      <td>CSR</td>\n",
       "      <td>2.0</td>\n",
       "      <td>3.0</td>\n",
       "      <td>0.05</td>\n",
       "      <td>5</td>\n",
       "    </tr>\n",
       "    <tr>\n",
       "      <th>4</th>\n",
       "      <td>Exam_prep</td>\n",
       "      <td>Refine_complaint</td>\n",
       "      <td>FlowStaff</td>\n",
       "      <td>15.0</td>\n",
       "      <td>15.0</td>\n",
       "      <td>0.20</td>\n",
       "      <td>20</td>\n",
       "    </tr>\n",
       "    <tr>\n",
       "      <th>6</th>\n",
       "      <td>Exam_provider</td>\n",
       "      <td>Exam</td>\n",
       "      <td>Doctor</td>\n",
       "      <td>NaN</td>\n",
       "      <td>NaN</td>\n",
       "      <td>NaN</td>\n",
       "      <td>9</td>\n",
       "    </tr>\n",
       "    <tr>\n",
       "      <th>7</th>\n",
       "      <td>Exam_followup</td>\n",
       "      <td>Follow_up</td>\n",
       "      <td>FlowStaff</td>\n",
       "      <td>5.0</td>\n",
       "      <td>5.0</td>\n",
       "      <td>0.05</td>\n",
       "      <td>20</td>\n",
       "    </tr>\n",
       "    <tr>\n",
       "      <th>8</th>\n",
       "      <td>Conclude</td>\n",
       "      <td>Checkout</td>\n",
       "      <td>CSR</td>\n",
       "      <td>5.0</td>\n",
       "      <td>5.0</td>\n",
       "      <td>0.10</td>\n",
       "      <td>5</td>\n",
       "    </tr>\n",
       "  </tbody>\n",
       "</table>\n",
       "</div>"
      ],
      "text/plain": [
       "            Step           Process      Staff  Time_Mean  Time_WorstCase  \\\n",
       "0         Arrive          Check_in        CSR        2.0             3.0   \n",
       "4      Exam_prep  Refine_complaint  FlowStaff       15.0            15.0   \n",
       "6  Exam_provider              Exam     Doctor        NaN             NaN   \n",
       "7  Exam_followup         Follow_up  FlowStaff        5.0             5.0   \n",
       "8       Conclude          Checkout        CSR        5.0             5.0   \n",
       "\n",
       "   Perc_WorstCase  Servers  \n",
       "0            0.05        5  \n",
       "4            0.20       20  \n",
       "6             NaN        9  \n",
       "7            0.05       20  \n",
       "8            0.10        5  "
      ]
     },
     "execution_count": 1031,
     "metadata": {},
     "output_type": "execute_result"
    }
   ],
   "source": [
    "print ('Variability steps')\n",
    "variable_steps"
   ]
  },
  {
   "cell_type": "code",
   "execution_count": 1032,
   "metadata": {},
   "outputs": [
    {
     "data": {
      "text/html": [
       "<div>\n",
       "<style scoped>\n",
       "    .dataframe tbody tr th:only-of-type {\n",
       "        vertical-align: middle;\n",
       "    }\n",
       "\n",
       "    .dataframe tbody tr th {\n",
       "        vertical-align: top;\n",
       "    }\n",
       "\n",
       "    .dataframe thead th {\n",
       "        text-align: right;\n",
       "    }\n",
       "</style>\n",
       "<table border=\"1\" class=\"dataframe\">\n",
       "  <thead>\n",
       "    <tr style=\"text-align: right;\">\n",
       "      <th></th>\n",
       "      <th>Type</th>\n",
       "      <th>Frequency</th>\n",
       "      <th>Time_Mean</th>\n",
       "      <th>Time_WorstCase</th>\n",
       "      <th>Perc_WorstCase</th>\n",
       "    </tr>\n",
       "  </thead>\n",
       "  <tbody>\n",
       "    <tr>\n",
       "      <th>0</th>\n",
       "      <td>Preventative</td>\n",
       "      <td>0.2</td>\n",
       "      <td>30</td>\n",
       "      <td>30</td>\n",
       "      <td>0.05</td>\n",
       "    </tr>\n",
       "    <tr>\n",
       "      <th>1</th>\n",
       "      <td>Chronic</td>\n",
       "      <td>0.6</td>\n",
       "      <td>30</td>\n",
       "      <td>30</td>\n",
       "      <td>0.10</td>\n",
       "    </tr>\n",
       "    <tr>\n",
       "      <th>2</th>\n",
       "      <td>Acute</td>\n",
       "      <td>0.2</td>\n",
       "      <td>15</td>\n",
       "      <td>5</td>\n",
       "      <td>0.05</td>\n",
       "    </tr>\n",
       "  </tbody>\n",
       "</table>\n",
       "</div>"
      ],
      "text/plain": [
       "           Type  Frequency  Time_Mean  Time_WorstCase  Perc_WorstCase\n",
       "0  Preventative        0.2         30              30            0.05\n",
       "1       Chronic        0.6         30              30            0.10\n",
       "2         Acute        0.2         15               5            0.05"
      ]
     },
     "execution_count": 1032,
     "metadata": {},
     "output_type": "execute_result"
    }
   ],
   "source": [
    "# Data table for drawing service times for patients\n",
    "cols = ['Type', 'Frequency', 'Time_Mean', 'Time_WorstCase', 'Perc_WorstCase']\n",
    "preventative = ['Preventative', 0.2, 30, 30, low]\n",
    "chronic = ['Chronic', 0.6, 30, 30, medium]\n",
    "acute = ['Acute', 0.2, 15, 5, low]\n",
    "base_case_types = pd.DataFrame([preventative, chronic, acute], columns = cols)\n",
    "base_case_types"
   ]
  },
  {
   "cell_type": "code",
   "execution_count": 1033,
   "metadata": {},
   "outputs": [],
   "source": [
    "# Arrivals to be modeled as poisson, scaling down to minute arrivals\n",
    "arrivals_day = 125\n",
    "arrivals_hour = arrivals_day / 10\n",
    "arrivals_minute = arrivals_hour / 60\n",
    "arrivals_quarterhour = arrivals_hour / 4\n",
    "arrivals_quarterhour_sigma = 0.5"
   ]
  },
  {
   "cell_type": "code",
   "execution_count": 1034,
   "metadata": {},
   "outputs": [],
   "source": [
    "# Model full day of continuous operations\n",
    "# Minutes are periods for analysis\n",
    "# NOTE: Might need to adjust for morning / afternoon periods as two separate patient service time windows\n",
    "hours = 10\n",
    "n_periods = 60 * hours"
   ]
  },
  {
   "cell_type": "code",
   "execution_count": 1035,
   "metadata": {},
   "outputs": [
    {
     "data": {
      "text/plain": [
       "['Check_in', 'Refine_complaint', 'Exam', 'Follow_up', 'Checkout']"
      ]
     },
     "execution_count": 1035,
     "metadata": {},
     "output_type": "execute_result"
    }
   ],
   "source": [
    "# List of processes to be cycled through\n",
    "processes_with_variability = variable_steps['Process'].to_list()\n",
    "processes_with_variability"
   ]
  },
  {
   "cell_type": "markdown",
   "metadata": {},
   "source": [
    "## Looped model"
   ]
  },
  {
   "cell_type": "markdown",
   "metadata": {},
   "source": [
    "The full process is set up as a linear flow within each period loop, to enable all steps to run side-by-side in the same system flow.\n",
    "\n",
    "**Key change:** `if`/`else` statement at beginning around introducing new arrivals.\n",
    "\n",
    "```for p in n_periods :\n",
    "    if p == quarter_hour :\n",
    "        bring new arrival\n",
    "    else :\n",
    "        no new arrivals to system  \n",
    "    check_in [VARIABLE]\n",
    "    waiting_room [PASS_THROUGH]\n",
    "    to_exam_room [PASS_THROUGH]\n",
    "    vitals_check [PASS_THROUGH]\n",
    "    refine_complaint [VARIABLE]\n",
    "    start_note [PASS_THROUGH]\n",
    "    follow_up [VARIABLE]\n",
    "    exam [VARIABLE]\n",
    "    checkout [VARIABLE]\n",
    "```\n",
    "\n",
    "The point of view of the process is the server. There are four servers in the system: `CSR`, `FlowStaff`, `Doctor`, `Nurse`.\n",
    "\n",
    "Steps marked `[VARIABLE]` consider variability in service times and are therefore where queue build up will originate.\n",
    "\n",
    "Steps marked `[PASS_THROUGH]` are of fixed time and are assumed to not contribute directly to queue build up. Service time at these steps is added as a fixed amount to the variable service time associated with that step's `server`.\n",
    "\n",
    "Once patients are marked as completing a step, they will be progressed to the next step.\n",
    "\n",
    "New arrivals only enter the system at `check_in`. Final exits only occur after `checkout`.\n",
    "\n",
    "Holding arrays / dictionaries need to be initialized for each step before the periods loop is started.\n",
    "\n",
    "Each step has a unique set of holding arrays / dictionaries *except* `follow_up`, which uses the same service dictionary as `refine_complaint` because it is the same staff conducting each step."
   ]
  },
  {
   "cell_type": "code",
   "execution_count": 1036,
   "metadata": {},
   "outputs": [],
   "source": [
    "# Holders for check_in step\n",
    "\n",
    "arrivals_per_15 = np.empty(shape = n_periods)\n",
    "\n",
    "servers_check_in =\\\n",
    "    variable_steps.loc[variable_steps['Process'] == processes_with_variability[0], 'Servers'].item()\n",
    "\n",
    "server_dict_check_in, waiting_dict_check_in, serve_time_track_dict_check_in,\\\n",
    "    waiting_time_list_check_in, service_times_completed_list_check_in, service_completed_check_in,\\\n",
    "    tracker_check_in = generate_step_objects(servers_check_in, n_periods)\n",
    "\n",
    "# Holders for refine_complaint step\n",
    "servers_refine_complaint =\\\n",
    "    variable_steps.loc[variable_steps['Process'] == processes_with_variability[1], 'Servers'].item()\n",
    "\n",
    "server_dict_refine_complaint, waiting_dict_refine_complaint, serve_time_track_dict_refine_complaint,\\\n",
    "    waiting_time_list_refine_complaint, service_times_completed_list_refine_complaint,\\\n",
    "    service_completed_refine_complaint, tracker_refine_complaint =\\\n",
    "    generate_step_objects(servers_refine_complaint, n_periods)\n",
    "\n",
    "# Holders for exam step\n",
    "servers_exam = variable_steps.loc[variable_steps['Process'] == processes_with_variability[2], 'Servers'].item()\n",
    "\n",
    "server_dict_exam, waiting_dict_exam, serve_time_track_dict_exam,\\\n",
    "    waiting_time_list_exam, service_times_completed_list_exam, service_completed_exam, tracker_exam\\\n",
    "    = generate_step_objects(servers_exam, n_periods)\n",
    "\n",
    "# Holders for follow_up step\n",
    "servers_follow_up = variable_steps.loc[variable_steps['Process'] == processes_with_variability[3], 'Servers'].item()\n",
    "\n",
    "server_dict_follow_up, waiting_dict_follow_up, serve_time_track_dict_follow_up,\\\n",
    "    waiting_time_list_follow_up, service_times_completed_list_follow_up, service_completed_follow_up,\\\n",
    "    tracker_follow_up = generate_step_objects(servers_follow_up, n_periods)\n",
    "\n",
    "# Holders for checkout step\n",
    "servers_checkout =\\\n",
    "    variable_steps.loc[variable_steps['Process'] == processes_with_variability[4], 'Servers'].item()\n",
    "\n",
    "server_dict_checkout, waiting_dict_checkout, serve_time_track_dict_checkout,\\\n",
    "    waiting_time_list_checkout, service_times_completed_list_checkout, service_completed_checkout,\\\n",
    "    tracker_checkout = generate_step_objects(servers_checkout, n_periods)"
   ]
  },
  {
   "cell_type": "code",
   "execution_count": 1037,
   "metadata": {},
   "outputs": [],
   "source": [
    "for p in range(n_periods) :\n",
    "    \n",
    "    # check_in step\n",
    "#     # ===== Set number of arrivals for testing =====\n",
    "#     n_arrivals_check_in = 1\n",
    "    \n",
    "#     # ===== Modeled as normal =====\n",
    "#     if p % 15 == 0 :\n",
    "#         n_arrivals_check_in = round(np.random.normal(arrivals_quarterhour, arrivals_quarterhour_sigma))\n",
    "#     else :\n",
    "#         n_arrivals_check_in = 0\n",
    "\n",
    "    # ===== Modeled as poisson =====\n",
    "    if p % 15 == 0 :\n",
    "        n_arrivals_check_in = np.random.poisson(arrivals_quarterhour)\n",
    "    else :\n",
    "        n_arrivals_check_in = 0\n",
    "\n",
    "    arrivals_per_15[p] = n_arrivals_check_in\n",
    "        \n",
    "    server_dict_check_in, service_completed_check_in, service_times_completed_list_check_in = \\\n",
    "        mark_service_time(server_dict_check_in, service_completed_check_in, serve_time_track_dict_check_in,\\\n",
    "                          service_times_completed_list_check_in)\n",
    "    n_servers_free_check_in = check_servers_free(server_dict_check_in)\n",
    "    from_wait_list_check_in, from_new_arrivals_check_in = how_many_to_move_from_where(waiting_dict_check_in,\\\n",
    "                                                              n_servers_free_check_in, n_arrivals_check_in)\n",
    "    if from_wait_list_check_in > 0 :\n",
    "        waiting_dict_check_in, server_dict_check_in, waiting_time_list_check_in, serve_time_track_dict_check_in\\\n",
    "            = move_from_wait_list_to_service(waiting_dict_check_in, server_dict_check_in,\\\n",
    "                                             from_wait_list_check_in, waiting_time_list_check_in,\\\n",
    "                                             serve_time_track_dict_check_in, processes_with_variability[0])\n",
    "    if from_new_arrivals_check_in > 0 :\n",
    "        server_dict_check_in, n_arrivals_placed_check_in, serve_time_track_dict_check_in = \\\n",
    "            move_from_arrival_to_service(server_dict_check_in, n_arrivals_check_in, from_new_arrivals_check_in,\\\n",
    "                                         serve_time_track_dict_check_in, processes_with_variability[0])\n",
    "    else :\n",
    "        n_arrivals_placed_check_in = 0\n",
    "    waiting_dict_check_in = {k:v + 1 for k, v in waiting_dict_check_in.items()}\n",
    "    waiting_dict_check_in = add_to_wait_list(waiting_dict_check_in, n_arrivals_check_in,\\\n",
    "                                             n_arrivals_placed_check_in)\n",
    "    tracker_check_in[p] = [n_arrivals_check_in, servers_check_in - \\\n",
    "                           [v for v in server_dict_check_in.values()].count(np.nan),\\\n",
    "                           len(waiting_dict_check_in.keys()), service_completed_check_in]    \n",
    "    \n",
    "    # refine_complaint step, plus pass_through steps of waiting_room, to_exam_room, vitals_check, start_note\n",
    "    n_arrivals_refine_complaint = service_completed_check_in\n",
    "    service_completed_check_in = 0 # Reset counter to 0 for next transition\n",
    "    flowstaff_servers_free = available_flow_staff(server_dict_refine_complaint, server_dict_follow_up)\n",
    "    server_dict_refine_complaint, service_completed_refine_complaint,\\\n",
    "        service_times_completed_list_refine_complaint = mark_service_time(server_dict_refine_complaint,\\\n",
    "        service_completed_refine_complaint, serve_time_track_dict_refine_complaint,\\\n",
    "        service_times_completed_list_refine_complaint)\n",
    "    n_servers_free_refine_complaint = check_servers_free(server_dict_refine_complaint)\n",
    "    flowstaff_servers_free = available_flow_staff(server_dict_refine_complaint, server_dict_follow_up)\n",
    "    from_wait_list_refine_complaint, from_new_arrivals_refine_complaint = how_many_to_move_from_where(\\\n",
    "        waiting_dict_refine_complaint, n_servers_free_refine_complaint, n_arrivals_refine_complaint)\n",
    "    if from_wait_list_refine_complaint > 0 :\n",
    "        waiting_dict_refine_complaint, server_dict_refine_complaint, waiting_time_list_refine_complaint,\\\n",
    "            serve_time_track_dict_refine_complaint = move_from_wait_list_to_service(\\\n",
    "            waiting_dict_refine_complaint, server_dict_refine_complaint, from_wait_list_refine_complaint,\\\n",
    "            waiting_time_list_refine_complaint, serve_time_track_dict_refine_complaint,\\\n",
    "            processes_with_variability[1], empty_servers = flowstaff_servers_free)\n",
    "    flowstaff_servers_free = available_flow_staff(server_dict_refine_complaint, server_dict_follow_up)\n",
    "    if from_new_arrivals_refine_complaint > 0 :\n",
    "        server_dict_refine_complaint, n_arrivals_placed_refine_complaint, serve_time_track_dict_refine_complaint\\\n",
    "            = move_from_arrival_to_service(server_dict_refine_complaint, n_arrivals_refine_complaint,\\\n",
    "               from_new_arrivals_refine_complaint, serve_time_track_dict_refine_complaint,\\\n",
    "               processes_with_variability[1], empty_servers = flowstaff_servers_free)\n",
    "    else :\n",
    "        n_arrivals_placed_refine_complaint = 0\n",
    "    flowstaff_servers_free = available_flow_staff(server_dict_refine_complaint, server_dict_follow_up)\n",
    "    waiting_dict_refine_complaint = {k:v + 1 for k, v in waiting_dict_refine_complaint.items()}\n",
    "    waiting_dict_refine_complaint = add_to_wait_list(waiting_dict_refine_complaint, n_arrivals_refine_complaint,\\\n",
    "                                             n_arrivals_placed_refine_complaint)\n",
    "    tracker_refine_complaint[p] = [n_arrivals_refine_complaint, servers_refine_complaint - \\\n",
    "                           [v for v in server_dict_refine_complaint.values()].count(np.nan),\\\n",
    "                           len(waiting_dict_refine_complaint.keys()), service_completed_refine_complaint]    \n",
    " \n",
    "    # exam step\n",
    "    n_arrivals_exam = service_completed_refine_complaint\n",
    "    service_completed_refine_complaint = 0 # Reset counter to 0 for next transition\n",
    "    server_dict_exam, service_completed_exam,\\\n",
    "        service_times_completed_list_exam = mark_service_time(server_dict_exam,\\\n",
    "        service_completed_exam, serve_time_track_dict_exam,\\\n",
    "        service_times_completed_list_exam)\n",
    "    n_servers_free_exam = check_servers_free(server_dict_exam)\n",
    "    from_wait_list_exam, from_new_arrivals_exam = how_many_to_move_from_where(\\\n",
    "        waiting_dict_exam, n_servers_free_exam, n_arrivals_exam)\n",
    "    if from_wait_list_exam > 0 :\n",
    "        waiting_dict_exam, server_dict_exam, waiting_time_list_exam,\\\n",
    "            serve_time_track_dict_exam = move_from_wait_list_to_service(\\\n",
    "            waiting_dict_exam, server_dict_exam, from_wait_list_exam,\\\n",
    "            waiting_time_list_exam, serve_time_track_dict_exam,\\\n",
    "            processes_with_variability[2])\n",
    "    if from_new_arrivals_exam > 0 :\n",
    "        server_dict_exam, n_arrivals_placed_exam, serve_time_track_dict_exam\\\n",
    "            = move_from_arrival_to_service(server_dict_exam, n_arrivals_exam,\\\n",
    "               from_new_arrivals_exam, serve_time_track_dict_exam,\\\n",
    "               processes_with_variability[2])\n",
    "    else :\n",
    "        n_arrivals_placed_exam = 0\n",
    "    waiting_dict_exam = {k:v + 1 for k, v in waiting_dict_exam.items()}\n",
    "    waiting_dict_exam = add_to_wait_list(waiting_dict_exam, n_arrivals_exam,\\\n",
    "                                             n_arrivals_placed_exam)\n",
    "    tracker_exam[p] = [n_arrivals_exam, servers_exam - \\\n",
    "                           [v for v in server_dict_exam.values()].count(np.nan),\\\n",
    "                           len(waiting_dict_exam.keys()), service_completed_exam]    \n",
    "\n",
    "    # follow_up step\n",
    "    n_arrivals_follow_up = service_completed_exam\n",
    "    service_completed_exam = 0 # Reset counter to 0 for next transition\n",
    "    flowstaff_servers_free = available_flow_staff(server_dict_refine_complaint, server_dict_follow_up)\n",
    "    server_dict_follow_up, service_completed_follow_up,\\\n",
    "        service_times_completed_list_follow_up = mark_service_time(server_dict_follow_up,\\\n",
    "        service_completed_follow_up, serve_time_track_dict_follow_up,\\\n",
    "        service_times_completed_list_follow_up)\n",
    "    n_servers_free_follow_up = check_servers_free(server_dict_follow_up)\n",
    "    from_wait_list_follow_up, from_new_arrivals_follow_up = how_many_to_move_from_where(\\\n",
    "        waiting_dict_follow_up, n_servers_free_follow_up, n_arrivals_follow_up)\n",
    "    flowstaff_servers_free = available_flow_staff(server_dict_refine_complaint, server_dict_follow_up)\n",
    "    if from_wait_list_follow_up > 0 :\n",
    "        waiting_dict_follow_up, server_dict_follow_up, waiting_time_list_follow_up,\\\n",
    "            serve_time_track_dict_follow_up = move_from_wait_list_to_service(\\\n",
    "            waiting_dict_follow_up, server_dict_follow_up, from_wait_list_follow_up,\\\n",
    "            waiting_time_list_follow_up, serve_time_track_dict_follow_up,\\\n",
    "            processes_with_variability[3], empty_servers = flowstaff_servers_free)\n",
    "    flowstaff_servers_free = available_flow_staff(server_dict_refine_complaint, server_dict_follow_up)\n",
    "    if from_new_arrivals_follow_up > 0 :\n",
    "        server_dict_follow_up, n_arrivals_placed_follow_up, serve_time_track_dict_follow_up\\\n",
    "            = move_from_arrival_to_service(server_dict_follow_up, n_arrivals_follow_up,\\\n",
    "               from_new_arrivals_follow_up, serve_time_track_dict_follow_up,\\\n",
    "               processes_with_variability[3], empty_servers = flowstaff_servers_free)\n",
    "    else :\n",
    "        n_arrivals_placed_follow_up = 0\n",
    "    flowstaff_servers_free = available_flow_staff(server_dict_refine_complaint, server_dict_follow_up)\n",
    "    waiting_dict_follow_up = {k:v + 1 for k, v in waiting_dict_follow_up.items()}\n",
    "    waiting_dict_follow_up = add_to_wait_list(waiting_dict_follow_up, n_arrivals_follow_up,\\\n",
    "                                             n_arrivals_placed_follow_up)\n",
    "    tracker_follow_up[p] = [n_arrivals_follow_up, servers_follow_up - \\\n",
    "                           [v for v in server_dict_follow_up.values()].count(np.nan),\\\n",
    "                           len(waiting_dict_follow_up.keys()), service_completed_follow_up]    \n",
    "\n",
    "    # checkout step\n",
    "    n_arrivals_checkout = service_completed_follow_up\n",
    "    service_completed_follow_up = 0 # Reset counter to 0 for next transition\n",
    "    server_dict_checkout, service_completed_checkout,\\\n",
    "        service_times_completed_list_checkout = mark_service_time(server_dict_checkout,\\\n",
    "        service_completed_checkout, serve_time_track_dict_checkout,\\\n",
    "        service_times_completed_list_checkout)\n",
    "    n_servers_free_checkout = check_servers_free(server_dict_checkout)\n",
    "    from_wait_list_checkout, from_new_arrivals_checkout = how_many_to_move_from_where(\\\n",
    "        waiting_dict_checkout, n_servers_free_checkout, n_arrivals_checkout)\n",
    "    if from_wait_list_checkout > 0 :\n",
    "        waiting_dict_checkout, server_dict_checkout, waiting_time_list_checkout,\\\n",
    "            serve_time_track_dict_checkout = move_from_wait_list_to_service(\\\n",
    "            waiting_dict_checkout, server_dict_checkout, from_wait_list_checkout,\\\n",
    "            waiting_time_list_checkout, serve_time_track_dict_checkout,\\\n",
    "            processes_with_variability[4])\n",
    "    if from_new_arrivals_checkout > 0 :\n",
    "        server_dict_checkout, n_arrivals_placed_checkout, serve_time_track_dict_checkout\\\n",
    "            = move_from_arrival_to_service(server_dict_checkout, n_arrivals_checkout,\\\n",
    "               from_new_arrivals_checkout, serve_time_track_dict_checkout,\\\n",
    "               processes_with_variability[4])\n",
    "    else :\n",
    "        n_arrivals_placed_checkout = 0\n",
    "    waiting_dict_checkout = {k:v + 1 for k, v in waiting_dict_checkout.items()}\n",
    "    waiting_dict_checkout = add_to_wait_list(waiting_dict_checkout, n_arrivals_checkout,\\\n",
    "                                             n_arrivals_placed_checkout)\n",
    "    tracker_checkout[p] = [n_arrivals_checkout, servers_checkout - \\\n",
    "                           [v for v in server_dict_checkout.values()].count(np.nan),\\\n",
    "                           len(waiting_dict_checkout.keys()), service_completed_checkout]  \n",
    "    service_completed_checkout = 0"
   ]
  },
  {
   "cell_type": "markdown",
   "metadata": {},
   "source": [
    "## Analysis and visualization"
   ]
  },
  {
   "cell_type": "code",
   "execution_count": 1038,
   "metadata": {},
   "outputs": [],
   "source": [
    "# Trackers to dataframes\n",
    "check_in = pd.DataFrame(tracker_check_in, columns = ['Arrivals', 'Serving', 'Waiting', 'Completed'])\n",
    "check_in['Completed_cumu'] = check_in['Completed'].cumsum()\n",
    "check_in['Process'] = processes_with_variability[0]\n",
    "refine_complaint = pd.DataFrame(tracker_refine_complaint, columns = ['Arrivals', 'Serving', 'Waiting', 'Completed'])\n",
    "refine_complaint['Completed_cumu'] = refine_complaint['Completed'].cumsum()\n",
    "refine_complaint['Process'] = processes_with_variability[1]\n",
    "exam = pd.DataFrame(tracker_exam, columns = ['Arrivals', 'Serving', 'Waiting', 'Completed'])\n",
    "exam['Completed_cumu'] = exam['Completed'].cumsum()\n",
    "exam['Process'] = processes_with_variability[2]\n",
    "followup = pd.DataFrame(tracker_follow_up, columns = ['Arrivals', 'Serving', 'Waiting', 'Completed'])\n",
    "followup['Completed_cumu'] = followup['Completed'].cumsum()\n",
    "followup['Process'] = processes_with_variability[3]\n",
    "checkout = pd.DataFrame(tracker_checkout, columns = ['Arrivals', 'Serving', 'Waiting', 'Completed'])\n",
    "checkout['Completed_cumu'] = checkout['Completed'].cumsum()\n",
    "checkout['Process'] = processes_with_variability[3]"
   ]
  },
  {
   "cell_type": "code",
   "execution_count": 1039,
   "metadata": {},
   "outputs": [],
   "source": [
    "periods = np.arange(0, n_periods)"
   ]
  },
  {
   "cell_type": "code",
   "execution_count": 1040,
   "metadata": {},
   "outputs": [],
   "source": [
    "# Summary stats for check_in\n",
    "arrived_check_in_final = check_in['Arrivals'].sum()\n",
    "served_check_in_final = check_in['Completed'].sum()\n",
    "mean_service_time_check_in_final = np.mean(service_times_completed_list_check_in)\n",
    "mean_patients_waiting_check_in_final = check_in['Waiting'].mean()\n",
    "mean_waiting_time_check_in_final = np.sum(waiting_time_list_check_in) / served_check_in_final"
   ]
  },
  {
   "cell_type": "code",
   "execution_count": 1041,
   "metadata": {},
   "outputs": [
    {
     "name": "stdout",
     "output_type": "stream",
     "text": [
      "=== CHECK_IN ===\n",
      "\n",
      "Total arrived: 120.0\n",
      "Average 15 min arrivals: 3.08\n",
      "Total served: 120.0\n",
      "Mean service time: 2.22\n",
      "Mean n_patients waiting: 0.00\n",
      "Mean waiting time: 0.02\n",
      "Mean time in system: 2.23\n",
      "Mean waiting time for those who waited: 2.00\n"
     ]
    },
    {
     "data": {
      "image/png": "[encoded data removed]",
      "text/plain": [
       "<Figure size 1008x324 with 1 Axes>"
      ]
     },
     "metadata": {
      "needs_background": "light"
     },
     "output_type": "display_data"
    }
   ],
   "source": [
    "print ('===',processes_with_variability[0].upper(),'===\\n')\n",
    "print ('Total arrived: {}'.format(arrived_check_in_final))\n",
    "print ('Average 15 min arrivals: {:.2f}'.format(np.mean(arrivals_per_15[arrivals_per_15 > 0])))\n",
    "print ('Total served: {}'.format(served_check_in_final))\n",
    "print ('Mean service time: {:.2f}'.format(mean_service_time_check_in_final))\n",
    "print ('Mean n_patients waiting: {:.2f}'.format(mean_patients_waiting_check_in_final))\n",
    "print ('Mean waiting time: {:.2f}'.format(mean_waiting_time_check_in_final))\n",
    "print ('Mean time in system: {:.2f}'.format(mean_waiting_time_check_in_final + mean_service_time_check_in_final))\n",
    "print ('Mean waiting time for those who waited: {:.2f}'.format(np.mean(waiting_time_list_check_in)))\n",
    "\n",
    "fig, ax1 = plt.subplots(figsize = (14, 4.5))\n",
    "\n",
    "ax1.step(periods, check_in['Arrivals'], c = 'orange', label = 'Arrivals')\n",
    "ax1.step(periods, check_in['Serving'], c = 'blue', label = 'Serving')\n",
    "ax1.step(periods, check_in['Waiting'], c = 'red', label = 'Waiting')\n",
    "ax1.step(periods, check_in['Completed'], c = 'green', label = 'Served')\n",
    "\n",
    "ax1.axhline(servers_check_in, ls = ':', label = 'Max utilization')\n",
    "\n",
    "ax1.set_ylim(0, 25)#max(check_in.iloc[:, :-1].max().max(), servers_check_in) + 5)\n",
    "ax1.set_xlabel('Period (minutes)')\n",
    "ax1.set_ylabel('Number (n_servers = {})'.format(servers_check_in))\n",
    "ax1.set_title(processes_with_variability[0].upper())\n",
    "\n",
    "plt.legend(bbox_to_anchor = (1, 1))\n",
    "plt.show()"
   ]
  },
  {
   "cell_type": "code",
   "execution_count": 1042,
   "metadata": {},
   "outputs": [],
   "source": [
    "# Summary stats for refine_complaint\n",
    "arrived_refine_complaint_final = refine_complaint['Arrivals'].sum()\n",
    "served_refine_complaint_final = refine_complaint['Completed'].sum()\n",
    "mean_service_time_refine_complaint_final = np.mean(service_times_completed_list_refine_complaint)\n",
    "mean_patients_waiting_refine_complaint_final = refine_complaint['Waiting'].mean()\n",
    "mean_waiting_time_refine_complaint_final = np.sum(waiting_time_list_refine_complaint)\\\n",
    "                                            / served_refine_complaint_final"
   ]
  },
  {
   "cell_type": "code",
   "execution_count": 1043,
   "metadata": {},
   "outputs": [
    {
     "name": "stdout",
     "output_type": "stream",
     "text": [
      "=== REFINE_COMPLAINT ===\n",
      "\n",
      "Total arrived: 120.0\n",
      "Total served: 116.0\n",
      "Mean service time: 25.05\n",
      "Mean n_patients waiting: 0.00\n",
      "Mean waiting time: 0.00\n",
      "Mean time in system: 25.05\n",
      "Mean waiting time for those who waited: nan\n"
     ]
    },
    {
     "data": {
      "image/png": "[encoded data removed]",
      "text/plain": [
       "<Figure size 1008x324 with 1 Axes>"
      ]
     },
     "metadata": {
      "needs_background": "light"
     },
     "output_type": "display_data"
    }
   ],
   "source": [
    "print ('===',processes_with_variability[1].upper(),'===\\n')\n",
    "print ('Total arrived: {}'.format(arrived_refine_complaint_final))\n",
    "print ('Total served: {}'.format(served_refine_complaint_final))\n",
    "print ('Mean service time: {:.2f}'.format(mean_service_time_refine_complaint_final))\n",
    "print ('Mean n_patients waiting: {:.2f}'.format(mean_patients_waiting_refine_complaint_final))\n",
    "print ('Mean waiting time: {:.2f}'.format(mean_waiting_time_refine_complaint_final))\n",
    "print ('Mean time in system: {:.2f}'.format(mean_waiting_time_refine_complaint_final\\\n",
    "                                            + mean_service_time_refine_complaint_final))\n",
    "print ('Mean waiting time for those who waited: {:.2f}'.format(np.mean(waiting_time_list_refine_complaint)))\n",
    "\n",
    "fig, ax1 = plt.subplots(figsize = (14, 4.5))\n",
    "\n",
    "ax1.step(periods, refine_complaint['Arrivals'], c = 'orange', label = 'Arrivals')\n",
    "ax1.step(periods, refine_complaint['Serving'], c = 'blue', label = 'Serving')\n",
    "ax1.step(periods, refine_complaint['Waiting'], c = 'red', label = 'Waiting')\n",
    "ax1.step(periods, refine_complaint['Completed'], c = 'green', label = 'Served')\n",
    "\n",
    "ax1.axhline(servers_refine_complaint, ls = ':', label = 'Max utilization')\n",
    "\n",
    "ax1.set_ylim(0, 25)#max(refine_complaint.iloc[:, :-1].max().max(), servers_refine_complaint) + 5)\n",
    "ax1.set_xlabel('Period (minutes)')\n",
    "ax1.set_ylabel('Number (n_servers = {})'.format(servers_refine_complaint))\n",
    "ax1.set_title(processes_with_variability[1].upper())\n",
    "\n",
    "plt.legend(bbox_to_anchor = (1, 1))\n",
    "plt.show()"
   ]
  },
  {
   "cell_type": "code",
   "execution_count": 1044,
   "metadata": {},
   "outputs": [],
   "source": [
    "# Summary stats for exam\n",
    "arrived_exam_final = exam['Arrivals'].sum()\n",
    "served_exam_final = exam['Completed'].sum()\n",
    "mean_service_time_exam_final = np.mean(service_times_completed_list_exam)\n",
    "mean_patients_waiting_exam_final = exam['Waiting'].mean()\n",
    "mean_waiting_time_exam_final = np.sum(waiting_time_list_exam) / served_exam_final"
   ]
  },
  {
   "cell_type": "code",
   "execution_count": 1045,
   "metadata": {},
   "outputs": [
    {
     "name": "stdout",
     "output_type": "stream",
     "text": [
      "=== EXAM ===\n",
      "\n",
      "Total arrived: 116.0\n",
      "Total served: 108.0\n",
      "Mean service time: 30.46\n",
      "Mean n_patients waiting: 0.04\n",
      "Mean waiting time: 0.19\n",
      "Mean time in system: 30.65\n",
      "Mean waiting time for those who waited: 5.25\n"
     ]
    },
    {
     "data": {
      "image/png": "[encoded data removed]",
      "text/plain": [
       "<Figure size 1008x324 with 1 Axes>"
      ]
     },
     "metadata": {
      "needs_background": "light"
     },
     "output_type": "display_data"
    }
   ],
   "source": [
    "print ('===',processes_with_variability[2].upper(),'===\\n')\n",
    "print ('Total arrived: {}'.format(arrived_exam_final))\n",
    "print ('Total served: {}'.format(served_exam_final))\n",
    "print ('Mean service time: {:.2f}'.format(mean_service_time_exam_final))\n",
    "print ('Mean n_patients waiting: {:.2f}'.format(mean_patients_waiting_exam_final))\n",
    "print ('Mean waiting time: {:.2f}'.format(mean_waiting_time_exam_final))\n",
    "print ('Mean time in system: {:.2f}'.format(mean_waiting_time_exam_final + mean_service_time_exam_final))\n",
    "print ('Mean waiting time for those who waited: {:.2f}'.format(np.mean(waiting_time_list_exam)))\n",
    "\n",
    "fig, ax1 = plt.subplots(figsize = (14, 4.5))\n",
    "\n",
    "ax1.step(periods, exam['Arrivals'], c = 'orange', label = 'Arrivals')\n",
    "ax1.step(periods, exam['Serving'], c = 'blue', label = 'Serving')\n",
    "ax1.step(periods, exam['Waiting'], c = 'red', label = 'Waiting')\n",
    "ax1.step(periods, exam['Completed'], c = 'green', label = 'Served')\n",
    "\n",
    "ax1.axhline(servers_exam, ls = ':', label = 'Max utilization')\n",
    "\n",
    "ax1.set_ylim(0, 25)#max(exam.iloc[:, :-1].max().max(), servers_exam) + 5)\n",
    "ax1.set_xlabel('Period (minutes)')\n",
    "ax1.set_ylabel('Number (n_servers = {})'.format(servers_exam))\n",
    "ax1.set_title(processes_with_variability[2].upper())\n",
    "\n",
    "plt.legend(bbox_to_anchor = (1, 1))\n",
    "plt.show()"
   ]
  },
  {
   "cell_type": "code",
   "execution_count": 1046,
   "metadata": {},
   "outputs": [],
   "source": [
    "# Summary stats for follow_up\n",
    "arrived_follow_up_final = followup['Arrivals'].sum()\n",
    "served_follow_up_final = followup['Completed'].sum()\n",
    "mean_service_time_follow_up_final = np.mean(service_times_completed_list_follow_up)\n",
    "mean_patients_waiting_follow_up_final = followup['Waiting'].mean()\n",
    "mean_waiting_time_follow_up_final = np.sum(waiting_time_list_follow_up) / served_follow_up_final"
   ]
  },
  {
   "cell_type": "code",
   "execution_count": 1047,
   "metadata": {},
   "outputs": [
    {
     "name": "stdout",
     "output_type": "stream",
     "text": [
      "=== FOLLOW_UP ===\n",
      "\n",
      "Total arrived: 108.0\n",
      "Total served: 106.0\n",
      "Mean service time: 5.21\n",
      "Mean n_patients waiting: 0.00\n",
      "Mean waiting time: 0.00\n",
      "Mean time in system: 5.21\n",
      "Mean waiting time for those who waited: nan\n"
     ]
    },
    {
     "data": {
      "image/png": "[encoded data removed]",
      "text/plain": [
       "<Figure size 1008x324 with 1 Axes>"
      ]
     },
     "metadata": {
      "needs_background": "light"
     },
     "output_type": "display_data"
    }
   ],
   "source": [
    "print ('===',processes_with_variability[3].upper(),'===\\n')\n",
    "print ('Total arrived: {}'.format(arrived_follow_up_final))\n",
    "print ('Total served: {}'.format(served_follow_up_final))\n",
    "print ('Mean service time: {:.2f}'.format(mean_service_time_follow_up_final))\n",
    "print ('Mean n_patients waiting: {:.2f}'.format(mean_patients_waiting_follow_up_final))\n",
    "print ('Mean waiting time: {:.2f}'.format(mean_waiting_time_follow_up_final))\n",
    "print ('Mean time in system: {:.2f}'.format(mean_waiting_time_follow_up_final + mean_service_time_follow_up_final))\n",
    "print ('Mean waiting time for those who waited: {:.2f}'.format(np.mean(waiting_time_list_follow_up)))\n",
    "\n",
    "fig, ax1 = plt.subplots(figsize = (14, 4.5))\n",
    "\n",
    "ax1.step(periods, followup['Arrivals'], c = 'orange', label = 'Arrivals')\n",
    "ax1.step(periods, followup['Serving'], c = 'blue', label = 'Serving')\n",
    "ax1.step(periods, followup['Waiting'], c = 'red', label = 'Waiting')\n",
    "ax1.step(periods, followup['Completed'], c = 'green', label = 'Served')\n",
    "\n",
    "ax1.axhline(servers_follow_up, ls = ':', label = 'Max utilization')\n",
    "\n",
    "ax1.set_ylim(0, 25)#max(checkout.iloc[:, :-1].max().max(), servers_checkout) + 5)\n",
    "ax1.set_xlabel('Period (minutes)')\n",
    "ax1.set_ylabel('Number (n_servers = {})'.format(servers_follow_up))\n",
    "ax1.set_title(processes_with_variability[3].upper())\n",
    "\n",
    "plt.legend(bbox_to_anchor = (1, 1))\n",
    "plt.show()"
   ]
  },
  {
   "cell_type": "code",
   "execution_count": 1048,
   "metadata": {},
   "outputs": [],
   "source": [
    "# Summary stats for checkout\n",
    "arrived_checkout_final = checkout['Arrivals'].sum()\n",
    "served_checkout_final = checkout['Completed'].sum()\n",
    "mean_service_time_checkout_final = np.mean(service_times_completed_list_checkout)\n",
    "mean_patients_waiting_checkout_final = checkout['Waiting'].mean()\n",
    "mean_waiting_time_checkout_final = np.sum(waiting_time_list_checkout) / served_checkout_final"
   ]
  },
  {
   "cell_type": "code",
   "execution_count": 1049,
   "metadata": {},
   "outputs": [
    {
     "name": "stdout",
     "output_type": "stream",
     "text": [
      "=== CHECKOUT ===\n",
      "\n",
      "Total arrived: 106.0\n",
      "Total served: 106.0\n",
      "Mean service time: 5.38\n",
      "Mean n_patients waiting: 0.00\n",
      "Mean waiting time: 0.00\n",
      "Mean time in system: 5.38\n",
      "Mean waiting time for those who waited: nan\n"
     ]
    },
    {
     "data": {
      "image/png": "[encoded data removed]",
      "text/plain": [
       "<Figure size 1008x324 with 1 Axes>"
      ]
     },
     "metadata": {
      "needs_background": "light"
     },
     "output_type": "display_data"
    }
   ],
   "source": [
    "print ('===',processes_with_variability[4].upper(),'===\\n')\n",
    "print ('Total arrived: {}'.format(arrived_checkout_final))\n",
    "print ('Total served: {}'.format(served_checkout_final))\n",
    "print ('Mean service time: {:.2f}'.format(mean_service_time_checkout_final))\n",
    "print ('Mean n_patients waiting: {:.2f}'.format(mean_patients_waiting_checkout_final))\n",
    "print ('Mean waiting time: {:.2f}'.format(mean_waiting_time_checkout_final))\n",
    "print ('Mean time in system: {:.2f}'.format(mean_waiting_time_checkout_final + mean_service_time_checkout_final))\n",
    "print ('Mean waiting time for those who waited: {:.2f}'.format(np.mean(waiting_time_list_checkout)))\n",
    "\n",
    "fig, ax1 = plt.subplots(figsize = (14, 4.5))\n",
    "\n",
    "ax1.step(periods, checkout['Arrivals'], c = 'orange', label = 'Arrivals')\n",
    "ax1.step(periods, checkout['Serving'], c = 'blue', label = 'Serving')\n",
    "ax1.step(periods, checkout['Waiting'], c = 'red', label = 'Waiting')\n",
    "ax1.step(periods, checkout['Completed'], c = 'green', label = 'Served')\n",
    "\n",
    "ax1.axhline(servers_checkout, ls = ':', label = 'Max utilization')\n",
    "\n",
    "ax1.set_ylim(0, 25)#max(checkout.iloc[:, :-1].max().max(), servers_checkout) + 5)\n",
    "ax1.set_xlabel('Period (minutes)')\n",
    "ax1.set_ylabel('Number (n_servers = {})'.format(servers_checkout))\n",
    "ax1.set_title(processes_with_variability[4].upper())\n",
    "\n",
    "plt.legend(bbox_to_anchor = (1, 1))\n",
    "plt.show()"
   ]
  },
  {
   "cell_type": "code",
   "execution_count": 1050,
   "metadata": {},
   "outputs": [
    {
     "name": "stdout",
     "output_type": "stream",
     "text": [
      "Mean time check_in: 2.23\n",
      "Mean time waiting room -> refine complaint: 25.05\n",
      "Mean time exam: 30.65\n",
      "Mean time follow_up: 5.21\n",
      "Mean time checkout: 5.38\n",
      "Mean time TOTAL: 68.52\n"
     ]
    }
   ],
   "source": [
    "print ('Mean time check_in: {:.2f}'.format(mean_waiting_time_check_in_final + mean_service_time_check_in_final))\n",
    "print ('Mean time waiting room -> refine complaint: {:.2f}'\\\n",
    "       .format(mean_waiting_time_refine_complaint_final + mean_service_time_refine_complaint_final))\n",
    "print ('Mean time exam: {:.2f}'.format(mean_waiting_time_exam_final + mean_service_time_exam_final))\n",
    "print ('Mean time follow_up: {:.2f}'.format(mean_waiting_time_follow_up_final + mean_service_time_follow_up_final))\n",
    "print ('Mean time checkout: {:.2f}'.format(mean_waiting_time_checkout_final + mean_service_time_checkout_final))\n",
    "total_time_in_system_final = mean_waiting_time_check_in_final + mean_service_time_check_in_final\\\n",
    "        + mean_waiting_time_refine_complaint_final + mean_service_time_refine_complaint_final\\\n",
    "        + mean_waiting_time_exam_final + mean_service_time_exam_final\\\n",
    "        + mean_waiting_time_follow_up_final + mean_service_time_follow_up_final\\\n",
    "        + mean_waiting_time_checkout_final + mean_service_time_checkout_final\n",
    "print ('Mean time TOTAL: {:.2f}'.format(total_time_in_system_final))"
   ]
  },
  {
   "cell_type": "code",
   "execution_count": 1051,
   "metadata": {},
   "outputs": [
    {
     "name": "stdout",
     "output_type": "stream",
     "text": [
      "Estimated time - preventative: 64.0\n",
      "Estimated time - chronic: 64.0\n",
      "Estimated time - acute: 49.0\n"
     ]
    }
   ],
   "source": [
    "print ('Estimated time - preventative:', process_flow['Time_Mean'].sum()\\\n",
    "                            + base_case_types.loc[base_case_types['Type'] == 'Preventative', 'Time_Mean'].item())\n",
    "print ('Estimated time - chronic:', process_flow['Time_Mean'].sum()\\\n",
    "                            + base_case_types.loc[base_case_types['Type'] == 'Chronic', 'Time_Mean'].item())\n",
    "print ('Estimated time - acute:', process_flow['Time_Mean'].sum()\\\n",
    "                            + base_case_types.loc[base_case_types['Type'] == 'Acute', 'Time_Mean'].item())"
   ]
  },
  {
   "cell_type": "code",
   "execution_count": 1015,
   "metadata": {},
   "outputs": [
    {
     "name": "stdout",
     "output_type": "stream",
     "text": [
      "Once deleted, variables cannot be recovered. Proceed (y/[n])? y\n"
     ]
    },
    {
     "name": "stderr",
     "output_type": "stream",
     "text": [
      "ERROR:root:Invalid alias: The name clear can't be aliased because it is another magic command.\n",
      "ERROR:root:Invalid alias: The name more can't be aliased because it is another magic command.\n",
      "ERROR:root:Invalid alias: The name less can't be aliased because it is another magic command.\n",
      "ERROR:root:Invalid alias: The name man can't be aliased because it is another magic command.\n"
     ]
    }
   ],
   "source": [
    "# Clear variables to re-run\n",
    "%reset"
   ]
  },
  {
   "cell_type": "code",
   "execution_count": null,
   "metadata": {},
   "outputs": [],
   "source": []
  }
 ],
 "metadata": {
  "kernelspec": {
   "display_name": "Python 3",
   "language": "python",
   "name": "python3"
  },
  "language_info": {
   "codemirror_mode": {
    "name": "ipython",
    "version": 3
   },
   "file_extension": ".py",
   "mimetype": "text/x-python",
   "name": "python",
   "nbconvert_exporter": "python",
   "pygments_lexer": "ipython3",
   "version": "3.6.8"
  }
 },
 "nbformat": 4,
 "nbformat_minor": 2
}
